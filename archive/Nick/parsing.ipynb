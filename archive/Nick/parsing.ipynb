{
 "cells": [
  {
   "cell_type": "code",
   "execution_count": 1,
   "metadata": {},
   "outputs": [],
   "source": [
    "import re\n",
    "import pandas as pd\n",
    "\n",
    "MBO_path = 'res/MBO.txt'\n",
    "TOP_path = 'res/TOP.txt'\n",
    "MBL_path = 'res/MBL.txt'\n",
    "\n",
    "def parse_txt(file_path):\n",
    "    with open(file_path, 'r') as f:\n",
    "        full_txt = f.read().splitlines()\n",
    "    full_txt = ''.join(['\\n' if x == '' else x for x in full_txt]).split('\\n')\n",
    "\n",
    "    df = pd.DataFrame()\n",
    "    for x in full_txt[2:-2]:\n",
    "\n",
    "        txt = x[x.find('{')+1:x.rfind('}')]\n",
    "        txt = txt.replace('{    }','{}').replace('{\\n    }','{}')\n",
    "        txt = re.sub('\" ','\"',txt)\n",
    "        evt = list(filter(None,re.split(',|=', ','.join(txt.split()))))\n",
    "        df = pd.concat([df,pd.DataFrame(dict(zip(evt[::2], evt[1::2])),index=[0])],ignore_index=True)\n",
    "\n",
    "    return df\n",
    "\n",
    "MBO = parse_txt(MBO_path)\n",
    "TOP = parse_txt(TOP_path)\n",
    "MBL = parse_txt(MBL_path)"
   ]
  },
  {
   "cell_type": "code",
   "execution_count": 3,
   "metadata": {},
   "outputs": [],
   "source": [
    "MBO.to_csv('res/Market_ByOrder.csv',index=False)\n",
    "TOP.to_csv('res/TopBroker.csv',index=False)\n",
    "MBL.to_csv('res/Market_ByLevel.csv',index=False)"
   ]
  },
  {
   "cell_type": "code",
   "execution_count": 210,
   "metadata": {},
   "outputs": [],
   "source": [
    "MBO = MBO[['MKTDEPTH_EVENT_SUBTYPE','MD_TABLE_CMD_RT','MBO_SEQNUM_RT','MBO_ASK_POSITION_RT','MBO_ASK_RT','MBO_ORDER_ID_RT','MBO_ASK_SIZE_RT','MBO_TIME_RT','MBO_BID_POSITION_RT','MBO_BID_RT','MBO_BID_SIZE_RT']]\n",
    "TOP = TOP[['MKTDEPTH_EVENT_SUBTYPE','MD_TABLE_CMD_RT','MBO_TIME_RT','MBO_BID_POSITION_RT','MBO_BID_RT','MBO_BID_BROKER_RT','MBO_ASK_POSITION_RT','MBO_ASK_RT','MBO_ASK_BROKER_RT']]"
   ]
  },
  {
   "cell_type": "code",
   "execution_count": 5,
   "metadata": {},
   "outputs": [
    {
     "data": {
      "text/html": [
       "<div>\n",
       "<style scoped>\n",
       "    .dataframe tbody tr th:only-of-type {\n",
       "        vertical-align: middle;\n",
       "    }\n",
       "\n",
       "    .dataframe tbody tr th {\n",
       "        vertical-align: top;\n",
       "    }\n",
       "\n",
       "    .dataframe thead th {\n",
       "        text-align: right;\n",
       "    }\n",
       "</style>\n",
       "<table border=\"1\" class=\"dataframe\">\n",
       "  <thead>\n",
       "    <tr style=\"text-align: right;\">\n",
       "      <th></th>\n",
       "      <th>MBO_TIME_RT</th>\n",
       "      <th>MBO_BID_POSITION_RT</th>\n",
       "      <th>MBO_BID_RT</th>\n",
       "      <th>MBO_BID_BROKER_RT</th>\n",
       "      <th>MBO_ASK_POSITION_RT</th>\n",
       "      <th>MBO_ASK_RT</th>\n",
       "      <th>MBO_ASK_BROKER_RT</th>\n",
       "    </tr>\n",
       "  </thead>\n",
       "  <tbody>\n",
       "    <tr>\n",
       "      <th>0</th>\n",
       "      <td>NaN</td>\n",
       "      <td>NaN</td>\n",
       "      <td>NaN</td>\n",
       "      <td>NaN</td>\n",
       "      <td>NaN</td>\n",
       "      <td>NaN</td>\n",
       "      <td>NaN</td>\n",
       "    </tr>\n",
       "    <tr>\n",
       "      <th>1</th>\n",
       "      <td>2021-08-12T01:00:01.000+00:00</td>\n",
       "      <td>1</td>\n",
       "      <td>1.26000022888184</td>\n",
       "      <td>\"1978\"</td>\n",
       "      <td>NaN</td>\n",
       "      <td>NaN</td>\n",
       "      <td>NaN</td>\n",
       "    </tr>\n",
       "    <tr>\n",
       "      <th>2</th>\n",
       "      <td>2021-08-12T01:00:04.000+00:00</td>\n",
       "      <td>2</td>\n",
       "      <td>1.23000049591064</td>\n",
       "      <td>\"6699\"</td>\n",
       "      <td>NaN</td>\n",
       "      <td>NaN</td>\n",
       "      <td>NaN</td>\n",
       "    </tr>\n",
       "    <tr>\n",
       "      <th>3</th>\n",
       "      <td>2021-08-12T01:00:04.000+00:00</td>\n",
       "      <td>3</td>\n",
       "      <td>1.22000026702881</td>\n",
       "      <td>\"6699\"</td>\n",
       "      <td>NaN</td>\n",
       "      <td>NaN</td>\n",
       "      <td>NaN</td>\n",
       "    </tr>\n",
       "    <tr>\n",
       "      <th>4</th>\n",
       "      <td>2021-08-12T01:00:10.000+00:00</td>\n",
       "      <td>4</td>\n",
       "      <td>1.15000057220459</td>\n",
       "      <td>\"8730\"</td>\n",
       "      <td>NaN</td>\n",
       "      <td>NaN</td>\n",
       "      <td>NaN</td>\n",
       "    </tr>\n",
       "    <tr>\n",
       "      <th>...</th>\n",
       "      <td>...</td>\n",
       "      <td>...</td>\n",
       "      <td>...</td>\n",
       "      <td>...</td>\n",
       "      <td>...</td>\n",
       "      <td>...</td>\n",
       "      <td>...</td>\n",
       "    </tr>\n",
       "    <tr>\n",
       "      <th>1375</th>\n",
       "      <td>2021-08-12T08:05:34.000+00:00</td>\n",
       "      <td>17</td>\n",
       "      <td>1.19999980926514</td>\n",
       "      <td>\"4663\"</td>\n",
       "      <td>NaN</td>\n",
       "      <td>NaN</td>\n",
       "      <td>NaN</td>\n",
       "    </tr>\n",
       "    <tr>\n",
       "      <th>1376</th>\n",
       "      <td>2021-08-12T08:05:34.000+00:00</td>\n",
       "      <td>18</td>\n",
       "      <td>1.15999984741211</td>\n",
       "      <td>\"6699\"</td>\n",
       "      <td>NaN</td>\n",
       "      <td>NaN</td>\n",
       "      <td>NaN</td>\n",
       "    </tr>\n",
       "    <tr>\n",
       "      <th>1377</th>\n",
       "      <td>2021-08-12T08:05:34.000+00:00</td>\n",
       "      <td>19</td>\n",
       "      <td>1.15000057220459</td>\n",
       "      <td>\"8730\"</td>\n",
       "      <td>NaN</td>\n",
       "      <td>NaN</td>\n",
       "      <td>NaN</td>\n",
       "    </tr>\n",
       "    <tr>\n",
       "      <th>1378</th>\n",
       "      <td>2021-08-12T08:05:34.000+00:00</td>\n",
       "      <td>20</td>\n",
       "      <td>1.11999988555908</td>\n",
       "      <td>\"6729\"</td>\n",
       "      <td>NaN</td>\n",
       "      <td>NaN</td>\n",
       "      <td>NaN</td>\n",
       "    </tr>\n",
       "    <tr>\n",
       "      <th>1379</th>\n",
       "      <td>2021-08-12T08:05:34.000+00:00</td>\n",
       "      <td>21</td>\n",
       "      <td>0</td>\n",
       "      <td>\"\u0000\u0000\u0000\u0000\"</td>\n",
       "      <td>NaN</td>\n",
       "      <td>NaN</td>\n",
       "      <td>NaN</td>\n",
       "    </tr>\n",
       "  </tbody>\n",
       "</table>\n",
       "<p>1380 rows × 7 columns</p>\n",
       "</div>"
      ],
      "text/plain": [
       "                        MBO_TIME_RT MBO_BID_POSITION_RT        MBO_BID_RT  \\\n",
       "0                               NaN                 NaN               NaN   \n",
       "1     2021-08-12T01:00:01.000+00:00                   1  1.26000022888184   \n",
       "2     2021-08-12T01:00:04.000+00:00                   2  1.23000049591064   \n",
       "3     2021-08-12T01:00:04.000+00:00                   3  1.22000026702881   \n",
       "4     2021-08-12T01:00:10.000+00:00                   4  1.15000057220459   \n",
       "...                             ...                 ...               ...   \n",
       "1375  2021-08-12T08:05:34.000+00:00                  17  1.19999980926514   \n",
       "1376  2021-08-12T08:05:34.000+00:00                  18  1.15999984741211   \n",
       "1377  2021-08-12T08:05:34.000+00:00                  19  1.15000057220459   \n",
       "1378  2021-08-12T08:05:34.000+00:00                  20  1.11999988555908   \n",
       "1379  2021-08-12T08:05:34.000+00:00                  21                 0   \n",
       "\n",
       "     MBO_BID_BROKER_RT MBO_ASK_POSITION_RT MBO_ASK_RT MBO_ASK_BROKER_RT  \n",
       "0                  NaN                 NaN        NaN               NaN  \n",
       "1               \"1978\"                 NaN        NaN               NaN  \n",
       "2               \"6699\"                 NaN        NaN               NaN  \n",
       "3               \"6699\"                 NaN        NaN               NaN  \n",
       "4               \"8730\"                 NaN        NaN               NaN  \n",
       "...                ...                 ...        ...               ...  \n",
       "1375            \"4663\"                 NaN        NaN               NaN  \n",
       "1376            \"6699\"                 NaN        NaN               NaN  \n",
       "1377            \"8730\"                 NaN        NaN               NaN  \n",
       "1378            \"6729\"                 NaN        NaN               NaN  \n",
       "1379            \"\u0000\u0000\u0000\u0000\"                 NaN        NaN               NaN  \n",
       "\n",
       "[1380 rows x 7 columns]"
      ]
     },
     "execution_count": 5,
     "metadata": {},
     "output_type": "execute_result"
    }
   ],
   "source": [
    "TOP = TOP[['MBO_TIME_RT','MBO_BID_POSITION_RT','MBO_BID_RT','MBO_BID_BROKER_RT','MBO_ASK_POSITION_RT','MBO_ASK_RT','MBO_ASK_BROKER_RT']]\n",
    "TOP"
   ]
  },
  {
   "cell_type": "code",
   "execution_count": 7,
   "metadata": {},
   "outputs": [],
   "source": [
    "MBO = MBO[['MBO_TIME_RT','MBO_ASK_POSITION_RT','MBO_ASK_RT','MBO_ASK_SIZE_RT','MBO_BID_POSITION_RT','MBO_BID_RT','MBO_BID_COND_CODE_RT','MBO_BID_SIZE_RT']]\n",
    "MBO_ask = MBO.dropna(subset=['MBO_ASK_POSITION_RT'])"
   ]
  },
  {
   "cell_type": "code",
   "execution_count": 23,
   "metadata": {},
   "outputs": [
    {
     "data": {
      "text/html": [
       "<div>\n",
       "<style scoped>\n",
       "    .dataframe tbody tr th:only-of-type {\n",
       "        vertical-align: middle;\n",
       "    }\n",
       "\n",
       "    .dataframe tbody tr th {\n",
       "        vertical-align: top;\n",
       "    }\n",
       "\n",
       "    .dataframe thead th {\n",
       "        text-align: right;\n",
       "    }\n",
       "</style>\n",
       "<table border=\"1\" class=\"dataframe\">\n",
       "  <thead>\n",
       "    <tr style=\"text-align: right;\">\n",
       "      <th></th>\n",
       "      <th>MBO_TIME_RT</th>\n",
       "      <th>MBO_BID_POSITION_RT</th>\n",
       "      <th>MBO_BID_RT</th>\n",
       "      <th>MBO_BID_BROKER_RT</th>\n",
       "      <th>MBO_ASK_POSITION_RT</th>\n",
       "      <th>MBO_ASK_RT</th>\n",
       "      <th>MBO_ASK_BROKER_RT</th>\n",
       "    </tr>\n",
       "  </thead>\n",
       "  <tbody>\n",
       "    <tr>\n",
       "      <th>53</th>\n",
       "      <td>2021-08-12T01:30:03.000+00:00</td>\n",
       "      <td>NaN</td>\n",
       "      <td>NaN</td>\n",
       "      <td>NaN</td>\n",
       "      <td>4</td>\n",
       "      <td>1.39999961853027</td>\n",
       "      <td>\"8592\"</td>\n",
       "    </tr>\n",
       "    <tr>\n",
       "      <th>131</th>\n",
       "      <td>2021-08-12T01:35:01.000+00:00</td>\n",
       "      <td>NaN</td>\n",
       "      <td>NaN</td>\n",
       "      <td>NaN</td>\n",
       "      <td>4</td>\n",
       "      <td>1.39999961853027</td>\n",
       "      <td>\"8592\"</td>\n",
       "    </tr>\n",
       "    <tr>\n",
       "      <th>136</th>\n",
       "      <td>2021-08-12T01:35:01.000+00:00</td>\n",
       "      <td>NaN</td>\n",
       "      <td>NaN</td>\n",
       "      <td>NaN</td>\n",
       "      <td>4</td>\n",
       "      <td>1.39999961853027</td>\n",
       "      <td>\"8592\"</td>\n",
       "    </tr>\n",
       "  </tbody>\n",
       "</table>\n",
       "</div>"
      ],
      "text/plain": [
       "                       MBO_TIME_RT MBO_BID_POSITION_RT MBO_BID_RT  \\\n",
       "53   2021-08-12T01:30:03.000+00:00                 NaN        NaN   \n",
       "131  2021-08-12T01:35:01.000+00:00                 NaN        NaN   \n",
       "136  2021-08-12T01:35:01.000+00:00                 NaN        NaN   \n",
       "\n",
       "    MBO_BID_BROKER_RT MBO_ASK_POSITION_RT        MBO_ASK_RT MBO_ASK_BROKER_RT  \n",
       "53                NaN                   4  1.39999961853027            \"8592\"  \n",
       "131               NaN                   4  1.39999961853027            \"8592\"  \n",
       "136               NaN                   4  1.39999961853027            \"8592\"  "
      ]
     },
     "execution_count": 23,
     "metadata": {},
     "output_type": "execute_result"
    }
   ],
   "source": [
    "TOP[(TOP['MBO_ASK_POSITION_RT'] == '4') & (TOP['MBO_ASK_RT'] == '1.39999961853027')]"
   ]
  },
  {
   "cell_type": "code",
   "execution_count": 21,
   "metadata": {},
   "outputs": [
    {
     "data": {
      "text/plain": [
       "MBO_TIME_RT             2021-08-12T01:30:03.118+00:00\n",
       "MBO_ASK_POSITION_RT                                 4\n",
       "MBO_ASK_RT                           1.39999961853027\n",
       "MBO_ASK_SIZE_RT                                 10000\n",
       "MBO_BID_POSITION_RT                               NaN\n",
       "MBO_BID_RT                                        NaN\n",
       "MBO_BID_COND_CODE_RT                              NaN\n",
       "MBO_BID_SIZE_RT                                   NaN\n",
       "Name: 17, dtype: object"
      ]
     },
     "execution_count": 21,
     "metadata": {},
     "output_type": "execute_result"
    }
   ],
   "source": [
    "MBO.iloc[17]"
   ]
  },
  {
   "cell_type": "code",
   "execution_count": 24,
   "metadata": {},
   "outputs": [
    {
     "name": "stdout",
     "output_type": "stream",
     "text": [
      "TOP Timestamp: 2021-08-12T01:30:03.000+00:00\n",
      "MBO Timestamp: 2021-08-12T01:30:03.118+00:00\n"
     ]
    }
   ],
   "source": [
    "print(f'TOP Timestamp: {TOP.iloc[53][\"MBO_TIME_RT\"]}')\n",
    "print(f'MBO Timestamp: {MBO.iloc[17][\"MBO_TIME_RT\"]}')"
   ]
  },
  {
   "cell_type": "markdown",
   "metadata": {},
   "source": [
    "Steps:\n",
    "\n",
    "1. Start with MBO database. \n",
    "\n",
    "If there are new \"ADD\" to the book, go to TOP and see who the broker is. \n",
    "\n",
    "If there are \"DEL\", check if there are either trades or just pulled. All the brokers order after him have to be manually adjusted (i.e. order -=1)\n",
    "\n",
    "If there are \"MOD\", either partially filled or order modified.\n"
   ]
  },
  {
   "cell_type": "code",
   "execution_count": null,
   "metadata": {},
   "outputs": [],
   "source": []
  }
 ],
 "metadata": {
  "kernelspec": {
   "display_name": "Python 3.9.4 64-bit",
   "language": "python",
   "name": "python3"
  },
  "language_info": {
   "codemirror_mode": {
    "name": "ipython",
    "version": 3
   },
   "file_extension": ".py",
   "mimetype": "text/x-python",
   "name": "python",
   "nbconvert_exporter": "python",
   "pygments_lexer": "ipython3",
   "version": "3.9.4"
  },
  "orig_nbformat": 4,
  "vscode": {
   "interpreter": {
    "hash": "11938c6bc6919ae2720b4d5011047913343b08a43b18698fd82dedb0d4417594"
   }
  }
 },
 "nbformat": 4,
 "nbformat_minor": 2
}
