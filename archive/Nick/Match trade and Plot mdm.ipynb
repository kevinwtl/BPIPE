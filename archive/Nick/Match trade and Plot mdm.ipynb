{
 "cells": [
  {
   "cell_type": "code",
   "execution_count": 26,
   "id": "594c3ce3",
   "metadata": {},
   "outputs": [],
   "source": [
    "import pandas as pd\n",
    "from datetime import datetime\n",
    "import plotly.graph_objects as go"
   ]
  },
  {
   "cell_type": "code",
   "execution_count": 34,
   "id": "11d072c5",
   "metadata": {},
   "outputs": [],
   "source": [
    "codedict = {\n",
    "    '\"2840\"': 'Macquarie Capital Limited', '\"2842\"': 'Macquarie Capital Limited', '\"2846\"': 'Macquarie Capital Limited', '\"2847\"': 'Macquarie Capital Limited', '\"2848\"': 'Macquarie Capital Limited', '\"2850\"': 'Macquarie Capital Limited', '\"2851\"': 'Macquarie Capital Limited', '\"2857\"': 'Macquarie Capital Limited', '\"4160\"': 'Macquarie Capital Limited', '\"4164\"': 'Macquarie Capital Limited', '\"4165\"': 'Macquarie Capital Limited', '\"4167\"': 'Macquarie Capital Limited', '\"4168\"': 'Macquarie Capital Limited', '\"4169\"': 'Macquarie Capital Limited', '\"9698\"': 'Macquarie Capital Limited', '\"9713\"': 'Macquarie Capital Limited', '\"9723\"': 'Macquarie Capital Limited', '\"2220\"': 'VMS Securities Limited', '\"2221\"': 'VMS Securities Limited', '\"2222\"': 'VMS Securities Limited', '\"2224\"': 'VMS Securities Limited', '\"2225\"': 'VMS Securities Limited', '\"2227\"': 'VMS Securities Limited', '\"2228\"': 'VMS Securities Limited', '\"2229\"': 'VMS Securities Limited', '\"1380\"': 'Sun Hung Kai Investment Services Limited', '\"1381\"': 'Sun Hung Kai Investment Services Limited', '\"1382\"': 'Sun Hung Kai Investment Services Limited', '\"1385\"': 'Sun Hung Kai Investment Services Limited', '\"1387\"': 'Sun Hung Kai Investment Services Limited', '\"1388\"': 'Sun Hung Kai Investment Services Limited', '\"1389\"': 'Sun Hung Kai Investment Services Limited', '\"5510\"': 'Sun Hung Kai Investment Services Limited', '\"5511\"': 'Sun Hung Kai Investment Services Limited', '\"5512\"': 'Sun Hung Kai Investment Services Limited', '\"5513\"': 'Sun Hung Kai Investment Services Limited', '\"5515\"': 'Sun Hung Kai Investment Services Limited', '\"5516\"': 'Sun Hung Kai Investment Services Limited', '\"5517\"': 'Sun Hung Kai Investment Services Limited', '\"5518\"': 'Sun Hung Kai Investment Services Limited', '\"5519\"': 'Sun Hung Kai Investment Services Limited', '\"5520\"': 'Sun Hung Kai Investment Services Limited', '\"5521\"': 'Sun Hung Kai Investment Services Limited', '\"5522\"': 'Sun Hung Kai Investment Services Limited', '\"5523\"': 'Sun Hung Kai Investment Services Limited', '\"5524\"': 'Sun Hung Kai Investment Services Limited', '\"5525\"': 'Sun Hung Kai Investment Services Limited', '\"5526\"': 'Sun Hung Kai Investment Services Limited', '\"5527\"': 'Sun Hung Kai Investment Services Limited', '\"5528\"': 'Sun Hung Kai Investment Services Limited', '\"5529\"': 'Sun Hung Kai Investment Services Limited', '\"5530\"': 'Sun Hung Kai Investment Services Limited', '\"5531\"': 'Sun Hung Kai Investment Services Limited', '\"5538\"': 'Sun Hung Kai Investment Services Limited', '\"5539\"': 'Sun Hung Kai Investment Services Limited', '\"8314\"': 'HSBC Broking Securities (Hong Kong) Limited', '\"8315\"': 'HSBC Broking Securities (Hong Kong) Limited', '\"8316\"': 'HSBC Broking Securities (Hong Kong) Limited', '\"8318\"': 'HSBC Broking Securities (Hong Kong) Limited', '\"8319\"': 'HSBC Broking Securities (Hong Kong) Limited', '\"8361\"': 'HSBC Broking Securities (Hong Kong) Limited', '\"8362\"': 'HSBC Broking Securities (Hong Kong) Limited', '\"8363\"': 'HSBC Broking Securities (Hong Kong) Limited', '\"8364\"': 'HSBC Broking Securities (Hong Kong) Limited', '\"8365\"': 'HSBC Broking Securities (Hong Kong) Limited', '\"8366\"': 'HSBC Broking Securities (Hong Kong) Limited', '\"8367\"': 'HSBC Broking Securities (Hong Kong) Limited', '\"8368\"': 'HSBC Broking Securities (Hong Kong) Limited', '\"8369\"': 'HSBC Broking Securities (Hong Kong) Limited', '\"8374\"': 'HSBC Broking Securities (Hong Kong) Limited', '\"8375\"': 'HSBC Broking Securities (Hong Kong) Limited', '\"8376\"': 'HSBC Broking Securities (Hong Kong) Limited', '\"8377\"': 'HSBC Broking Securities (Hong Kong) Limited', '\"8378\"': 'HSBC Broking Securities (Hong Kong) Limited', '\"8390\"': 'HSBC Broking Securities (Hong Kong) Limited', '\"8391\"': 'HSBC Broking Securities (Hong Kong) Limited', '\"8392\"': 'HSBC Broking Securities (Hong Kong) Limited', '\"8393\"': 'HSBC Broking Securities (Hong Kong) Limited', '\"8394\"': 'HSBC Broking Securities (Hong Kong) Limited', '\"8395\"': 'HSBC Broking Securities (Hong Kong) Limited', '\"8396\"': 'HSBC Broking Securities (Hong Kong) Limited', '\"8397\"': 'HSBC Broking Securities (Hong Kong) Limited', '\"8398\"': 'HSBC Broking Securities (Hong Kong) Limited', '\"8399\"': 'HSBC Broking Securities (Hong Kong) Limited', '\"8400\"': 'HSBC Broking Securities (Hong Kong) Limited', '\"8404\"': 'HSBC Broking Securities (Hong Kong) Limited', '\"8405\"': 'HSBC Broking Securities (Hong Kong) Limited', '\"8406\"': 'HSBC Broking Securities (Hong Kong) Limited', '\"8407\"': 'HSBC Broking Securities (Hong Kong) Limited', '\"8408\"': 'HSBC Broking Securities (Hong Kong) Limited', '\"8409\"': 'HSBC Broking Securities (Hong Kong) Limited', '\"8710\"': 'HSBC Broking Securities (Hong Kong) Limited', '\"8711\"': 'HSBC Broking Securities (Hong Kong) Limited', '\"8712\"': 'HSBC Broking Securities (Hong Kong) Limited', '\"8713\"': 'HSBC Broking Securities (Hong Kong) Limited', '\"8714\"': 'HSBC Broking Securities (Hong Kong) Limited', '\"8715\"': 'HSBC Broking Securities (Hong Kong) Limited', '\"8716\"': 'HSBC Broking Securities (Hong Kong) Limited', '\"8717\"': 'HSBC Broking Securities (Hong Kong) Limited', '\"8718\"': 'HSBC Broking Securities (Hong Kong) Limited', '\"8719\"': 'HSBC Broking Securities (Hong Kong) Limited', '\"5326\"': 'J.P. Morgan Broking (Hong Kong) Limited', '\"5327\"': 'J.P. Morgan Broking (Hong Kong) Limited', '\"5328\"': 'J.P. Morgan Broking (Hong Kong) Limited', '\"5329\"': 'J.P. Morgan Broking (Hong Kong) Limited', '\"5330\"': 'J.P. Morgan Broking (Hong Kong) Limited', '\"5331\"': 'J.P. Morgan Broking (Hong Kong) Limited', '\"5333\"': 'J.P. Morgan Broking (Hong Kong) Limited', '\"5334\"': 'J.P. Morgan Broking (Hong Kong) Limited', '\"5335\"': 'J.P. Morgan Broking (Hong Kong) Limited', '\"5336\"': 'J.P. Morgan Broking (Hong Kong) Limited', '\"5337\"': 'J.P. Morgan Broking (Hong Kong) Limited', '\"5338\"': 'J.P. Morgan Broking (Hong Kong) Limited', '\"5339\"': 'J.P. Morgan Broking (Hong Kong) Limited', '\"5340\"': 'J.P. Morgan Broking (Hong Kong) Limited', '\"5341\"': 'J.P. Morgan Broking (Hong Kong) Limited', '\"5342\"': 'J.P. Morgan Broking (Hong Kong) Limited', '\"5343\"': 'J.P. Morgan Broking (Hong Kong) Limited', '\"5344\"': 'J.P. Morgan Broking (Hong Kong) Limited', '\"5345\"': 'J.P. Morgan Broking (Hong Kong) Limited', '\"5346\"': 'J.P. Morgan Broking (Hong Kong) Limited', '\"5347\"': 'J.P. Morgan Broking (Hong Kong) Limited', '\"5348\"': 'J.P. Morgan Broking (Hong Kong) Limited', '\"5349\"': 'J.P. Morgan Broking (Hong Kong) Limited', '\"9707\"': 'J.P. Morgan Broking (Hong Kong) Limited', '\"9708\"': 'J.P. Morgan Broking (Hong Kong) Limited', '\"9709\"': 'J.P. Morgan Broking (Hong Kong) Limited', '\"9710\"': 'J.P. Morgan Broking (Hong Kong) Limited', '\"9711\"': 'J.P. Morgan Broking (Hong Kong) Limited', '\"9715\"': 'J.P. Morgan Broking (Hong Kong) Limited', '\"9716\"': 'J.P. Morgan Broking (Hong Kong) Limited', '\"9742\"': 'J.P. Morgan Broking (Hong Kong) Limited', '\"9743\"': 'J.P. Morgan Broking (Hong Kong) Limited', '\"5218\"': 'Shenwan Hongyuan Securities (H.K.) Limited', '\"5219\"': 'Shenwan Hongyuan Securities (H.K.) Limited', '\"5220\"': 'Shenwan Hongyuan Securities (H.K.) Limited', '\"5221\"': 'Shenwan Hongyuan Securities (H.K.) Limited', '\"5222\"': 'Shenwan Hongyuan Securities (H.K.) Limited', '\"5227\"': 'Shenwan Hongyuan Securities (H.K.) Limited', '\"5228\"': 'Shenwan Hongyuan Securities (H.K.) Limited', '\"1985\"': 'East Asia Securities Company Limited', '\"1986\"': 'East Asia Securities Company Limited', '\"1987\"': 'East Asia Securities Company Limited', '\"1988\"': 'East Asia Securities Company Limited', '\"1989\"': 'East Asia Securities Company Limited', '\"2010\"': 'East Asia Securities Company Limited', '\"2011\"': 'East Asia Securities Company Limited', '\"2012\"': 'East Asia Securities Company Limited', '\"2013\"': 'East Asia Securities Company Limited', '\"2014\"': 'East Asia Securities Company Limited', '\"2015\"': 'East Asia Securities Company Limited', '\"2016\"': 'East Asia Securities Company Limited', '\"2017\"': 'East Asia Securities Company Limited', '\"2018\"': 'East Asia Securities Company Limited', '\"2019\"': 'East Asia Securities Company Limited', '\"2020\"': 'East Asia Securities Company Limited', '\"2021\"': 'East Asia Securities Company Limited', '\"2024\"': 'East Asia Securities Company Limited', '\"2025\"': 'East Asia Securities Company Limited', '\"2026\"': 'East Asia Securities Company Limited', '\"2027\"': 'East Asia Securities Company Limited', '\"2028\"': 'East Asia Securities Company Limited', '\"2029\"': 'East Asia Securities Company Limited', '\"9753\"': 'East Asia Securities Company Limited', '\"7140\"': 'Celestial Securities Limited', '\"7141\"': 'Celestial Securities Limited', '\"7142\"': 'Celestial Securities Limited', '\"7143\"': 'Celestial Securities Limited', '\"7146\"': 'Celestial Securities Limited', '\"7147\"': 'Celestial Securities Limited', '\"7148\"': 'Celestial Securities Limited', '\"7149\"': 'Celestial Securities Limited', '\"7150\"': 'Celestial Securities Limited', '\"7151\"': 'Celestial Securities Limited', '\"7152\"': 'Celestial Securities Limited', '\"7153\"': 'Celestial Securities Limited', '\"7155\"': 'Celestial Securities Limited', '\"7159\"': 'Celestial Securities Limited', '\"7160\"': 'Celestial Securities Limited', '\"7167\"': 'Celestial Securities Limited', '\"7168\"': 'Celestial Securities Limited', '\"7169\"': 'Celestial Securities Limited', '\"380\"': 'SG Securities (HK) Limited', '\"382\"': 'SG Securities (HK) Limited', '\"383\"': 'SG Securities (HK) Limited', '\"387\"': 'SG Securities (HK) Limited', '\"4970\"': 'SG Securities (HK) Limited', '\"4972\"': 'SG Securities (HK) Limited', '\"4973\"': 'SG Securities (HK) Limited', '\"4974\"': 'SG Securities (HK) Limited', '\"4975\"': 'SG Securities (HK) Limited', '\"4976\"': 'SG Securities (HK) Limited', '\"4977\"': 'SG Securities (HK) Limited', '\"4978\"': 'SG Securities (HK) Limited', '\"4979\"': 'SG Securities (HK) Limited', '\"9702\"': 'SG Securities (HK) Limited', '\"9703\"': 'SG Securities (HK) Limited', '\"9704\"': 'SG Securities (HK) Limited', '\"9705\"': 'SG Securities (HK) Limited', '\"9706\"': 'SG Securities (HK) Limited', '\"6220\"': 'Hing Wong Securities Limited', '\"6223\"': 'Hing Wong Securities Limited', '\"6226\"': 'Hing Wong Securities Limited', '\"6227\"': 'Hing Wong Securities Limited', '\"6228\"': 'Hing Wong Securities Limited', '\"6229\"': 'Hing Wong Securities Limited', '\"6610\"': 'Wocom Securities Limited', '\"6611\"': 'Wocom Securities Limited', '\"6612\"': 'Wocom Securities Limited', '\"6617\"': 'Wocom Securities Limited', '\"6618\"': 'Wocom Securities Limited', '\"6619\"': 'Wocom Securities Limited', '\"8120\"': 'BOCI Securities Limited', '\"8124\"': 'BOCI Securities Limited', '\"8125\"': 'BOCI Securities Limited', '\"8126\"': 'BOCI Securities Limited', '\"8127\"': 'BOCI Securities Limited', '\"8129\"': 'BOCI Securities Limited', '\"8130\"': 'BOCI Securities Limited', '\"8134\"': 'BOCI Securities Limited', '\"8135\"': 'BOCI Securities Limited', '\"8136\"': 'BOCI Securities Limited', '\"8137\"': 'BOCI Securities Limited', '\"8138\"': 'BOCI Securities Limited', '\"8139\"': 'BOCI Securities Limited', '\"8140\"': 'BOCI Securities Limited', '\"8141\"': 'BOCI Securities Limited', '\"8145\"': 'BOCI Securities Limited', '\"8146\"': 'BOCI Securities Limited', '\"8147\"': 'BOCI Securities Limited', '\"8148\"': 'BOCI Securities Limited', '\"8149\"': 'BOCI Securities Limited', '\"8154\"': 'BOCI Securities Limited', '\"8155\"': 'BOCI Securities Limited', '\"8156\"': 'BOCI Securities Limited', '\"8157\"': 'BOCI Securities Limited', '\"8158\"': 'BOCI Securities Limited', '\"8159\"': 'BOCI Securities Limited', '\"8164\"': 'BOCI Securities Limited', '\"8167\"': 'BOCI Securities Limited', '\"8168\"': 'BOCI Securities Limited', '\"8169\"': 'BOCI Securities Limited', '\"8176\"': 'BOCI Securities Limited', '\"8177\"': 'BOCI Securities Limited', '\"8179\"': 'BOCI Securities Limited', '\"8180\"': 'BOCI Securities Limited', '\"8184\"': 'BOCI Securities Limited', '\"8185\"': 'BOCI Securities Limited', '\"8186\"': 'BOCI Securities Limited', '\"8187\"': 'BOCI Securities Limited', '\"8188\"': 'BOCI Securities Limited', '\"8189\"': 'BOCI Securities Limited', '\"8194\"': 'BOCI Securities Limited', '\"8195\"': 'BOCI Securities Limited', '\"8196\"': 'BOCI Securities Limited', '\"8197\"': 'BOCI Securities Limited', '\"8198\"': 'BOCI Securities Limited', '\"8199\"': 'BOCI Securities Limited', '\"8904\"': 'BOCI Securities Limited', '\"8905\"': 'BOCI Securities Limited', '\"8906\"': 'BOCI Securities Limited', '\"8907\"': 'BOCI Securities Limited', '\"8908\"': 'BOCI Securities Limited', '\"8909\"': 'BOCI Securities Limited', '\"8914\"': 'BOCI Securities Limited', '\"8919\"': 'BOCI Securities Limited', '\"8924\"': 'BOCI Securities Limited', '\"8944\"': 'BOCI Securities Limited', '\"8945\"': 'BOCI Securities Limited', '\"8946\"': 'BOCI Securities Limited', '\"8948\"': 'BOCI Securities Limited', '\"8949\"': 'BOCI Securities Limited', '\"9694\"': 'BOCI Securities Limited', '\"9714\"': 'BOCI Securities Limited', '\"9734\"': 'BOCI Securities Limited', '\"2620\"': 'RBC Investment Services (Asia) Limited', '\"2621\"': 'RBC Investment Services (Asia) Limited', '\"2628\"': 'RBC Investment Services (Asia) Limited', '\"2629\"': 'RBC Investment Services (Asia) Limited', '\"8020\"': 'CLSA Limited', '\"8021\"': 'CLSA Limited', '\"8022\"': 'CLSA Limited', '\"8023\"': 'CLSA Limited', '\"8024\"': 'CLSA Limited', '\"8025\"': 'CLSA Limited', '\"8026\"': 'CLSA Limited', '\"8027\"': 'CLSA Limited', '\"8028\"': 'CLSA Limited', '\"8029\"': 'CLSA Limited', '\"8030\"': 'CLSA Limited', '\"8031\"': 'CLSA Limited', '\"8033\"': 'CLSA Limited', '\"8034\"': 'CLSA Limited', '\"8035\"': 'CLSA Limited', '\"8036\"': 'CLSA Limited', '\"8037\"': 'CLSA Limited', '\"8038\"': 'CLSA Limited', '\"8039\"': 'CLSA Limited', '\"8044\"': 'CLSA Limited', '\"8045\"': 'CLSA Limited', '\"8046\"': 'CLSA Limited', '\"8047\"': 'CLSA Limited', '\"8049\"': 'CLSA Limited', '\"6700\"': 'FE Securities Limited', '\"6701\"': 'FE Securities Limited', '\"6702\"': 'FE Securities Limited', '\"6707\"': 'FE Securities Limited', '\"6708\"': 'FE Securities Limited', '\"6709\"': 'FE Securities Limited', '\"140\"': 'Haitong International Securities Company Limited', '\"141\"': 'Haitong International Securities Company Limited', '\"143\"': 'Haitong International Securities Company Limited', '\"145\"': 'Haitong International Securities Company Limited', '\"146\"': 'Haitong International Securities Company Limited', '\"147\"': 'Haitong International Securities Company Limited', '\"148\"': 'Haitong International Securities Company Limited', '\"149\"': 'Haitong International Securities Company Limited', '\"150\"': 'Haitong International Securities Company Limited', '\"151\"': 'Haitong International Securities Company Limited', '\"152\"': 'Haitong International Securities Company Limited', '\"153\"': 'Haitong International Securities Company Limited', '\"154\"': 'Haitong International Securities Company Limited', '\"155\"': 'Haitong International Securities Company Limited', '\"156\"': 'Haitong International Securities Company Limited', '\"157\"': 'Haitong International Securities Company Limited', '\"158\"': 'Haitong International Securities Company Limited', '\"159\"': 'Haitong International Securities Company Limited', '\"162\"': 'Haitong International Securities Company Limited', '\"164\"': 'Haitong International Securities Company Limited', '\"165\"': 'Haitong International Securities Company Limited', '\"166\"': 'Haitong International Securities Company Limited', '\"167\"': 'Haitong International Securities Company Limited', '\"168\"': 'Haitong International Securities Company Limited', '\"534\"': 'Haitong International Securities Company Limited', '\"535\"': 'Haitong International Securities Company Limited', '\"547\"': 'Haitong International Securities Company Limited', '\"549\"': 'Haitong International Securities Company Limited', '\"9699\"': 'Haitong International Securities Company Limited', '\"9724\"': 'Haitong International Securities Company Limited', '\"9732\"': 'Haitong International Securities Company Limited', '\"9750\"': 'Haitong International Securities Company Limited', '\"7930\"': 'Tak Fung Shares Investment Company Limited', '\"7938\"': 'Tak Fung Shares Investment Company Limited', '\"7433\"': 'China Merchants Securities (HK) Co., Limited', '\"7434\"': 'China Merchants Securities (HK) Co., Limited', '\"7435\"': 'China Merchants Securities (HK) Co., Limited', '\"7436\"': 'China Merchants Securities (HK) Co., Limited', '\"7437\"': 'China Merchants Securities (HK) Co., Limited', '\"7438\"': 'China Merchants Securities (HK) Co., Limited', '\"7439\"': 'China Merchants Securities (HK) Co., Limited', '\"7445\"': 'China Merchants Securities (HK) Co., Limited', '\"7446\"': 'China Merchants Securities (HK) Co., Limited', '\"7447\"': 'China Merchants Securities (HK) Co., Limited', '\"7448\"': 'China Merchants Securities (HK) Co., Limited', '\"7449\"': 'China Merchants Securities (HK) Co., Limited', '\"7551\"': 'China Merchants Securities (HK) Co., Limited', '\"7552\"': 'China Merchants Securities (HK) Co., Limited', '\"7553\"': 'China Merchants Securities (HK) Co., Limited', '\"7554\"': 'China Merchants Securities (HK) Co., Limited', '\"7555\"': 'China Merchants Securities (HK) Co., Limited', '\"7556\"': 'China Merchants Securities (HK) Co., Limited', '\"7557\"': 'China Merchants Securities (HK) Co., Limited', '\"7558\"': 'China Merchants Securities (HK) Co., Limited', '\"7559\"': 'China Merchants Securities (HK) Co., Limited', '\"9030\"': 'China Merchants Securities (HK) Co., Limited', '\"9031\"': 'China Merchants Securities (HK) Co., Limited', '\"9032\"': 'China Merchants Securities (HK) Co., Limited', '\"9033\"': 'China Merchants Securities (HK) Co., Limited', '\"9034\"': 'China Merchants Securities (HK) Co., Limited', '\"9035\"': 'China Merchants Securities (HK) Co., Limited', '\"9036\"': 'China Merchants Securities (HK) Co., Limited', '\"9037\"': 'China Merchants Securities (HK) Co., Limited', '\"9038\"': 'China Merchants Securities (HK) Co., Limited', '\"9039\"': 'China Merchants Securities (HK) Co., Limited', '\"9110\"': 'China Merchants Securities (HK) Co., Limited', '\"9111\"': 'China Merchants Securities (HK) Co., Limited', '\"9112\"': 'China Merchants Securities (HK) Co., Limited', '\"9113\"': 'China Merchants Securities (HK) Co., Limited', '\"9114\"': 'China Merchants Securities (HK) Co., Limited', '\"9115\"': 'China Merchants Securities (HK) Co., Limited', '\"9116\"': 'China Merchants Securities (HK) Co., Limited', '\"9117\"': 'China Merchants Securities (HK) Co., Limited', '\"9118\"': 'China Merchants Securities (HK) Co., Limited', '\"9119\"': 'China Merchants Securities (HK) Co., Limited', '\"1032\"': 'MTF Securities Limited', '\"9040\"': 'CMB International Global Markets Limited', '\"9043\"': 'CMB International Global Markets Limited', '\"4690\"': 'Pasay Stock and Shares Limited', '\"4699\"': 'Pasay Stock and Shares Limited', '\"3808\"': 'Solid King Securities Limited', '\"3809\"': 'Solid King Securities Limited', '\"402\"': 'UBS Securities Hong Kong Limited', '\"405\"': 'UBS Securities Hong Kong Limited', '\"9020\"': 'UBS Securities Hong Kong Limited', '\"9022\"': 'UBS Securities Hong Kong Limited', '\"9023\"': 'UBS Securities Hong Kong Limited', '\"9024\"': 'UBS Securities Hong Kong Limited', '\"9025\"': 'UBS Securities Hong Kong Limited', '\"9028\"': 'UBS Securities Hong Kong Limited', '\"9050\"': 'UBS Securities Hong Kong Limited', '\"9051\"': 'UBS Securities Hong Kong Limited', '\"9052\"': 'UBS Securities Hong Kong Limited', '\"9053\"': 'UBS Securities Hong Kong Limited', '\"9054\"': 'UBS Securities Hong Kong Limited', '\"9055\"': 'UBS Securities Hong Kong Limited', '\"9056\"': 'UBS Securities Hong Kong Limited', '\"9057\"': 'UBS Securities Hong Kong Limited', '\"9058\"': 'UBS Securities Hong Kong Limited', '\"9059\"': 'UBS Securities Hong Kong Limited', '\"9063\"': 'UBS Securities Hong Kong Limited', '\"9064\"': 'UBS Securities Hong Kong Limited', '\"9065\"': 'UBS Securities Hong Kong Limited', '\"9066\"': 'UBS Securities Hong Kong Limited', '\"9067\"': 'UBS Securities Hong Kong Limited', '\"9068\"': 'UBS Securities Hong Kong Limited', '\"9069\"': 'UBS Securities Hong Kong Limited', '\"9695\"': 'UBS Securities Hong Kong Limited', '\"9696\"': 'UBS Securities Hong Kong Limited', '\"9697\"': 'UBS Securities Hong Kong Limited', '\"9740\"': 'UBS Securities Hong Kong Limited', '\"3250\"': 'Public Financial Securities Limited', '\"3251\"': 'Public Financial Securities Limited', '\"3252\"': 'Public Financial Securities Limited', '\"3257\"': 'Public Financial Securities Limited', '\"3258\"': 'Public Financial Securities Limited', '\"3259\"': 'Public Financial Securities Limited', '\"240\"': 'Rifa Securities Limited', '\"246\"': 'Rifa Securities Limited', '\"247\"': 'Rifa Securities Limited', '\"248\"': 'Rifa Securities Limited', '\"249\"': 'Rifa Securities Limited', '\"829\"': 'Fosun Hani Securities Limited', '\"8930\"': 'Chong Hing Securities Limited', '\"8931\"': 'Chong Hing Securities Limited', '\"8932\"': 'Chong Hing Securities Limited', '\"8935\"': 'Chong Hing Securities Limited', '\"8938\"': 'Chong Hing Securities Limited', '\"8939\"': 'Chong Hing Securities Limited', '\"1676\"': 'China Tonghai Securities Limited', '\"1677\"': 'China Tonghai Securities Limited', '\"1679\"': 'China Tonghai Securities Limited', '\"1680\"': 'China Tonghai Securities Limited', '\"1681\"': 'China Tonghai Securities Limited', '\"1682\"': 'China Tonghai Securities Limited', '\"1683\"': 'China Tonghai Securities Limited', '\"1686\"': 'China Tonghai Securities Limited', '\"1687\"': 'China Tonghai Securities Limited', '\"1689\"': 'China Tonghai Securities Limited', '\"5630\"': 'Okachi Investments (HK) Company Limited', '\"5631\"': 'Okachi Investments (HK) Company Limited', '\"5637\"': 'Okachi Investments (HK) Company Limited', '\"5638\"': 'Okachi Investments (HK) Company Limited', '\"7860\"': 'Seekers Markets Limited', '\"7868\"': 'Seekers Markets Limited', '\"7869\"': 'Seekers Markets Limited', '\"460\"': 'Po Kay Securities & Shares Company Limited', '\"461\"': 'Po Kay Securities & Shares Company Limited', '\"468\"': 'Po Kay Securities & Shares Company Limited', '\"469\"': 'Po Kay Securities & Shares Company Limited', '\"8830\"': 'Mason Securities Limited', '\"8831\"': 'Mason Securities Limited', '\"8832\"': 'Mason Securities Limited', '\"8833\"': 'Mason Securities Limited', '\"8836\"': 'Mason Securities Limited', '\"8837\"': 'Mason Securities Limited', '\"8838\"': 'Mason Securities Limited', '\"8839\"': 'Mason Securities Limited', '\"8840\"': 'Mason Securities Limited', '\"8849\"': 'Mason Securities Limited', '\"188\"': 'Henyep Securities Limited', '\"189\"': 'Henyep Securities Limited', '\"6520\"': 'Malahon Securities Limited', '\"6521\"': 'Malahon Securities Limited', '\"6523\"': 'Malahon Securities Limited', '\"6526\"': 'Malahon Securities Limited', '\"6527\"': 'Malahon Securities Limited', '\"6528\"': 'Malahon Securities Limited', '\"6529\"': 'Malahon Securities Limited', '\"3410\"': 'Taiping Securities (HK) Co Limited', '\"3411\"': 'Taiping Securities (HK) Co Limited', '\"3412\"': 'Taiping Securities (HK) Co Limited', '\"3413\"': 'Taiping Securities (HK) Co Limited', '\"3416\"': 'Taiping Securities (HK) Co Limited', '\"3417\"': 'Taiping Securities (HK) Co Limited', '\"3418\"': 'Taiping Securities (HK) Co Limited', '\"3264\"': 'Merrill Lynch Far East Limited', '\"3265\"': 'Merrill Lynch Far East Limited', '\"3266\"': 'Merrill Lynch Far East Limited', '\"3267\"': 'Merrill Lynch Far East Limited', '\"3268\"': 'Merrill Lynch Far East Limited', '\"3269\"': 'Merrill Lynch Far East Limited', '\"3274\"': 'Merrill Lynch Far East Limited', '\"3275\"': 'Merrill Lynch Far East Limited', '\"3278\"': 'Merrill Lynch Far East Limited', '\"3279\"': 'Merrill Lynch Far East Limited', '\"3284\"': 'Merrill Lynch Far East Limited', '\"3285\"': 'Merrill Lynch Far East Limited', '\"3286\"': 'Merrill Lynch Far East Limited', '\"3287\"': 'Merrill Lynch Far East Limited', '\"3288\"': 'Merrill Lynch Far East Limited', '\"3289\"': 'Merrill Lynch Far East Limited', '\"3345\"': 'Merrill Lynch Far East Limited', '\"3346\"': 'Merrill Lynch Far East Limited', '\"3347\"': 'Merrill Lynch Far East Limited', '\"3348\"': 'Merrill Lynch Far East Limited', '\"3349\"': 'Merrill Lynch Far East Limited', '\"3643\"': 'Merrill Lynch Far East Limited', '\"3645\"': 'Merrill Lynch Far East Limited', '\"3646\"': 'Merrill Lynch Far East Limited', '\"3647\"': 'Merrill Lynch Far East Limited', '\"3648\"': 'Merrill Lynch Far East Limited', '\"3649\"': 'Merrill Lynch Far East Limited', '\"7350\"': 'Merrill Lynch Far East Limited', '\"7351\"': 'Merrill Lynch Far East Limited', '\"7354\"': 'Merrill Lynch Far East Limited', '\"7355\"': 'Merrill Lynch Far East Limited', '\"7356\"': 'Merrill Lynch Far East Limited', '\"7357\"': 'Merrill Lynch Far East Limited', '\"7358\"': 'Merrill Lynch Far East Limited', '\"7359\"': 'Merrill Lynch Far East Limited', '\"7364\"': 'Merrill Lynch Far East Limited', '\"7365\"': 'Merrill Lynch Far East Limited', '\"7366\"': 'Merrill Lynch Far East Limited', '\"7367\"': 'Merrill Lynch Far East Limited', '\"7368\"': 'Merrill Lynch Far East Limited', '\"7369\"': 'Merrill Lynch Far East Limited', '\"2559\"': 'Hooray Securities Limited', '\"6424\"': 'CITIC Securities Brokerage (HK) Limited', '\"6425\"': 'CITIC Securities Brokerage (HK) Limited', '\"6426\"': 'CITIC Securities Brokerage (HK) Limited', '\"6429\"': 'CITIC Securities Brokerage (HK) Limited', '\"6430\"': 'CITIC Securities Brokerage (HK) Limited', '\"6431\"': 'CITIC Securities Brokerage (HK) Limited', '\"6432\"': 'CITIC Securities Brokerage (HK) Limited', '\"6433\"': 'CITIC Securities Brokerage (HK) Limited', '\"6437\"': 'CITIC Securities Brokerage (HK) Limited', '\"6438\"': 'CITIC Securities Brokerage (HK) Limited', '\"6448\"': 'CITIC Securities Brokerage (HK) Limited', '\"6449\"': 'CITIC Securities Brokerage (HK) Limited', '\"2160\"': 'Pacific Foundation Securities Limited', '\"2161\"': 'Pacific Foundation Securities Limited', '\"2162\"': 'Pacific Foundation Securities Limited', '\"2167\"': 'Pacific Foundation Securities Limited', '\"2168\"': 'Pacific Foundation Securities Limited', '\"2169\"': 'Pacific Foundation Securities Limited', '\"3960\"': 'Hong Kong International Securities Limited', '\"3962\"': 'Hong Kong International Securities Limited', '\"3968\"': 'Hong Kong International Securities Limited', '\"3969\"': 'Hong Kong International Securities Limited', '\"6330\"': 'Tai Yip Stock Company Limited', '\"6338\"': 'Tai Yip Stock Company Limited', '\"2720\"': 'Tsun Chi Yuen Securities Company Limited', '\"2721\"': 'Tsun Chi Yuen Securities Company Limited', '\"2722\"': 'Tsun Chi Yuen Securities Company Limited', '\"2727\"': 'Tsun Chi Yuen Securities Company Limited', '\"2728\"': 'Tsun Chi Yuen Securities Company Limited', '\"2729\"': 'Tsun Chi Yuen Securities Company Limited', '\"4920\"': 'Roctec Securities Company Limited', '\"4929\"': 'Roctec Securities Company Limited', '\"5430\"': 'Kwan Yick Securities (International) Limited', '\"5437\"': 'Kwan Yick Securities (International) Limited', '\"5439\"': 'Kwan Yick Securities (International) Limited', '\"7990\"': 'Corporate Brokers Limited', '\"7991\"': 'Corporate Brokers Limited', '\"7992\"': 'Corporate Brokers Limited', '\"7993\"': 'Corporate Brokers Limited', '\"7995\"': 'Corporate Brokers Limited', '\"7996\"': 'Corporate Brokers Limited', '\"7997\"': 'Corporate Brokers Limited', '\"7998\"': 'Corporate Brokers Limited', '\"7999\"': 'Corporate Brokers Limited', '\"8009\"': 'Corporate Brokers Limited', '\"520\"': 'Stockwell Securities Limited', '\"521\"': 'Stockwell Securities Limited', '\"524\"': 'Stockwell Securities Limited', '\"528\"': 'Stockwell Securities Limited', '\"529\"': 'Stockwell Securities Limited', '\"1420\"': 'Stockwell Securities Limited', '\"1421\"': 'Stockwell Securities Limited', '\"1422\"': 'Stockwell Securities Limited', '\"1423\"': 'Stockwell Securities Limited', '\"1424\"': 'Stockwell Securities Limited', '\"1425\"': 'Stockwell Securities Limited', '\"1426\"': 'Stockwell Securities Limited', '\"1427\"': 'Stockwell Securities Limited', '\"1428\"': 'Stockwell Securities Limited', '\"1429\"': 'Stockwell Securities Limited', '\"8086\"': 'Sinolink Securities (Hong Kong) Company Limited', '\"8088\"': 'Sinolink Securities (Hong Kong) Company Limited', '\"8089\"': 'Sinolink Securities (Hong Kong) Company Limited', '\"8790\"': 'Fair Eagle Securities Company Limited', '\"8797\"': 'Fair Eagle Securities Company Limited', '\"8798\"': 'Fair Eagle Securities Company Limited', '\"8799\"': 'Fair Eagle Securities Company Limited', '\"6120\"': 'Kim Eng Securities (Hong Kong) Limited', '\"6121\"': 'Kim Eng Securities (Hong Kong) Limited', '\"6123\"': 'Kim Eng Securities (Hong Kong) Limited', '\"6125\"': 'Kim Eng Securities (Hong Kong) Limited', '\"6127\"': 'Kim Eng Securities (Hong Kong) Limited', '\"6128\"': 'Kim Eng Securities (Hong Kong) Limited', '\"6129\"': 'Kim Eng Securities (Hong Kong) Limited', '\"5660\"': 'OCBC Wing Hang Shares Brokerage Co. Limited', '\"5661\"': 'OCBC Wing Hang Shares Brokerage Co. Limited', '\"5662\"': 'OCBC Wing Hang Shares Brokerage Co. Limited', '\"5665\"': 'OCBC Wing Hang Shares Brokerage Co. Limited', '\"5666\"': 'OCBC Wing Hang Shares Brokerage Co. Limited', '\"5667\"': 'OCBC Wing Hang Shares Brokerage Co. Limited', '\"5668\"': 'OCBC Wing Hang Shares Brokerage Co. Limited', '\"5669\"': 'OCBC Wing Hang Shares Brokerage Co. Limited', '\"5869\"': 'OCBC Wing Hang Shares Brokerage Co. Limited', '\"2507\"': 'Premier Q Securities Limited', '\"2508\"': 'Premier Q Securities Limited', '\"2509\"': 'Premier Q Securities Limited', '\"7077\"': 'Winfull Securities Limited', '\"7078\"': 'Winfull Securities Limited', '\"7079\"': 'Winfull Securities Limited', '\"2218\"': 'Hang Tai Securities Limited', '\"2219\"': 'Hang Tai Securities Limited', '\"8760\"': 'FB Securities (Hong Kong) Limited', '\"8761\"': 'FB Securities (Hong Kong) Limited', '\"8762\"': 'FB Securities (Hong Kong) Limited', '\"8767\"': 'FB Securities (Hong Kong) Limited', '\"8768\"': 'FB Securities (Hong Kong) Limited', '\"8769\"': 'FB Securities (Hong Kong) Limited', '\"229\"': 'Morgan Stanley Hong Kong Securities Limited', '\"3077\"': 'Morgan Stanley Hong Kong Securities Limited', '\"5465\"': 'Morgan Stanley Hong Kong Securities Limited', '\"5466\"': 'Morgan Stanley Hong Kong Securities Limited', '\"5467\"': 'Morgan Stanley Hong Kong Securities Limited', '\"5468\"': 'Morgan Stanley Hong Kong Securities Limited', '\"5469\"': 'Morgan Stanley Hong Kong Securities Limited', '\"6384\"': 'Morgan Stanley Hong Kong Securities Limited', '\"6386\"': 'Morgan Stanley Hong Kong Securities Limited', '\"6387\"': 'Morgan Stanley Hong Kong Securities Limited', '\"6388\"': 'Morgan Stanley Hong Kong Securities Limited', '\"6389\"': 'Morgan Stanley Hong Kong Securities Limited', '\"9754\"': 'Morgan Stanley Hong Kong Securities Limited', '\"9755\"': 'Morgan Stanley Hong Kong Securities Limited', '\"9758\"': 'Morgan Stanley Hong Kong Securities Limited', '\"9759\"': 'Morgan Stanley Hong Kong Securities Limited', '\"9760\"': 'Morgan Stanley Hong Kong Securities Limited', '\"9761\"': 'Morgan Stanley Hong Kong Securities Limited', '\"8330\"': 'Sanfull Securities Limited', '\"8331\"': 'Sanfull Securities Limited', '\"8332\"': 'Sanfull Securities Limited', '\"8336\"': 'Sanfull Securities Limited', '\"8337\"': 'Sanfull Securities Limited', '\"8338\"': 'Sanfull Securities Limited', '\"8339\"': 'Sanfull Securities Limited', '\"7750\"': 'Bradbury Securities Limited', '\"7751\"': 'Bradbury Securities Limited', '\"7758\"': 'Bradbury Securities Limited', '\"7759\"': 'Bradbury Securities Limited', '\"1150\"': 'Chelsea Securities Limited', '\"1159\"': 'Chelsea Securities Limited', '\"2310\"': 'Hang Seng Securities Limited', '\"2311\"': 'Hang Seng Securities Limited', '\"2312\"': 'Hang Seng Securities Limited', '\"2313\"': 'Hang Seng Securities Limited', '\"2315\"': 'Hang Seng Securities Limited', '\"2317\"': 'Hang Seng Securities Limited', '\"5957\"': 'Hang Seng Securities Limited', '\"5959\"': 'Hang Seng Securities Limited', '\"8270\"': 'South China Securities Limited', '\"8273\"': 'South China Securities Limited', '\"8276\"': 'South China Securities Limited', '\"8277\"': 'South China Securities Limited', '\"8278\"': 'South China Securities Limited', '\"8279\"': 'South China Securities Limited', '\"6750\"': 'SPS Securities Limited', '\"6759\"': 'SPS Securities Limited', '\"2980\"': 'Alpha Securities Company Limited', '\"8459\"': 'CS Wealth Securities Limited', '\"7330\"': 'Montgomery Securities Limited', '\"7331\"': 'Montgomery Securities Limited', '\"3390\"': 'Onshine Securities Limited', '\"3391\"': 'Onshine Securities Limited', '\"3392\"': 'Onshine Securities Limited', '\"3398\"': 'Onshine Securities Limited', '\"3399\"': 'Onshine Securities Limited', '\"130\"': 'Get Nice Securities Limited', '\"138\"': 'Get Nice Securities Limited', '\"7040\"': 'Get Nice Securities Limited', '\"7042\"': 'Get Nice Securities Limited', '\"7046\"': 'Get Nice Securities Limited', '\"7047\"': 'Get Nice Securities Limited', '\"7049\"': 'Get Nice Securities Limited', '\"4020\"': 'BNP Paribas Securities (Asia) Limited', '\"4021\"': 'BNP Paribas Securities (Asia) Limited', '\"4022\"': 'BNP Paribas Securities (Asia) Limited', '\"4023\"': 'BNP Paribas Securities (Asia) Limited', '\"4050\"': 'BNP Paribas Securities (Asia) Limited', '\"4051\"': 'BNP Paribas Securities (Asia) Limited', '\"4052\"': 'BNP Paribas Securities (Asia) Limited', '\"4053\"': 'BNP Paribas Securities (Asia) Limited', '\"4054\"': 'BNP Paribas Securities (Asia) Limited', '\"4055\"': 'BNP Paribas Securities (Asia) Limited', '\"4056\"': 'BNP Paribas Securities (Asia) Limited', '\"4057\"': 'BNP Paribas Securities (Asia) Limited', '\"4058\"': 'BNP Paribas Securities (Asia) Limited', '\"4059\"': 'BNP Paribas Securities (Asia) Limited', '\"4060\"': 'BNP Paribas Securities (Asia) Limited', '\"4062\"': 'BNP Paribas Securities (Asia) Limited', '\"4066\"': 'BNP Paribas Securities (Asia) Limited', '\"4067\"': 'BNP Paribas Securities (Asia) Limited', '\"4068\"': 'BNP Paribas Securities (Asia) Limited', '\"4070\"': 'BNP Paribas Securities (Asia) Limited', '\"4071\"': 'BNP Paribas Securities (Asia) Limited', '\"4072\"': 'BNP Paribas Securities (Asia) Limited', '\"4073\"': 'BNP Paribas Securities (Asia) Limited', '\"4074\"': 'BNP Paribas Securities (Asia) Limited', '\"4076\"': 'BNP Paribas Securities (Asia) Limited', '\"4108\"': 'BNP Paribas Securities (Asia) Limited', '\"4109\"': 'BNP Paribas Securities (Asia) Limited', '\"4110\"': 'BNP Paribas Securities (Asia) Limited', '\"4170\"': 'BNP Paribas Securities (Asia) Limited', '\"4171\"': 'BNP Paribas Securities (Asia) Limited', '\"4173\"': 'BNP Paribas Securities (Asia) Limited', '\"8698\"': 'BNP Paribas Securities (Asia) Limited', '\"8699\"': 'BNP Paribas Securities (Asia) Limited', '\"9691\"': 'BNP Paribas Securities (Asia) Limited', '\"9692\"': 'BNP Paribas Securities (Asia) Limited', '\"9764\"': 'BNP Paribas Securities (Asia) Limited', '\"6270\"': 'Solomon Securities Limited', '\"6271\"': 'Solomon Securities Limited', '\"6278\"': 'Solomon Securities Limited', '\"6279\"': 'Solomon Securities Limited', '\"8071\"': 'Tung Tak Securities (HK) Company Limited', '\"8072\"': 'Tung Tak Securities (HK) Company Limited', '\"8073\"': 'Tung Tak Securities (HK) Company Limited', '\"8075\"': 'Tung Tak Securities (HK) Company Limited', '\"8077\"': 'Tung Tak Securities (HK) Company Limited', '\"8078\"': 'Tung Tak Securities (HK) Company Limited', '\"3370\"': 'Okasan International (Asia) Limited', '\"3378\"': 'Okasan International (Asia) Limited', '\"3379\"': 'Okasan International (Asia) Limited', '\"1850\"': 'Luen Fat Securities Company Limited', '\"1851\"': 'Luen Fat Securities Company Limited', '\"1852\"': 'Luen Fat Securities Company Limited', '\"1856\"': 'Luen Fat Securities Company Limited', '\"1857\"': 'Luen Fat Securities Company Limited', '\"1858\"': 'Luen Fat Securities Company Limited', '\"1859\"': 'Luen Fat Securities Company Limited', '\"8239\"': 'Infast Brokerage Limited', '\"7183\"': 'Deutsche Securities Asia Limited', '\"7184\"': 'Deutsche Securities Asia Limited', '\"7185\"': 'Deutsche Securities Asia Limited', '\"7187\"': 'Deutsche Securities Asia Limited', '\"7188\"': 'Deutsche Securities Asia Limited', '\"7190\"': 'Deutsche Securities Asia Limited', '\"7196\"': 'Deutsche Securities Asia Limited', '\"7197\"': 'Deutsche Securities Asia Limited', '\"7670\"': 'Funderstone Securities Limited', '\"7676\"': 'Funderstone Securities Limited', '\"7677\"': 'Funderstone Securities Limited', '\"7678\"': 'Funderstone Securities Limited', '\"7679\"': 'Funderstone Securities Limited', '\"940\"': 'Morgan Fuel Go Securities Limited', '\"947\"': 'Morgan Fuel Go Securities Limited', '\"948\"': 'Morgan Fuel Go Securities Limited', '\"949\"': 'Morgan Fuel Go Securities Limited', '\"2660\"': 'Ban Hin Securities Company Limited', '\"2661\"': 'Ban Hin Securities Company Limited', '\"2669\"': 'Ban Hin Securities Company Limited', '\"860\"': 'Bloomyears Limited', '\"869\"': 'Bloomyears Limited', '\"7567\"': 'Emperor Securities Limited', '\"7568\"': 'Emperor Securities Limited', '\"7569\"': 'Emperor Securities Limited', '\"7570\"': 'Emperor Securities Limited', '\"7571\"': 'Emperor Securities Limited', '\"7572\"': 'Emperor Securities Limited', '\"7573\"': 'Emperor Securities Limited', '\"7574\"': 'Emperor Securities Limited', '\"7575\"': 'Emperor Securities Limited', '\"7576\"': 'Emperor Securities Limited', '\"7577\"': 'Emperor Securities Limited', '\"7578\"': 'Emperor Securities Limited', '\"7579\"': 'Emperor Securities Limited', '\"7584\"': 'Emperor Securities Limited', '\"7585\"': 'Emperor Securities Limited', '\"7586\"': 'Emperor Securities Limited', '\"7587\"': 'Emperor Securities Limited', '\"7588\"': 'Emperor Securities Limited', '\"7589\"': 'Emperor Securities Limited', '\"4720\"': 'Lehin Securities Limited', '\"4728\"': 'Lehin Securities Limited', '\"4729\"': 'Lehin Securities Limited', '\"1871\"': 'Tung Tai Securities Company Limited', '\"1878\"': 'Tung Tai Securities Company Limited', '\"1879\"': 'Tung Tai Securities Company Limited', '\"3479\"': 'Celetio Investments Limited', '\"6820\"': 'Phillip Securities (Hong Kong) Limited', '\"6821\"': 'Phillip Securities (Hong Kong) Limited', '\"6822\"': 'Phillip Securities (Hong Kong) Limited', '\"6823\"': 'Phillip Securities (Hong Kong) Limited', '\"6825\"': 'Phillip Securities (Hong Kong) Limited', '\"6826\"': 'Phillip Securities (Hong Kong) Limited', '\"6827\"': 'Phillip Securities (Hong Kong) Limited', '\"6828\"': 'Phillip Securities (Hong Kong) Limited', '\"6829\"': 'Phillip Securities (Hong Kong) Limited', '\"6830\"': 'Phillip Securities (Hong Kong) Limited', '\"6831\"': 'Phillip Securities (Hong Kong) Limited', '\"6832\"': 'Phillip Securities (Hong Kong) Limited', '\"6835\"': 'Phillip Securities (Hong Kong) Limited', '\"6837\"': 'Phillip Securities (Hong Kong) Limited', '\"6838\"': 'Phillip Securities (Hong Kong) Limited', '\"6839\"': 'Phillip Securities (Hong Kong) Limited', '\"1920\"': 'CGS-CIMB Securities (Hong Kong) Limited', '\"1921\"': 'CGS-CIMB Securities (Hong Kong) Limited', '\"1927\"': 'CGS-CIMB Securities (Hong Kong) Limited', '\"1928\"': 'CGS-CIMB Securities (Hong Kong) Limited', '\"1929\"': 'CGS-CIMB Securities (Hong Kong) Limited', '\"7899\"': 'S W Woo And Company Limited', '\"6480\"': 'Wing Fung Securities Limited', '\"6488\"': 'Wing Fung Securities Limited', '\"6489\"': 'Wing Fung Securities Limited', '\"7116\"': 'UOB Kay Hian (Hong Kong) Limited', '\"7117\"': 'UOB Kay Hian (Hong Kong) Limited', '\"7118\"': 'UOB Kay Hian (Hong Kong) Limited', '\"7119\"': 'UOB Kay Hian (Hong Kong) Limited', '\"7120\"': 'UOB Kay Hian (Hong Kong) Limited', '\"7124\"': 'UOB Kay Hian (Hong Kong) Limited', '\"7125\"': 'UOB Kay Hian (Hong Kong) Limited', '\"7126\"': 'UOB Kay Hian (Hong Kong) Limited', '\"7127\"': 'UOB Kay Hian (Hong Kong) Limited', '\"7130\"': 'UOB Kay Hian (Hong Kong) Limited', '\"7132\"': 'UOB Kay Hian (Hong Kong) Limited', '\"7133\"': 'UOB Kay Hian (Hong Kong) Limited', '\"7134\"': 'UOB Kay Hian (Hong Kong) Limited', '\"7135\"': 'UOB Kay Hian (Hong Kong) Limited', '\"7136\"': 'UOB Kay Hian (Hong Kong) Limited', '\"7137\"': 'UOB Kay Hian (Hong Kong) Limited', '\"7138\"': 'UOB Kay Hian (Hong Kong) Limited', '\"8880\"': 'China Everbright Securities (HK) Limited', '\"8881\"': 'China Everbright Securities (HK) Limited', '\"8882\"': 'China Everbright Securities (HK) Limited', '\"8883\"': 'China Everbright Securities (HK) Limited', '\"8884\"': 'China Everbright Securities (HK) Limited', '\"8885\"': 'China Everbright Securities (HK) Limited', '\"8886\"': 'China Everbright Securities (HK) Limited', '\"8889\"': 'China Everbright Securities (HK) Limited', '\"8899\"': 'China Everbright Securities (HK) Limited', '\"3292\"': 'Delta Asia Securities Limited', '\"3297\"': 'Delta Asia Securities Limited', '\"3298\"': 'Delta Asia Securities Limited', '\"3299\"': 'Delta Asia Securities Limited', '\"7238\"': 'Jospa Investment Company Limited', '\"7239\"': 'Jospa Investment Company Limited', '\"5930\"': 'First Worldsec Securities Limited', '\"5937\"': 'First Worldsec Securities Limited', '\"2800\"': 'Christfund Securities Limited', '\"2801\"': 'Christfund Securities Limited', '\"2802\"': 'Christfund Securities Limited', '\"2804\"': 'Christfund Securities Limited', '\"2805\"': 'Christfund Securities Limited', '\"2807\"': 'Christfund Securities Limited', '\"2808\"': 'Christfund Securities Limited', '\"2809\"': 'Christfund Securities Limited', '\"6410\"': 'Po Lee Securities Limited', '\"6419\"': 'Po Lee Securities Limited', '\"211\"': 'Averest Capital Limited', '\"217\"': 'Averest Capital Limited', '\"219\"': 'Averest Capital Limited', '\"1770\"': 'Public Securities Limited', '\"1777\"': 'Public Securities Limited', '\"1778\"': 'Public Securities Limited', '\"1779\"': 'Public Securities Limited', '\"5310\"': 'Fairwin Broking Limited', '\"5319\"': 'Fairwin Broking Limited', '\"2356\"': 'SBI China Capital Financial Services Limited', '\"2357\"': 'SBI China Capital Financial Services Limited', '\"2358\"': 'SBI China Capital Financial Services Limited', '\"2359\"': 'SBI China Capital Financial Services Limited', '\"6800\"': 'Zhongrong PT Securities Limited', '\"6809\"': 'Zhongrong PT Securities Limited', '\"2700\"': 'Taifair Securities Limited', '\"2709\"': 'Taifair Securities Limited', '\"1070\"': 'Megabase Securities Limited', '\"1079\"': 'Megabase Securities Limited', '\"7109\"': 'Phoenix Capital Securities Limited', '\"4520\"': 'Hong Kong Stock Link Securities Limited', '\"4529\"': 'Hong Kong Stock Link Securities Limited', '\"6770\"': 'Win Wong Securities Limited', '\"6771\"': 'Win Wong Securities Limited', '\"6772\"': 'Win Wong Securities Limited', '\"6773\"': 'Win Wong Securities Limited', '\"6774\"': 'Win Wong Securities Limited', '\"6775\"': 'Win Wong Securities Limited', '\"2600\"': 'Wings Securities (HK) Limited', '\"2601\"': 'Wings Securities (HK) Limited', '\"2602\"': 'Wings Securities (HK) Limited', '\"2607\"': 'Wings Securities (HK) Limited', '\"2608\"': 'Wings Securities (HK) Limited', '\"2609\"': 'Wings Securities (HK) Limited', '\"100\"': 'Core Pacific - Yamaichi International (H.K.) Limited', '\"101\"': 'Core Pacific - Yamaichi International (H.K.) Limited', '\"102\"': 'Core Pacific - Yamaichi International (H.K.) Limited', '\"103\"': 'Core Pacific - Yamaichi International (H.K.) Limited', '\"104\"': 'Core Pacific - Yamaichi International (H.K.) Limited', '\"105\"': 'Core Pacific - Yamaichi International (H.K.) Limited', '\"106\"': 'Core Pacific - Yamaichi International (H.K.) Limited', '\"107\"': 'Core Pacific - Yamaichi International (H.K.) Limited', '\"108\"': 'Core Pacific - Yamaichi International (H.K.) Limited', '\"109\"': 'Core Pacific - Yamaichi International (H.K.) Limited', '\"110\"': 'Core Pacific - Yamaichi International (H.K.) Limited', '\"114\"': 'Core Pacific - Yamaichi International (H.K.) Limited', '\"115\"': 'Core Pacific - Yamaichi International (H.K.) Limited', '\"116\"': 'Core Pacific - Yamaichi International (H.K.) Limited', '\"117\"': 'Core Pacific - Yamaichi International (H.K.) Limited', '\"118\"': 'Core Pacific - Yamaichi International (H.K.) Limited', '\"119\"': 'Core Pacific - Yamaichi International (H.K.) Limited', '\"4645\"': 'Core Pacific - Yamaichi International (H.K.) Limited', '\"4646\"': 'Core Pacific - Yamaichi International (H.K.) Limited', '\"4647\"': 'Core Pacific - Yamaichi International (H.K.) Limited', '\"4648\"': 'Core Pacific - Yamaichi International (H.K.) Limited', '\"99\"': 'Tarzan Stock & Shares Limited', '\"3310\"': 'VC Brokerage Limited', '\"3311\"': 'VC Brokerage Limited', '\"3312\"': 'VC Brokerage Limited', '\"3313\"': 'VC Brokerage Limited', '\"3316\"': 'VC Brokerage Limited', '\"3317\"': 'VC Brokerage Limited', '\"3318\"': 'VC Brokerage Limited', '\"3319\"': 'VC Brokerage Limited', '\"7859\"': 'Chee Tak Securities Limited', '\"2880\"': 'OnePlatform Securities Limited', '\"2881\"': 'OnePlatform Securities Limited', '\"2887\"': 'OnePlatform Securities Limited', '\"2888\"': 'OnePlatform Securities Limited', '\"2889\"': 'OnePlatform Securities Limited', '\"2430\"': 'Prudential Brokerage Limited', '\"2431\"': 'Prudential Brokerage Limited', '\"2432\"': 'Prudential Brokerage Limited', '\"2433\"': 'Prudential Brokerage Limited', '\"2434\"': 'Prudential Brokerage Limited', '\"2435\"': 'Prudential Brokerage Limited', '\"2436\"': 'Prudential Brokerage Limited', '\"2437\"': 'Prudential Brokerage Limited', '\"2438\"': 'Prudential Brokerage Limited', '\"2439\"': 'Prudential Brokerage Limited', '\"2446\"': 'Prudential Brokerage Limited', '\"2447\"': 'Prudential Brokerage Limited', '\"2448\"': 'Prudential Brokerage Limited', '\"2449\"': 'Prudential Brokerage Limited', '\"4550\"': 'Wellfull Securities Company Limited', '\"4551\"': 'Wellfull Securities Company Limited', '\"4558\"': 'Wellfull Securities Company Limited', '\"7470\"': 'Sincere Securities Limited', '\"7471\"': 'Sincere Securities Limited', '\"7477\"': 'Sincere Securities Limited', '\"7478\"': 'Sincere Securities Limited', '\"7479\"': 'Sincere Securities Limited', '\"6580\"': 'Hip Hing Securities Limited', '\"6589\"': 'Hip Hing Securities Limited', '\"3170\"': 'Citigroup Global Markets Asia Limited', '\"3172\"': 'Citigroup Global Markets Asia Limited', '\"3176\"': 'Citigroup Global Markets Asia Limited', '\"3177\"': 'Citigroup Global Markets Asia Limited', '\"3178\"': 'Citigroup Global Markets Asia Limited', '\"3179\"': 'Citigroup Global Markets Asia Limited', '\"7380\"': 'Citigroup Global Markets Asia Limited', '\"7381\"': 'Citigroup Global Markets Asia Limited', '\"7382\"': 'Citigroup Global Markets Asia Limited', '\"7383\"': 'Citigroup Global Markets Asia Limited', '\"7384\"': 'Citigroup Global Markets Asia Limited', '\"7385\"': 'Citigroup Global Markets Asia Limited', '\"7386\"': 'Citigroup Global Markets Asia Limited', '\"7387\"': 'Citigroup Global Markets Asia Limited', '\"7388\"': 'Citigroup Global Markets Asia Limited', '\"7389\"': 'Citigroup Global Markets Asia Limited', '\"9749\"': 'Citigroup Global Markets Asia Limited', '\"9756\"': 'Citigroup Global Markets Asia Limited', '\"1390\"': 'Hing Wai Allied Securities Limited', '\"1391\"': 'Hing Wai Allied Securities Limited', '\"1398\"': 'Hing Wai Allied Securities Limited', '\"1399\"': 'Hing Wai Allied Securities Limited', '\"7960\"': 'Beevest Securities Limited', '\"7961\"': 'Beevest Securities Limited', '\"7968\"': 'Beevest Securities Limited', '\"7969\"': 'Beevest Securities Limited', '\"5406\"': 'Sino Capital Securities Limited', '\"5407\"': 'Sino Capital Securities Limited', '\"5408\"': 'Sino Capital Securities Limited', '\"3549\"': 'Kingston Securities Limited', '\"3714\"': 'Kingston Securities Limited', '\"3715\"': 'Kingston Securities Limited', '\"3716\"': 'Kingston Securities Limited', '\"3717\"': 'Kingston Securities Limited', '\"3718\"': 'Kingston Securities Limited', '\"3719\"': 'Kingston Securities Limited', '\"3760\"': 'Kingston Securities Limited', '\"3761\"': 'Kingston Securities Limited', '\"3762\"': 'Kingston Securities Limited', '\"3764\"': 'Kingston Securities Limited', '\"3765\"': 'Kingston Securities Limited', '\"3766\"': 'Kingston Securities Limited', '\"3767\"': 'Kingston Securities Limited', '\"3768\"': 'Kingston Securities Limited', '\"3769\"': 'Kingston Securities Limited', '\"3840\"': 'Tai Tak Securities (Asia) Limited', '\"3841\"': 'Tai Tak Securities (Asia) Limited', '\"3848\"': 'Tai Tak Securities (Asia) Limited', '\"3849\"': 'Tai Tak Securities (Asia) Limited', '\"4140\"': 'Ying Wah Securities Company Limited', '\"4149\"': 'Ying Wah Securities Company Limited', '\"4678\"': 'Baili Securities Company Limited', '\"4679\"': 'Baili Securities Company Limited', '\"3230\"': 'Victory Securities Company Limited', '\"3232\"': 'Victory Securities Company Limited', '\"3234\"': 'Victory Securities Company Limited', '\"3235\"': 'Victory Securities Company Limited', '\"3236\"': 'Victory Securities Company Limited', '\"3237\"': 'Victory Securities Company Limited', '\"3238\"': 'Victory Securities Company Limited', '\"3239\"': 'Victory Securities Company Limited', '\"7630\"': 'Wonderland International Securities Limited', '\"7639\"': 'Wonderland International Securities Limited', '\"5160\"': 'DL Brokerage Limited', '\"5168\"': 'DL Brokerage Limited', '\"5169\"': 'DL Brokerage Limited', '\"3439\"': 'Goldman Sachs (Asia) Securities Limited', '\"3440\"': 'Goldman Sachs (Asia) Securities Limited', '\"3441\"': 'Goldman Sachs (Asia) Securities Limited', '\"3442\"': 'Goldman Sachs (Asia) Securities Limited', '\"3443\"': 'Goldman Sachs (Asia) Securities Limited', '\"3445\"': 'Goldman Sachs (Asia) Securities Limited', '\"3446\"': 'Goldman Sachs (Asia) Securities Limited', '\"3448\"': 'Goldman Sachs (Asia) Securities Limited', '\"3450\"': 'Goldman Sachs (Asia) Securities Limited', '\"3451\"': 'Goldman Sachs (Asia) Securities Limited', '\"3452\"': 'Goldman Sachs (Asia) Securities Limited', '\"3453\"': 'Goldman Sachs (Asia) Securities Limited', '\"3454\"': 'Goldman Sachs (Asia) Securities Limited', '\"3455\"': 'Goldman Sachs (Asia) Securities Limited', '\"3456\"': 'Goldman Sachs (Asia) Securities Limited', '\"3457\"': 'Goldman Sachs (Asia) Securities Limited', '\"3459\"': 'Goldman Sachs (Asia) Securities Limited', '\"9722\"': 'Goldman Sachs (Asia) Securities Limited', '\"9735\"': 'Goldman Sachs (Asia) Securities Limited', '\"9736\"': 'Goldman Sachs (Asia) Securities Limited', '\"9737\"': 'Goldman Sachs (Asia) Securities Limited', '\"9738\"': 'Goldman Sachs (Asia) Securities Limited', '\"9739\"': 'Goldman Sachs (Asia) Securities Limited', '\"7600\"': 'Hao Tian International Securities Limited', '\"7609\"': 'Hao Tian International Securities Limited', '\"1538\"': 'National Resources Securities Limited', '\"1320\"': 'Yicko Securities Limited', '\"1321\"': 'Yicko Securities Limited', '\"1324\"': 'Yicko Securities Limited', '\"1325\"': 'Yicko Securities Limited', '\"1326\"': 'Yicko Securities Limited', '\"1327\"': 'Yicko Securities Limited', '\"1328\"': 'Yicko Securities Limited', '\"1329\"': 'Yicko Securities Limited', '\"2965\"': 'Yicko Securities Limited', '\"2966\"': 'Yicko Securities Limited', '\"2967\"': 'Yicko Securities Limited', '\"2968\"': 'Yicko Securities Limited', '\"2969\"': 'Yicko Securities Limited', '\"5687\"': 'iFAST Securities (HK) Limited', '\"5689\"': 'iFAST Securities (HK) Limited', '\"1637\"': 'Berich Brokerage Limited', '\"1638\"': 'Berich Brokerage Limited', '\"1639\"': 'Berich Brokerage Limited', '\"4180\"': 'Kaiser Securities Limited', '\"4188\"': 'Kaiser Securities Limited', '\"4189\"': 'Kaiser Securities Limited', '\"4120\"': 'Hung Sing Securities Limited', '\"4121\"': 'Hung Sing Securities Limited', '\"4127\"': 'Hung Sing Securities Limited', '\"4128\"': 'Hung Sing Securities Limited', '\"4129\"': 'Hung Sing Securities Limited', '\"623\"': 'Great Bay Securities Limited', '\"1039\"': 'Goldbridge Securities Limited', '\"3779\"': 'New Region Securities Company Limited', '\"6550\"': 'Bullish Securities Limited', '\"6559\"': 'Bullish Securities Limited', '\"7738\"': 'China Renaissance Broking Services (Hong Kong) Limited', '\"7739\"': 'China Renaissance Broking Services (Hong Kong) Limited', '\"8546\"': 'HSBC Securities Brokers (Asia) Limited', '\"8570\"': 'HSBC Securities Brokers (Asia) Limited', '\"8571\"': 'HSBC Securities Brokers (Asia) Limited', '\"8572\"': 'HSBC Securities Brokers (Asia) Limited', '\"8574\"': 'HSBC Securities Brokers (Asia) Limited', '\"8575\"': 'HSBC Securities Brokers (Asia) Limited', '\"8576\"': 'HSBC Securities Brokers (Asia) Limited', '\"8577\"': 'HSBC Securities Brokers (Asia) Limited', '\"8578\"': 'HSBC Securities Brokers (Asia) Limited', '\"8579\"': 'HSBC Securities Brokers (Asia) Limited', '\"8730\"': 'HSBC Securities Brokers (Asia) Limited', '\"8731\"': 'HSBC Securities Brokers (Asia) Limited', '\"8732\"': 'HSBC Securities Brokers (Asia) Limited', '\"8733\"': 'HSBC Securities Brokers (Asia) Limited', '\"8734\"': 'HSBC Securities Brokers (Asia) Limited', '\"8736\"': 'HSBC Securities Brokers (Asia) Limited', '\"8737\"': 'HSBC Securities Brokers (Asia) Limited', '\"8738\"': 'HSBC Securities Brokers (Asia) Limited', '\"8739\"': 'HSBC Securities Brokers (Asia) Limited', '\"8740\"': 'HSBC Securities Brokers (Asia) Limited', '\"8741\"': 'HSBC Securities Brokers (Asia) Limited', '\"8742\"': 'HSBC Securities Brokers (Asia) Limited', '\"8743\"': 'HSBC Securities Brokers (Asia) Limited', '\"8744\"': 'HSBC Securities Brokers (Asia) Limited', '\"8745\"': 'HSBC Securities Brokers (Asia) Limited', '\"8746\"': 'HSBC Securities Brokers (Asia) Limited', '\"8747\"': 'HSBC Securities Brokers (Asia) Limited', '\"8749\"': 'HSBC Securities Brokers (Asia) Limited', '\"9721\"': 'HSBC Securities Brokers (Asia) Limited', '\"9727\"': 'HSBC Securities Brokers (Asia) Limited', '\"9730\"': 'HSBC Securities Brokers (Asia) Limited', '\"9731\"': 'HSBC Securities Brokers (Asia) Limited', '\"9757\"': 'HSBC Securities Brokers (Asia) Limited', '\"1190\"': 'Credit Suisse Securities (Hong Kong) Limited', '\"1191\"': 'Credit Suisse Securities (Hong Kong) Limited', '\"1193\"': 'Credit Suisse Securities (Hong Kong) Limited', '\"1194\"': 'Credit Suisse Securities (Hong Kong) Limited', '\"1196\"': 'Credit Suisse Securities (Hong Kong) Limited', '\"1197\"': 'Credit Suisse Securities (Hong Kong) Limited', '\"1198\"': 'Credit Suisse Securities (Hong Kong) Limited', '\"4080\"': 'Credit Suisse Securities (Hong Kong) Limited', '\"4081\"': 'Credit Suisse Securities (Hong Kong) Limited', '\"4082\"': 'Credit Suisse Securities (Hong Kong) Limited', '\"4083\"': 'Credit Suisse Securities (Hong Kong) Limited', '\"4084\"': 'Credit Suisse Securities (Hong Kong) Limited', '\"4085\"': 'Credit Suisse Securities (Hong Kong) Limited', '\"4086\"': 'Credit Suisse Securities (Hong Kong) Limited', '\"4087\"': 'Credit Suisse Securities (Hong Kong) Limited', '\"4088\"': 'Credit Suisse Securities (Hong Kong) Limited', '\"4098\"': 'Credit Suisse Securities (Hong Kong) Limited', '\"4099\"': 'Credit Suisse Securities (Hong Kong) Limited', '\"9700\"': 'Credit Suisse Securities (Hong Kong) Limited', '\"9701\"': 'Credit Suisse Securities (Hong Kong) Limited', '\"9718\"': 'Credit Suisse Securities (Hong Kong) Limited', '\"9719\"': 'Credit Suisse Securities (Hong Kong) Limited', '\"9720\"': 'Credit Suisse Securities (Hong Kong) Limited', '\"9746\"': 'Credit Suisse Securities (Hong Kong) Limited', '\"9751\"': 'Credit Suisse Securities (Hong Kong) Limited', '\"9752\"': 'Credit Suisse Securities (Hong Kong) Limited', '\"8200\"': 'Yardley Securities Limited', '\"8201\"': 'Yardley Securities Limited', '\"8202\"': 'Yardley Securities Limited', '\"8207\"': 'Yardley Securities Limited', '\"8208\"': 'Yardley Securities Limited', '\"8209\"': 'Yardley Securities Limited', '\"440\"': 'Audrey Chow Securities Limited', '\"449\"': 'Audrey Chow Securities Limited', '\"6250\"': 'SinoPac Securities (Asia) Limited', '\"6257\"': 'SinoPac Securities (Asia) Limited', '\"6258\"': 'SinoPac Securities (Asia) Limited', '\"6259\"': 'SinoPac Securities (Asia) Limited', '\"5910\"': 'D.J. Securities Limited', '\"5919\"': 'D.J. Securities Limited', '\"670\"': 'Goldride Securities Limited', '\"679\"': 'Goldride Securities Limited', '\"890\"': 'Shacom Securities Limited', '\"891\"': 'Shacom Securities Limited', '\"892\"': 'Shacom Securities Limited', '\"893\"': 'Shacom Securities Limited', '\"894\"': 'Shacom Securities Limited', '\"895\"': 'Shacom Securities Limited', '\"896\"': 'Shacom Securities Limited', '\"897\"': 'Shacom Securities Limited', '\"898\"': 'Shacom Securities Limited', '\"899\"': 'Shacom Securities Limited', '\"990\"': 'Shacom Securities Limited', '\"991\"': 'Shacom Securities Limited', '\"996\"': 'Shacom Securities Limited', '\"997\"': 'Shacom Securities Limited', '\"998\"': 'Shacom Securities Limited', '\"999\"': 'Shacom Securities Limited', '\"4330\"': 'Southwest Securities (HK) Brokerage Limited', '\"4331\"': 'Southwest Securities (HK) Brokerage Limited', '\"4336\"': 'Southwest Securities (HK) Brokerage Limited', '\"4338\"': 'Southwest Securities (HK) Brokerage Limited', '\"4339\"': 'Southwest Securities (HK) Brokerage Limited', '\"6889\"': 'Unicorn Securities Company Limited', '\"3879\"': 'Oriental Patron Securities Limited', '\"3990\"': 'Tat Lee Securities Company Limited', '\"3991\"': 'Tat Lee Securities Company Limited', '\"3998\"': 'Tat Lee Securities Company Limited', '\"3999\"': 'Tat Lee Securities Company Limited', '\"5140\"': 'Karl-Thomson Securities Company Limited', '\"5141\"': 'Karl-Thomson Securities Company Limited', '\"5147\"': 'Karl-Thomson Securities Company Limited', '\"5148\"': 'Karl-Thomson Securities Company Limited', '\"5149\"': 'Karl-Thomson Securities Company Limited', '\"89\"': 'Good Harvest Securities Company Limited', '\"5850\"': 'North Sea Securities Limited', '\"730\"': 'Chan Ngok Ming Securities Limited', '\"6560\"': 'Ever-Long Securities Company Limited', '\"6568\"': 'Ever-Long Securities Company Limited', '\"6569\"': 'Ever-Long Securities Company Limited', '\"4500\"': 'Kee Cheong Securities Company Limited', '\"4509\"': 'Kee Cheong Securities Company Limited', '\"3069\"': 'Nittan Securities Asia Limited', '\"570\"': 'EAA Securities Limited', '\"579\"': 'EAA Securities Limited', '\"1129\"': 'Fulljet Securities Limited', '\"3000\"': 'Wing Yee Securities Company Limited', '\"3001\"': 'Wing Yee Securities Company Limited', '\"3007\"': 'Wing Yee Securities Company Limited', '\"3008\"': 'Wing Yee Securities Company Limited', '\"6918\"': 'Morton Securities Limited', '\"6919\"': 'Morton Securities Limited', '\"120\"': 'Upbest Securities Company Limited', '\"127\"': 'Upbest Securities Company Limited', '\"129\"': 'Upbest Securities Company Limited', '\"830\"': 'Kwong Fat Hong (Securities) Limited', '\"831\"': 'Kwong Fat Hong (Securities) Limited', '\"832\"': 'Kwong Fat Hong (Securities) Limited', '\"838\"': 'Kwong Fat Hong (Securities) Limited', '\"3938\"': 'Wo Fung Securities Company Limited', '\"3939\"': 'Wo Fung Securities Company Limited', '\"4950\"': 'Kwok Hing Securities Limited', '\"4959\"': 'Kwok Hing Securities Limited', '\"490\"': 'Huayu Securities Limited', '\"491\"': 'Huayu Securities Limited', '\"498\"': 'Huayu Securities Limited', '\"499\"': 'Huayu Securities Limited', '\"2519\"': 'Yue Xiu Securities Company Limited', '\"8290\"': 'Yue Xiu Securities Company Limited', '\"8291\"': 'Yue Xiu Securities Company Limited', '\"8292\"': 'Yue Xiu Securities Company Limited', '\"8293\"': 'Yue Xiu Securities Company Limited', '\"8295\"': 'Yue Xiu Securities Company Limited', '\"8296\"': 'Yue Xiu Securities Company Limited', '\"8297\"': 'Yue Xiu Securities Company Limited', '\"8298\"': 'Yue Xiu Securities Company Limited', '\"8299\"': 'Yue Xiu Securities Company Limited', '\"5590\"': 'Carrier Stock Investment Company Limited', '\"5599\"': 'Carrier Stock Investment Company Limited', '\"8418\"': 'ABN AMRO Clearing Hong Kong Limited', '\"8500\"': 'ABN AMRO Clearing Hong Kong Limited', '\"8501\"': 'ABN AMRO Clearing Hong Kong Limited', '\"8502\"': 'ABN AMRO Clearing Hong Kong Limited', '\"8503\"': 'ABN AMRO Clearing Hong Kong Limited', '\"8504\"': 'ABN AMRO Clearing Hong Kong Limited', '\"8505\"': 'ABN AMRO Clearing Hong Kong Limited', '\"8506\"': 'ABN AMRO Clearing Hong Kong Limited', '\"8507\"': 'ABN AMRO Clearing Hong Kong Limited', '\"8508\"': 'ABN AMRO Clearing Hong Kong Limited', '\"8509\"': 'ABN AMRO Clearing Hong Kong Limited', '\"8510\"': 'ABN AMRO Clearing Hong Kong Limited', '\"8511\"': 'ABN AMRO Clearing Hong Kong Limited', '\"8513\"': 'ABN AMRO Clearing Hong Kong Limited', '\"8514\"': 'ABN AMRO Clearing Hong Kong Limited', '\"8515\"': 'ABN AMRO Clearing Hong Kong Limited', '\"8516\"': 'ABN AMRO Clearing Hong Kong Limited', '\"8517\"': 'ABN AMRO Clearing Hong Kong Limited', '\"8518\"': 'ABN AMRO Clearing Hong Kong Limited', '\"8519\"': 'ABN AMRO Clearing Hong Kong Limited', '\"8534\"': 'ABN AMRO Clearing Hong Kong Limited', '\"8535\"': 'ABN AMRO Clearing Hong Kong Limited', '\"8536\"': 'ABN AMRO Clearing Hong Kong Limited', '\"8537\"': 'ABN AMRO Clearing Hong Kong Limited', '\"8538\"': 'ABN AMRO Clearing Hong Kong Limited', '\"8539\"': 'ABN AMRO Clearing Hong Kong Limited', '\"8550\"': 'ABN AMRO Clearing Hong Kong Limited', '\"8555\"': 'ABN AMRO Clearing Hong Kong Limited', '\"8556\"': 'ABN AMRO Clearing Hong Kong Limited', '\"8557\"': 'ABN AMRO Clearing Hong Kong Limited', '\"8560\"': 'ABN AMRO Clearing Hong Kong Limited', '\"8561\"': 'ABN AMRO Clearing Hong Kong Limited', '\"8562\"': 'ABN AMRO Clearing Hong Kong Limited', '\"8563\"': 'ABN AMRO Clearing Hong Kong Limited', '\"8564\"': 'ABN AMRO Clearing Hong Kong Limited', '\"8565\"': 'ABN AMRO Clearing Hong Kong Limited', '\"8566\"': 'ABN AMRO Clearing Hong Kong Limited', '\"8567\"': 'ABN AMRO Clearing Hong Kong Limited', '\"8568\"': 'ABN AMRO Clearing Hong Kong Limited', '\"8569\"': 'ABN AMRO Clearing Hong Kong Limited', '\"1880\"': 'Luk Fook Securities (HK) Limited', '\"1885\"': 'Luk Fook Securities (HK) Limited', '\"1886\"': 'Luk Fook Securities (HK) Limited', '\"1887\"': 'Luk Fook Securities (HK) Limited', '\"1888\"': 'Luk Fook Securities (HK) Limited', '\"1889\"': 'Luk Fook Securities (HK) Limited', '\"1130\"': 'Hing Lee Securities Limited', '\"1138\"': 'Hing Lee Securities Limited', '\"1139\"': 'Hing Lee Securities Limited', '\"558\"': 'Huarong International Securities Limited', '\"559\"': 'Huarong International Securities Limited', '\"600\"': 'Huarong International Securities Limited', '\"604\"': 'Huarong International Securities Limited', '\"605\"': 'Huarong International Securities Limited', '\"606\"': 'Huarong International Securities Limited', '\"607\"': 'Huarong International Securities Limited', '\"608\"': 'Huarong International Securities Limited', '\"609\"': 'Huarong International Securities Limited', '\"610\"': 'Huarong International Securities Limited', '\"611\"': 'Huarong International Securities Limited', '\"612\"': 'Huarong International Securities Limited', '\"614\"': 'Huarong International Securities Limited', '\"615\"': 'Huarong International Securities Limited', '\"616\"': 'Huarong International Securities Limited', '\"617\"': 'Huarong International Securities Limited', '\"618\"': 'Huarong International Securities Limited', '\"619\"': 'Huarong International Securities Limited', '\"8674\"': 'Huarong International Securities Limited', '\"8675\"': 'Huarong International Securities Limited', '\"8676\"': 'Huarong International Securities Limited', '\"8677\"': 'Huarong International Securities Limited', '\"8678\"': 'Huarong International Securities Limited', '\"8679\"': 'Huarong International Securities Limited', '\"8680\"': 'Huarong International Securities Limited', '\"8684\"': 'Huarong International Securities Limited', '\"8685\"': 'Huarong International Securities Limited', '\"8686\"': 'Huarong International Securities Limited', '\"8687\"': 'Huarong International Securities Limited', '\"8688\"': 'Huarong International Securities Limited', '\"8689\"': 'Huarong International Securities Limited', '\"1160\"': 'ABCI Securities Company Limited', '\"1163\"': 'ABCI Securities Company Limited', '\"1164\"': 'ABCI Securities Company Limited', '\"1165\"': 'ABCI Securities Company Limited', '\"1166\"': 'ABCI Securities Company Limited', '\"1167\"': 'ABCI Securities Company Limited', '\"1168\"': 'ABCI Securities Company Limited', '\"1169\"': 'ABCI Securities Company Limited', '\"5194\"': 'Guotai Junan Securities (Hong Kong) Limited', '\"5195\"': 'Guotai Junan Securities (Hong Kong) Limited', '\"5196\"': 'Guotai Junan Securities (Hong Kong) Limited', '\"5197\"': 'Guotai Junan Securities (Hong Kong) Limited', '\"5198\"': 'Guotai Junan Securities (Hong Kong) Limited', '\"5199\"': 'Guotai Junan Securities (Hong Kong) Limited', '\"6100\"': 'Guotai Junan Securities (Hong Kong) Limited', '\"6101\"': 'Guotai Junan Securities (Hong Kong) Limited', '\"6102\"': 'Guotai Junan Securities (Hong Kong) Limited', '\"6104\"': 'Guotai Junan Securities (Hong Kong) Limited', '\"6105\"': 'Guotai Junan Securities (Hong Kong) Limited', '\"6106\"': 'Guotai Junan Securities (Hong Kong) Limited', '\"6107\"': 'Guotai Junan Securities (Hong Kong) Limited', '\"6108\"': 'Guotai Junan Securities (Hong Kong) Limited', '\"6109\"': 'Guotai Junan Securities (Hong Kong) Limited', '\"9748\"': 'Guotai Junan Securities (Hong Kong) Limited', '\"3220\"': 'Prime Securities Limited', '\"3229\"': 'Prime Securities Limited', '\"3219\"': 'Shun Loong Securities Company Limited', '\"7370\"': 'Goldenway Securities Company Limited', '\"7379\"': 'Goldenway Securities Company Limited', '\"6849\"': 'Karford Securities Limited', '\"3920\"': 'Wader Securities Company Limited', '\"6950\"': 'Master Trademore Securities Limited', '\"6958\"': 'Master Trademore Securities Limited', '\"6959\"': 'Master Trademore Securities Limited', '\"5610\"': 'Siu On Securities Limited', '\"5619\"': 'Siu On Securities Limited', '\"260\"': 'YF Securities Company Limited', '\"268\"': 'YF Securities Company Limited', '\"269\"': 'YF Securities Company Limited', '\"4780\"': 'Elstone Securities Limited', '\"2150\"': 'Oshidori Securities Limited', '\"2159\"': 'Oshidori Securities Limited', '\"6984\"': 'Kingsway Financial Services Group Limited', '\"6985\"': 'Kingsway Financial Services Group Limited', '\"6986\"': 'Kingsway Financial Services Group Limited', '\"6987\"': 'Kingsway Financial Services Group Limited', '\"6988\"': 'Kingsway Financial Services Group Limited', '\"6989\"': 'Kingsway Financial Services Group Limited', '\"7170\"': 'Kingsway Financial Services Group Limited', '\"7174\"': 'Kingsway Financial Services Group Limited', '\"7175\"': 'Kingsway Financial Services Group Limited', '\"7176\"': 'Kingsway Financial Services Group Limited', '\"7177\"': 'Kingsway Financial Services Group Limited', '\"7178\"': 'Kingsway Financial Services Group Limited', '\"7179\"': 'Kingsway Financial Services Group Limited', '\"7228\"': 'Thing On Securities Limited', '\"7229\"': 'Thing On Securities Limited', '\"4580\"': 'Chief Securities Limited', '\"4581\"': 'Chief Securities Limited', '\"4582\"': 'Chief Securities Limited', '\"4583\"': 'Chief Securities Limited', '\"4585\"': 'Chief Securities Limited', '\"4586\"': 'Chief Securities Limited', '\"4587\"': 'Chief Securities Limited', '\"4588\"': 'Chief Securities Limited', '\"4589\"': 'Chief Securities Limited', '\"4626\"': 'Chief Securities Limited', '\"4627\"': 'Chief Securities Limited', '\"4628\"': 'Chief Securities Limited', '\"4636\"': 'Chief Securities Limited', '\"4637\"': 'Chief Securities Limited', '\"4638\"': 'Chief Securities Limited', '\"4639\"': 'Chief Securities Limited', '\"4654\"': 'Chief Securities Limited', '\"4655\"': 'Chief Securities Limited', '\"4658\"': 'Chief Securities Limited', '\"4659\"': 'Chief Securities Limited', '\"4660\"': 'Chief Securities Limited', '\"4662\"': 'Chief Securities Limited', '\"4663\"': 'Chief Securities Limited', '\"4664\"': 'Chief Securities Limited', '\"4665\"': 'Chief Securities Limited', '\"4666\"': 'Chief Securities Limited', '\"4667\"': 'Chief Securities Limited', '\"4668\"': 'Chief Securities Limited', '\"4669\"': 'Chief Securities Limited', '\"4683\"': 'Chief Securities Limited', '\"4686\"': 'Chief Securities Limited', '\"4688\"': 'Chief Securities Limited', '\"4689\"': 'Chief Securities Limited', '\"2680\"': 'Sino Grade Securities Limited', '\"2689\"': 'Sino Grade Securities Limited', '\"1330\"': 'Lei Shing Hong Securities Limited', '\"1339\"': 'Lei Shing Hong Securities Limited', '\"6690\"': 'Interactive Brokers Hong Kong Limited', '\"6698\"': 'Interactive Brokers Hong Kong Limited', '\"6699\"': 'Interactive Brokers Hong Kong Limited', '\"8701\"': 'Platinum Broking Company Limited', '\"8708\"': 'Platinum Broking Company Limited', '\"8709\"': 'Platinum Broking Company Limited', '\"5383\"': 'CSC Securities (HK) Limited', '\"5384\"': 'CSC Securities (HK) Limited', '\"5386\"': 'CSC Securities (HK) Limited', '\"5387\"': 'CSC Securities (HK) Limited', '\"5388\"': 'CSC Securities (HK) Limited', '\"5389\"': 'CSC Securities (HK) Limited', '\"6470\"': 'CSC Securities (HK) Limited', '\"6471\"': 'CSC Securities (HK) Limited', '\"6474\"': 'CSC Securities (HK) Limited', '\"6475\"': 'CSC Securities (HK) Limited', '\"6476\"': 'CSC Securities (HK) Limited', '\"6477\"': 'CSC Securities (HK) Limited', '\"6478\"': 'CSC Securities (HK) Limited', '\"6479\"': 'CSC Securities (HK) Limited', '\"6210\"': 'Huabang Securities Limited', '\"6219\"': 'Huabang Securities Limited', '\"8260\"': 'Ewarton Securities Limited', '\"8269\"': 'Ewarton Securities Limited', '\"6010\"': 'TC Concord Securities Limited', '\"6018\"': 'TC Concord Securities Limited', '\"3619\"': 'Wilby Securities Limited', '\"2398\"': 'KGI Asia Limited', '\"5391\"': 'KGI Asia Limited', '\"5399\"': 'KGI Asia Limited', '\"6080\"': 'KGI Asia Limited', '\"6081\"': 'KGI Asia Limited', '\"6082\"': 'KGI Asia Limited', '\"6083\"': 'KGI Asia Limited', '\"6084\"': 'KGI Asia Limited', '\"6085\"': 'KGI Asia Limited', '\"6086\"': 'KGI Asia Limited', '\"6087\"': 'KGI Asia Limited', '\"6088\"': 'KGI Asia Limited', '\"6089\"': 'KGI Asia Limited', '\"8580\"': 'KGI Asia Limited', '\"8581\"': 'KGI Asia Limited', '\"8582\"': 'KGI Asia Limited', '\"8583\"': 'KGI Asia Limited', '\"8584\"': 'KGI Asia Limited', '\"8585\"': 'KGI Asia Limited', '\"8586\"': 'KGI Asia Limited', '\"8587\"': 'KGI Asia Limited', '\"8589\"': 'KGI Asia Limited', '\"8590\"': 'KGI Asia Limited', '\"8592\"': 'KGI Asia Limited', '\"8593\"': 'KGI Asia Limited', '\"8594\"': 'KGI Asia Limited', '\"8596\"': 'KGI Asia Limited', '\"8597\"': 'KGI Asia Limited', '\"8598\"': 'KGI Asia Limited', '\"8599\"': 'KGI Asia Limited', '\"5245\"': 'Kam Fai Securities Company Limited', '\"5246\"': 'Kam Fai Securities Company Limited', '\"5247\"': 'Kam Fai Securities Company Limited', '\"5248\"': 'Kam Fai Securities Company Limited', '\"5249\"': 'Kam Fai Securities Company Limited', '\"5470\"': 'Kam Fai Securities Company Limited', '\"5471\"': 'Kam Fai Securities Company Limited', '\"5472\"': 'Kam Fai Securities Company Limited', '\"5473\"': 'Kam Fai Securities Company Limited', '\"5475\"': 'Kam Fai Securities Company Limited', '\"5476\"': 'Kam Fai Securities Company Limited', '\"5477\"': 'Kam Fai Securities Company Limited', '\"5478\"': 'Kam Fai Securities Company Limited', '\"5479\"': 'Kam Fai Securities Company Limited', '\"5000\"': 'Tung Wui Securities Company Limited', '\"6098\"': 'Tai Fung Kuentai Securities Company Limited', '\"6099\"': 'Tai Fung Kuentai Securities Company Limited', '\"9157\"': 'China Guard Investments Limited', '\"9159\"': 'China Guard Investments Limited', '\"3790\"': 'CSFG International Securities Limited', '\"3799\"': 'CSFG International Securities Limited', '\"1410\"': 'Anli Securities Limited', '\"1419\"': 'Anli Securities Limited', '\"8320\"': 'Planetree Securities Limited', '\"8328\"': 'Planetree Securities Limited', '\"8329\"': 'Planetree Securities Limited', '\"1650\"': 'Wai Fat Securities Limited', '\"1659\"': 'Wai Fat Securities Limited', '\"2380\"': 'Enlighten Securities Limited', '\"2381\"': 'Enlighten Securities Limited', '\"2388\"': 'Enlighten Securities Limited', '\"2389\"': 'Enlighten Securities Limited', '\"2860\"': 'Business Securities Limited', '\"2867\"': 'Business Securities Limited', '\"2868\"': 'Business Securities Limited', '\"2869\"': 'Business Securities Limited', '\"5499\"': 'Full Win Securities Limited', '\"3110\"': 'KMT Securities Limited', '\"3119\"': 'KMT Securities Limited', '\"2639\"': 'Selina & Co. Limited', '\"1940\"': 'Tai Ning Stock Company Limited', '\"1949\"': 'Tai Ning Stock Company Limited', '\"1210\"': 'Stellar Securities Limited', '\"1218\"': 'Stellar Securities Limited', '\"1219\"': 'Stellar Securities Limited', '\"5880\"': 'Cinda International Securities Limited', '\"5881\"': 'Cinda International Securities Limited', '\"5882\"': 'Cinda International Securities Limited', '\"5883\"': 'Cinda International Securities Limited', '\"5887\"': 'Cinda International Securities Limited', '\"5888\"': 'Cinda International Securities Limited', '\"5889\"': 'Cinda International Securities Limited', '\"6119\"': 'Ming Hon Securities Limited', '\"2909\"': 'Wai Man Stock & Shares Company Limited', '\"2417\"': 'China International Capital Corporation Hong Kong Securities Limited', '\"2418\"': 'China International Capital Corporation Hong Kong Securities Limited', '\"2419\"': 'China International Capital Corporation Hong Kong Securities Limited', '\"8960\"': 'China International Capital Corporation Hong Kong Securities Limited', '\"8961\"': 'China International Capital Corporation Hong Kong Securities Limited', '\"8962\"': 'China International Capital Corporation Hong Kong Securities Limited', '\"8963\"': 'China International Capital Corporation Hong Kong Securities Limited', '\"8965\"': 'China International Capital Corporation Hong Kong Securities Limited', '\"8968\"': 'China International Capital Corporation Hong Kong Securities Limited', '\"8969\"': 'China International Capital Corporation Hong Kong Securities Limited', '\"4900\"': 'JS Cresvale Securities International Limited', '\"4908\"': 'JS Cresvale Securities International Limited', '\"4909\"': 'JS Cresvale Securities International Limited', '\"1000\"': 'Cheer Union Securities Limited', '\"1008\"': 'Cheer Union Securities Limited', '\"1009\"': 'Cheer Union Securities Limited', '\"66\"': 'Gransing Securities Co., Limited', '\"69\"': 'Gransing Securities Co., Limited', '\"2250\"': 'Hermes Securities Limited', '\"2259\"': 'Hermes Securities Limited', '\"7830\"': 'Bokhary Securities Limited', '\"7839\"': 'Bokhary Securities Limited', '\"2830\"': 'Roofer Securities Limited', '\"2839\"': 'Roofer Securities Limited', '\"7310\"': 'Winsome Stock Company Limited', '\"7319\"': 'Winsome Stock Company Limited', '\"3046\"': 'Glory Sun Securities Limited', '\"3047\"': 'Glory Sun Securities Limited', '\"3048\"': 'Glory Sun Securities Limited', '\"3049\"': 'Glory Sun Securities Limited', '\"9100\"': 'Glory Sun Securities Limited', '\"9104\"': 'Glory Sun Securities Limited', '\"9105\"': 'Glory Sun Securities Limited', '\"9106\"': 'Glory Sun Securities Limited', '\"9107\"': 'Glory Sun Securities Limited', '\"9108\"': 'Glory Sun Securities Limited', '\"9109\"': 'Glory Sun Securities Limited', '\"1714\"': 'Bright Smart Securities International (H.K.) Limited', '\"1715\"': 'Bright Smart Securities International (H.K.) Limited', '\"1716\"': 'Bright Smart Securities International (H.K.) Limited', '\"1717\"': 'Bright Smart Securities International (H.K.) Limited', '\"1718\"': 'Bright Smart Securities International (H.K.) Limited', '\"1719\"': 'Bright Smart Securities International (H.K.) Limited', '\"1743\"': 'Bright Smart Securities International (H.K.) Limited', '\"1744\"': 'Bright Smart Securities International (H.K.) Limited', '\"1745\"': 'Bright Smart Securities International (H.K.) Limited', '\"1746\"': 'Bright Smart Securities International (H.K.) Limited', '\"1747\"': 'Bright Smart Securities International (H.K.) Limited', '\"1748\"': 'Bright Smart Securities International (H.K.) Limited', '\"1749\"': 'Bright Smart Securities International (H.K.) Limited', '\"1790\"': 'Bright Smart Securities International (H.K.) Limited', '\"1792\"': 'Bright Smart Securities International (H.K.) Limited', '\"1793\"': 'Bright Smart Securities International (H.K.) Limited', '\"1794\"': 'Bright Smart Securities International (H.K.) Limited', '\"1795\"': 'Bright Smart Securities International (H.K.) Limited', '\"1796\"': 'Bright Smart Securities International (H.K.) Limited', '\"1797\"': 'Bright Smart Securities International (H.K.) Limited', '\"1798\"': 'Bright Smart Securities International (H.K.) Limited', '\"1799\"': 'Bright Smart Securities International (H.K.) Limited', '\"4570\"': 'Bright Smart Securities International (H.K.) Limited', '\"4571\"': 'Bright Smart Securities International (H.K.) Limited', '\"4572\"': 'Bright Smart Securities International (H.K.) Limited', '\"4573\"': 'Bright Smart Securities International (H.K.) Limited', '\"4574\"': 'Bright Smart Securities International (H.K.) Limited', '\"4575\"': 'Bright Smart Securities International (H.K.) Limited', '\"4576\"': 'Bright Smart Securities International (H.K.) Limited', '\"4577\"': 'Bright Smart Securities International (H.K.) Limited', '\"4578\"': 'Bright Smart Securities International (H.K.) Limited', '\"4579\"': 'Bright Smart Securities International (H.K.) Limited', '\"5179\"': 'First Securities (HK) Limited', '\"4468\"': 'BaoQiao Partners Securities (HK) Limited', '\"8259\"': 'Worldwide Brokerage Limited', '\"5130\"': 'Fulbright Securities Limited', '\"5131\"': 'Fulbright Securities Limited', '\"5135\"': 'Fulbright Securities Limited', '\"5137\"': 'Fulbright Securities Limited', '\"5138\"': 'Fulbright Securities Limited', '\"5139\"': 'Fulbright Securities Limited', '\"6078\"': 'Fulbright Securities Limited', '\"6079\"': 'Fulbright Securities Limited', '\"9000\"': 'Fulbright Securities Limited', '\"9001\"': 'Fulbright Securities Limited', '\"9004\"': 'Fulbright Securities Limited', '\"9005\"': 'Fulbright Securities Limited', '\"9007\"': 'Fulbright Securities Limited', '\"9008\"': 'Fulbright Securities Limited', '\"9009\"': 'Fulbright Securities Limited', '\"9015\"': 'Fulbright Securities Limited', '\"9016\"': 'Fulbright Securities Limited', '\"9018\"': 'Fulbright Securities Limited', '\"9019\"': 'Fulbright Securities Limited', '\"9070\"': 'Fulbright Securities Limited', '\"9071\"': 'Fulbright Securities Limited', '\"9072\"': 'Fulbright Securities Limited', '\"9076\"': 'Fulbright Securities Limited', '\"9077\"': 'Fulbright Securities Limited', '\"9079\"': 'Fulbright Securities Limited', '\"9080\"': 'Fulbright Securities Limited', '\"9081\"': 'Fulbright Securities Limited', '\"9082\"': 'Fulbright Securities Limited', '\"9083\"': 'Fulbright Securities Limited', '\"9084\"': 'Fulbright Securities Limited', '\"9085\"': 'Fulbright Securities Limited', '\"9086\"': 'Fulbright Securities Limited', '\"9087\"': 'Fulbright Securities Limited', '\"9089\"': 'Fulbright Securities Limited', '\"9094\"': 'Fulbright Securities Limited', '\"9095\"': 'Fulbright Securities Limited', '\"9097\"': 'Fulbright Securities Limited', '\"9098\"': 'Fulbright Securities Limited', '\"9126\"': 'Fulbright Securities Limited', '\"9127\"': 'Fulbright Securities Limited', '\"9128\"': 'Fulbright Securities Limited', '\"8879\"': 'Hongkong Bay Securities Limited', '\"4030\"': 'Tai Shing Stock Investment Co. Limited', '\"4031\"': 'Tai Shing Stock Investment Co. Limited', '\"4039\"': 'Tai Shing Stock Investment Co. Limited', '\"2090\"': 'Anuenue Securities Limited', '\"2099\"': 'Anuenue Securities Limited', '\"4869\"': 'GLS Securities Limited', '\"5010\"': 'Tai Fung Securities Limited', '\"5011\"': 'Tai Fung Securities Limited', '\"5018\"': 'Tai Fung Securities Limited', '\"5019\"': 'Tai Fung Securities Limited', '\"9130\"': 'Success Securities Limited', '\"9133\"': 'Success Securities Limited', '\"9134\"': 'Success Securities Limited', '\"9135\"': 'Success Securities Limited', '\"9136\"': 'Success Securities Limited', '\"9137\"': 'Success Securities Limited', '\"9138\"': 'Success Securities Limited', '\"9139\"': 'Success Securities Limited', '\"7920\"': 'Wing On Securities Limited', '\"7707\"': 'Evergrande Securities (Hong Kong) Limited', '\"7708\"': 'Evergrande Securities (Hong Kong) Limited', '\"7709\"': 'Evergrande Securities (Hong Kong) Limited', '\"6310\"': 'First Shanghai Securities Limited', '\"6318\"': 'First Shanghai Securities Limited', '\"6319\"': 'First Shanghai Securities Limited', '\"7870\"': 'Greater China Securities Limited', '\"7878\"': 'Greater China Securities Limited', '\"7879\"': 'Greater China Securities Limited', '\"4310\"': 'Power Securities Company Limited', '\"4318\"': 'Power Securities Company Limited', '\"4319\"': 'Power Securities Company Limited', '\"4400\"': 'Dah Sing Securities Limited', '\"4407\"': 'Dah Sing Securities Limited', '\"4409\"': 'Dah Sing Securities Limited', '\"7880\"': 'Hantec Securities Co. Limited', '\"7881\"': 'Hantec Securities Co. Limited', '\"7882\"': 'Hantec Securities Co. Limited', '\"7883\"': 'Hantec Securities Co. Limited', '\"7884\"': 'Hantec Securities Co. Limited', '\"7886\"': 'Hantec Securities Co. Limited', '\"7887\"': 'Hantec Securities Co. Limited', '\"7888\"': 'Hantec Securities Co. Limited', '\"7889\"': 'Hantec Securities Co. Limited', '\"6166\"': 'Masterlink Securities (Hong Kong) Corporation Limited', '\"6167\"': 'Masterlink Securities (Hong Kong) Corporation Limited', '\"6168\"': 'Masterlink Securities (Hong Kong) Corporation Limited', '\"6169\"': 'Masterlink Securities (Hong Kong) Corporation Limited', '\"4838\"': 'Realink Financial Trade Limited', '\"4839\"': 'Realink Financial Trade Limited', '\"598\"': 'JVSakk Asia Limited', '\"599\"': 'JVSakk Asia Limited', '\"7500\"': 'Henik Securities Limited', '\"7508\"': 'Henik Securities Limited', '\"7509\"': 'Henik Securities Limited', '\"3860\"': 'Man Hon Yeung Securities Limited', '\"6368\"': 'Rosa Securities Limited', '\"6369\"': 'Rosa Securities Limited', '\"1905\"': 'Sino-Rich Securities & Futures Limited', '\"1906\"': 'Sino-Rich Securities & Futures Limited', '\"1908\"': 'Sino-Rich Securities & Futures Limited', '\"1909\"': 'Sino-Rich Securities & Futures Limited', '\"1720\"': 'Wah Sang Securities Limited', '\"1729\"': 'Wah Sang Securities Limited', '\"6640\"': 'Head & Shoulders Securities Limited', '\"6641\"': 'Head & Shoulders Securities Limited', '\"6642\"': 'Head & Shoulders Securities Limited', '\"6643\"': 'Head & Shoulders Securities Limited', '\"6644\"': 'Head & Shoulders Securities Limited', '\"6645\"': 'Head & Shoulders Securities Limited', '\"6646\"': 'Head & Shoulders Securities Limited', '\"6647\"': 'Head & Shoulders Securities Limited', '\"6648\"': 'Head & Shoulders Securities Limited', '\"6649\"': 'Head & Shoulders Securities Limited', '\"6650\"': 'Head & Shoulders Securities Limited', '\"6651\"': 'Head & Shoulders Securities Limited', '\"6652\"': 'Head & Shoulders Securities Limited', '\"6653\"': 'Head & Shoulders Securities Limited', '\"6654\"': 'Head & Shoulders Securities Limited', '\"6655\"': 'Head & Shoulders Securities Limited', '\"6656\"': 'Head & Shoulders Securities Limited', '\"6657\"': 'Head & Shoulders Securities Limited', '\"6658\"': 'Head & Shoulders Securities Limited', '\"6659\"': 'Head & Shoulders Securities Limited', '\"6458\"': 'President Securities (Hong Kong) Limited', '\"6459\"': 'President Securities (Hong Kong) Limited', '\"3600\"': 'Orient Securities Limited', '\"3606\"': 'Orient Securities Limited', '\"3608\"': 'Orient Securities Limited', '\"3609\"': 'Orient Securities Limited', '\"989\"': 'Norman Kong Securities Company Limited', '\"1780\"': 'Hua Nan Securities (HK) Limited', '\"1781\"': 'Hua Nan Securities (HK) Limited', '\"1788\"': 'Hua Nan Securities (HK) Limited', '\"1789\"': 'Hua Nan Securities (HK) Limited', '\"1760\"': 'Ramon Investment Company Limited', '\"3050\"': 'GT Capital Limited', '\"3056\"': 'GT Capital Limited', '\"3057\"': 'GT Capital Limited', '\"3058\"': 'GT Capital Limited', '\"3059\"': 'GT Capital Limited', '\"7910\"': 'ICBC (Asia) Securities Limited', '\"7911\"': 'ICBC (Asia) Securities Limited', '\"7914\"': 'ICBC (Asia) Securities Limited', '\"7915\"': 'ICBC (Asia) Securities Limited', '\"7916\"': 'ICBC (Asia) Securities Limited', '\"7917\"': 'ICBC (Asia) Securities Limited', '\"7919\"': 'ICBC (Asia) Securities Limited', '\"8116\"': 'ICBC (Asia) Securities Limited', '\"8117\"': 'ICBC (Asia) Securities Limited', '\"8118\"': 'ICBC (Asia) Securities Limited', '\"8119\"': 'ICBC (Asia) Securities Limited', '\"6377\"': 'AJ SECURITIES LIMITED', '\"6378\"': 'AJ SECURITIES LIMITED', '\"6379\"': 'AJ SECURITIES LIMITED', '\"5968\"': 'Joincap Securities Limited', '\"8490\"': 'CCB Securities Limited', '\"8495\"': 'CCB Securities Limited', '\"8496\"': 'CCB Securities Limited', '\"8498\"': 'CCB Securities Limited', '\"8499\"': 'CCB Securities Limited', '\"6190\"': 'Shun Heng Securities Limited', '\"6199\"': 'Shun Heng Securities Limited', '\"4410\"': 'Wintech Securities Limited', '\"4418\"': 'Wintech Securities Limited', '\"4419\"': 'Wintech Securities Limited', '\"3700\"': 'KCG Securities Asia Limited', '\"3708\"': 'KCG Securities Asia Limited', '\"3709\"': 'KCG Securities Asia Limited', '\"5775\"': 'CES Capital International (Hong Kong) Co., Limited', '\"5776\"': 'CES Capital International (Hong Kong) Co., Limited', '\"5777\"': 'CES Capital International (Hong Kong) Co., Limited', '\"5778\"': 'CES Capital International (Hong Kong) Co., Limited', '\"5779\"': 'CES Capital International (Hong Kong) Co., Limited', '\"2110\"': 'Boom.com Limited', '\"2119\"': 'Boom.com Limited', '\"2120\"': 'Sinomax Securities Limited', '\"2129\"': 'Sinomax Securities Limited', '\"290\"': 'Cepa Alliance Securities Limited', '\"298\"': 'Cepa Alliance Securities Limited', '\"299\"': 'Cepa Alliance Securities Limited', '\"2750\"': 'Evergreen Securities Limited', '\"2758\"': 'Evergreen Securities Limited', '\"2759\"': 'Evergreen Securities Limited', '\"7260\"': 'Virtu ITG Hong Kong Limited', '\"7267\"': 'Virtu ITG Hong Kong Limited', '\"7268\"': 'Virtu ITG Hong Kong Limited', '\"7269\"': 'Virtu ITG Hong Kong Limited', '\"8229\"': 'Merdeka Securities Limited', '\"6940\"': 'COL Securities (HK) Limited', '\"6949\"': 'COL Securities (HK) Limited', '\"5940\"': 'Tang Kee Securities Limited', '\"5949\"': 'Tang Kee Securities Limited', '\"8758\"': 'Imagi Brokerage Limited', '\"8759\"': 'Imagi Brokerage Limited', '\"3360\"': 'Fortune (HK) Securities Limited', '\"3368\"': 'Fortune (HK) Securities Limited', '\"3369\"': 'Fortune (HK) Securities Limited', '\"1010\"': 'Sinofortune Securities Limited', '\"1011\"': 'Sinofortune Securities Limited', '\"1018\"': 'Sinofortune Securities Limited', '\"1019\"': 'Sinofortune Securities Limited', '\"2710\"': 'T G Securities Limited', '\"2717\"': 'T G Securities Limited', '\"2718\"': 'T G Securities Limited', '\"2719\"': 'T G Securities Limited', '\"1318\"': 'China Sky Securities Limited', '\"1319\"': 'China Sky Securities Limited', '\"1820\"': 'China Reserve Securities Limited', '\"1828\"': 'China Reserve Securities Limited', '\"1829\"': 'China Reserve Securities Limited', '\"6790\"': 'Winland Wealth Management Limited', '\"6799\"': 'Winland Wealth Management Limited', '\"2971\"': 'DBS Vickers (Hong Kong) Limited', '\"2972\"': 'DBS Vickers (Hong Kong) Limited', '\"2974\"': 'DBS Vickers (Hong Kong) Limited', '\"2975\"': 'DBS Vickers (Hong Kong) Limited', '\"2976\"': 'DBS Vickers (Hong Kong) Limited', '\"2977\"': 'DBS Vickers (Hong Kong) Limited', '\"2978\"': 'DBS Vickers (Hong Kong) Limited', '\"2979\"': 'DBS Vickers (Hong Kong) Limited', '\"5354\"': 'DBS Vickers (Hong Kong) Limited', '\"5355\"': 'DBS Vickers (Hong Kong) Limited', '\"5356\"': 'DBS Vickers (Hong Kong) Limited', '\"5357\"': 'DBS Vickers (Hong Kong) Limited', '\"5358\"': 'DBS Vickers (Hong Kong) Limited', '\"5359\"': 'DBS Vickers (Hong Kong) Limited', '\"5360\"': 'DBS Vickers (Hong Kong) Limited', '\"5361\"': 'DBS Vickers (Hong Kong) Limited', '\"5362\"': 'DBS Vickers (Hong Kong) Limited', '\"5363\"': 'DBS Vickers (Hong Kong) Limited', '\"5364\"': 'DBS Vickers (Hong Kong) Limited', '\"5365\"': 'DBS Vickers (Hong Kong) Limited', '\"5366\"': 'DBS Vickers (Hong Kong) Limited', '\"5368\"': 'DBS Vickers (Hong Kong) Limited', '\"5369\"': 'DBS Vickers (Hong Kong) Limited', '\"5374\"': 'DBS Vickers (Hong Kong) Limited', '\"5376\"': 'DBS Vickers (Hong Kong) Limited', '\"5377\"': 'DBS Vickers (Hong Kong) Limited', '\"5378\"': 'DBS Vickers (Hong Kong) Limited', '\"5379\"': 'DBS Vickers (Hong Kong) Limited', '\"5414\"': 'DBS Vickers (Hong Kong) Limited', '\"5415\"': 'DBS Vickers (Hong Kong) Limited', '\"5416\"': 'DBS Vickers (Hong Kong) Limited', '\"5417\"': 'DBS Vickers (Hong Kong) Limited', '\"5418\"': 'DBS Vickers (Hong Kong) Limited', '\"5419\"': 'DBS Vickers (Hong Kong) Limited', '\"5454\"': 'DBS Vickers (Hong Kong) Limited', '\"5455\"': 'DBS Vickers (Hong Kong) Limited', '\"5456\"': 'DBS Vickers (Hong Kong) Limited', '\"5457\"': 'DBS Vickers (Hong Kong) Limited', '\"5458\"': 'DBS Vickers (Hong Kong) Limited', '\"5459\"': 'DBS Vickers (Hong Kong) Limited', '\"5830\"': 'DBS Vickers (Hong Kong) Limited', '\"5831\"': 'DBS Vickers (Hong Kong) Limited', '\"5832\"': 'DBS Vickers (Hong Kong) Limited', '\"5833\"': 'DBS Vickers (Hong Kong) Limited', '\"5834\"': 'DBS Vickers (Hong Kong) Limited', '\"5835\"': 'DBS Vickers (Hong Kong) Limited', '\"5836\"': 'DBS Vickers (Hong Kong) Limited', '\"5837\"': 'DBS Vickers (Hong Kong) Limited', '\"5838\"': 'DBS Vickers (Hong Kong) Limited', '\"5839\"': 'DBS Vickers (Hong Kong) Limited', '\"6000\"': 'Promising Securities Company Limited', '\"6001\"': 'Promising Securities Company Limited', '\"6008\"': 'Promising Securities Company Limited', '\"6009\"': 'Promising Securities Company Limited', '\"5790\"': 'New Gala Securities Company Limited', '\"5799\"': 'New Gala Securities Company Limited', '\"2290\"': 'One China Securities Limited', '\"2292\"': 'One China Securities Limited', '\"2296\"': 'One China Securities Limited', '\"2297\"': 'One China Securities Limited', '\"2298\"': 'One China Securities Limited', '\"2299\"': 'One China Securities Limited', '\"7800\"': 'CVP Securities Limited', '\"7801\"': 'CVP Securities Limited', '\"7802\"': 'CVP Securities Limited', '\"7803\"': 'CVP Securities Limited', '\"7805\"': 'CVP Securities Limited', '\"7808\"': 'CVP Securities Limited', '\"3730\"': 'Toyo Securities Asia Limited', '\"3739\"': 'Toyo Securities Asia Limited', '\"5298\"': 'Cantor Fitzgerald (Hong Kong) Capital Markets Limited', '\"5299\"': 'Cantor Fitzgerald (Hong Kong) Capital Markets Limited', '\"330\"': 'Daiwa Capital Markets Hong Kong Limited', '\"331\"': 'Daiwa Capital Markets Hong Kong Limited', '\"335\"': 'Daiwa Capital Markets Hong Kong Limited', '\"336\"': 'Daiwa Capital Markets Hong Kong Limited', '\"337\"': 'Daiwa Capital Markets Hong Kong Limited', '\"338\"': 'Daiwa Capital Markets Hong Kong Limited', '\"339\"': 'Daiwa Capital Markets Hong Kong Limited', '\"344\"': 'Daiwa Capital Markets Hong Kong Limited', '\"345\"': 'Daiwa Capital Markets Hong Kong Limited', '\"346\"': 'Daiwa Capital Markets Hong Kong Limited', '\"347\"': 'Daiwa Capital Markets Hong Kong Limited', '\"348\"': 'Daiwa Capital Markets Hong Kong Limited', '\"349\"': 'Daiwa Capital Markets Hong Kong Limited', '\"429\"': 'Daiwa Capital Markets Hong Kong Limited', '\"2300\"': \"Lee's Securities Company Limited\", '\"2309\"': \"Lee's Securities Company Limited\", '\"2040\"': 'Barclays Capital Asia Limited', '\"2041\"': 'Barclays Capital Asia Limited', '\"2042\"': 'Barclays Capital Asia Limited', '\"2043\"': 'Barclays Capital Asia Limited', '\"2044\"': 'Barclays Capital Asia Limited', '\"2070\"': 'Barclays Capital Asia Limited', '\"2072\"': 'Barclays Capital Asia Limited', '\"2073\"': 'Barclays Capital Asia Limited', '\"2074\"': 'Barclays Capital Asia Limited', '\"2075\"': 'Barclays Capital Asia Limited', '\"2076\"': 'Barclays Capital Asia Limited', '\"2077\"': 'Barclays Capital Asia Limited', '\"2078\"': 'Barclays Capital Asia Limited', '\"2079\"': 'Barclays Capital Asia Limited', '\"2080\"': 'Barclays Capital Asia Limited', '\"2087\"': 'Barclays Capital Asia Limited', '\"2089\"': 'Barclays Capital Asia Limited', '\"2420\"': 'Barclays Capital Asia Limited', '\"2421\"': 'Barclays Capital Asia Limited', '\"2422\"': 'Barclays Capital Asia Limited', '\"2423\"': 'Barclays Capital Asia Limited', '\"2424\"': 'Barclays Capital Asia Limited', '\"2425\"': 'Barclays Capital Asia Limited', '\"2426\"': 'Barclays Capital Asia Limited', '\"2427\"': 'Barclays Capital Asia Limited', '\"2428\"': 'Barclays Capital Asia Limited', '\"2429\"': 'Barclays Capital Asia Limited', '\"4370\"': 'Barclays Capital Asia Limited', '\"4371\"': 'Barclays Capital Asia Limited', '\"4372\"': 'Barclays Capital Asia Limited', '\"4373\"': 'Barclays Capital Asia Limited', '\"4374\"': 'Barclays Capital Asia Limited', '\"4375\"': 'Barclays Capital Asia Limited', '\"4376\"': 'Barclays Capital Asia Limited', '\"4377\"': 'Barclays Capital Asia Limited', '\"4378\"': 'Barclays Capital Asia Limited', '\"4379\"': 'Barclays Capital Asia Limited', '\"4450\"': 'Barclays Capital Asia Limited', '\"4451\"': 'Barclays Capital Asia Limited', '\"4452\"': 'Barclays Capital Asia Limited', '\"4453\"': 'Barclays Capital Asia Limited', '\"4454\"': 'Barclays Capital Asia Limited', '\"4455\"': 'Barclays Capital Asia Limited', '\"4456\"': 'Barclays Capital Asia Limited', '\"4457\"': 'Barclays Capital Asia Limited', '\"4458\"': 'Barclays Capital Asia Limited', '\"4459\"': 'Barclays Capital Asia Limited', '\"4480\"': 'Barclays Capital Asia Limited', '\"4481\"': 'Barclays Capital Asia Limited', '\"4486\"': 'Barclays Capital Asia Limited', '\"4487\"': 'Barclays Capital Asia Limited', '\"4488\"': 'Barclays Capital Asia Limited', '\"4499\"': 'Barclays Capital Asia Limited', '\"4130\"': 'Seaga International Limited', '\"929\"': 'Freddy Company Limited', '\"49\"': 'Fu Yip Securities and Investment Company Limited', '\"2280\"': 'Partners Capital Securities Limited', '\"2281\"': 'Partners Capital Securities Limited', '\"2288\"': 'Partners Capital Securities Limited', '\"5280\"': 'Soo Pui Chen Securities Limited', '\"5289\"': 'Soo Pui Chen Securities Limited', '\"2520\"': 'Sunrise Securities Limited', '\"2528\"': 'Sunrise Securities Limited', '\"2529\"': 'Sunrise Securities Limited', '\"5090\"': 'Ho Fung Shares Investment Limited', '\"5091\"': 'Ho Fung Shares Investment Limited', '\"5098\"': 'Ho Fung Shares Investment Limited', '\"5099\"': 'Ho Fung Shares Investment Limited', '\"2180\"': 'Yieldful Securities Limited', '\"2189\"': 'Yieldful Securities Limited', '\"4899\"': 'Asia Pacific Capital Securities Limited', '\"59\"': 'Intercontinent Securities Company Limited', '\"7000\"': 'RaffAello Securities (HK) Limited', '\"7009\"': 'RaffAello Securities (HK) Limited', '\"2179\"': 'Szehope Securities Company Limited', '\"4470\"': 'Bright Securities Limited, The', '\"6209\"': 'Sun Capital Securities Limited', '\"3020\"': 'Kin Fung Stock Company Limited', '\"3029\"': 'Kin Fung Stock Company Limited', '\"3959\"': 'Redford Securities Limited', '\"5719\"': 'Rich Bay Securities Limited', '\"908\"': 'China Gather Wealth Financial Company Limited', '\"909\"': 'China Gather Wealth Financial Company Limited', '\"770\"': 'China System Securities Limited', '\"775\"': 'China System Securities Limited', '\"776\"': 'China System Securities Limited', '\"777\"': 'China System Securities Limited', '\"778\"': 'China System Securities Limited', '\"779\"': 'China System Securities Limited', '\"5120\"': 'Astrum Capital Management Limited', '\"5129\"': 'Astrum Capital Management Limited', '\"25\"': 'CCB International Securities Limited', '\"26\"': 'CCB International Securities Limited', '\"27\"': 'CCB International Securities Limited', '\"28\"': 'CCB International Securities Limited', '\"29\"': 'CCB International Securities Limited', '\"1254\"': 'CCB International Securities Limited', '\"1255\"': 'CCB International Securities Limited', '\"1256\"': 'CCB International Securities Limited', '\"1257\"': 'CCB International Securities Limited', '\"1258\"': 'CCB International Securities Limited', '\"1259\"': 'CCB International Securities Limited', '\"2058\"': 'CCB International Securities Limited', '\"2059\"': 'CCB International Securities Limited', '\"230\"': 'Well Link Securities Limited', '\"238\"': 'Well Link Securities Limited', '\"239\"': 'Well Link Securities Limited', '\"190\"': 'T & F Equities Limited', '\"14\"': 'Cheong Lee Securities Limited', '\"15\"': 'Cheong Lee Securities Limited', '\"16\"': 'Cheong Lee Securities Limited', '\"17\"': 'Cheong Lee Securities Limited', '\"18\"': 'Cheong Lee Securities Limited', '\"19\"': 'Cheong Lee Securities Limited', '\"350\"': 'Cheong Lee Securities Limited', '\"354\"': 'Cheong Lee Securities Limited', '\"355\"': 'Cheong Lee Securities Limited', '\"356\"': 'Cheong Lee Securities Limited', '\"357\"': 'Cheong Lee Securities Limited', '\"358\"': 'Cheong Lee Securities Limited', '\"359\"': 'Cheong Lee Securities Limited', '\"1548\"': 'Cheong Lee Securities Limited', '\"1549\"': 'Cheong Lee Securities Limited', '\"690\"': 'I-Access Investors Limited', '\"695\"': 'I-Access Investors Limited', '\"696\"': 'I-Access Investors Limited', '\"697\"': 'I-Access Investors Limited', '\"950\"': 'China Finance KAB Limited', '\"951\"': 'China Finance KAB Limited', '\"952\"': 'China Finance KAB Limited', '\"953\"': 'China Finance KAB Limited', '\"954\"': 'China Finance KAB Limited', '\"955\"': 'China Finance KAB Limited', '\"956\"': 'China Finance KAB Limited', '\"957\"': 'China Finance KAB Limited', '\"958\"': 'China Finance KAB Limited', '\"959\"': 'China Finance KAB Limited', '\"2067\"': 'China Finance KAB Limited', '\"2068\"': 'China Finance KAB Limited', '\"2069\"': 'China Finance KAB Limited', '\"79\"': 'Anglo Chinese Securities, Limited', '\"1830\"': 'Instinet Pacific Limited', '\"1831\"': 'Instinet Pacific Limited', '\"1832\"': 'Instinet Pacific Limited', '\"1833\"': 'Instinet Pacific Limited', '\"1834\"': 'Instinet Pacific Limited', '\"1836\"': 'Instinet Pacific Limited', '\"1837\"': 'Instinet Pacific Limited', '\"1838\"': 'Instinet Pacific Limited', '\"1839\"': 'Instinet Pacific Limited', '\"1200\"': 'Guoyuan Securities Brokerage (Hong Kong) Limited', '\"1206\"': 'Guoyuan Securities Brokerage (Hong Kong) Limited', '\"1207\"': 'Guoyuan Securities Brokerage (Hong Kong) Limited', '\"1208\"': 'Guoyuan Securities Brokerage (Hong Kong) Limited', '\"1209\"': 'Guoyuan Securities Brokerage (Hong Kong) Limited', '\"1270\"': 'GF Securities (Hong Kong) Brokerage Limited', '\"1271\"': 'GF Securities (Hong Kong) Brokerage Limited', '\"1273\"': 'GF Securities (Hong Kong) Brokerage Limited', '\"1274\"': 'GF Securities (Hong Kong) Brokerage Limited', '\"1276\"': 'GF Securities (Hong Kong) Brokerage Limited', '\"1277\"': 'GF Securities (Hong Kong) Brokerage Limited', '\"1278\"': 'GF Securities (Hong Kong) Brokerage Limited', '\"1279\"': 'GF Securities (Hong Kong) Brokerage Limited', '\"746\"': 'IMC Asia Pacific Limited', '\"747\"': 'IMC Asia Pacific Limited', '\"748\"': 'IMC Asia Pacific Limited', '\"749\"': 'IMC Asia Pacific Limited', '\"761\"': 'IMC Asia Pacific Limited', '\"762\"': 'IMC Asia Pacific Limited', '\"763\"': 'IMC Asia Pacific Limited', '\"764\"': 'IMC Asia Pacific Limited', '\"765\"': 'IMC Asia Pacific Limited', '\"766\"': 'IMC Asia Pacific Limited', '\"767\"': 'IMC Asia Pacific Limited', '\"768\"': 'IMC Asia Pacific Limited', '\"769\"': 'IMC Asia Pacific Limited', '\"1040\"': 'IMC Asia Pacific Limited', '\"1041\"': 'IMC Asia Pacific Limited', '\"1042\"': 'IMC Asia Pacific Limited', '\"1043\"': 'IMC Asia Pacific Limited', '\"1044\"': 'IMC Asia Pacific Limited', '\"1045\"': 'IMC Asia Pacific Limited', '\"1046\"': 'IMC Asia Pacific Limited', '\"1047\"': 'IMC Asia Pacific Limited', '\"1048\"': 'IMC Asia Pacific Limited', '\"1049\"': 'IMC Asia Pacific Limited', '\"1450\"': 'IMC Asia Pacific Limited', '\"1451\"': 'IMC Asia Pacific Limited', '\"1452\"': 'IMC Asia Pacific Limited', '\"1453\"': 'IMC Asia Pacific Limited', '\"1454\"': 'IMC Asia Pacific Limited', '\"1455\"': 'IMC Asia Pacific Limited', '\"1456\"': 'IMC Asia Pacific Limited', '\"1457\"': 'IMC Asia Pacific Limited', '\"1458\"': 'IMC Asia Pacific Limited', '\"1170\"': 'Huatai Financial Holdings (Hong Kong) Limited', '\"1172\"': 'Huatai Financial Holdings (Hong Kong) Limited', '\"1174\"': 'Huatai Financial Holdings (Hong Kong) Limited', '\"1175\"': 'Huatai Financial Holdings (Hong Kong) Limited', '\"1176\"': 'Huatai Financial Holdings (Hong Kong) Limited', '\"1177\"': 'Huatai Financial Holdings (Hong Kong) Limited', '\"1178\"': 'Huatai Financial Holdings (Hong Kong) Limited', '\"1179\"': 'Huatai Financial Holdings (Hong Kong) Limited', '\"646\"': 'Mirae Asset Securities (HK) Limited', '\"810\"': 'Mirae Asset Securities (HK) Limited', '\"814\"': 'Mirae Asset Securities (HK) Limited', '\"816\"': 'Mirae Asset Securities (HK) Limited', '\"817\"': 'Mirae Asset Securities (HK) Limited', '\"818\"': 'Mirae Asset Securities (HK) Limited', '\"819\"': 'Mirae Asset Securities (HK) Limited', '\"1367\"': 'Nerico Brothers Limited', '\"1368\"': 'Nerico Brothers Limited', '\"1369\"': 'Nerico Brothers Limited', '\"567\"': 'Mizuho Securities Asia Limited', '\"568\"': 'Mizuho Securities Asia Limited', '\"1480\"': 'CTBC Asia Limited', '\"1489\"': 'CTBC Asia Limited', '\"417\"': 'Eclipse Options (HK) Limited', '\"418\"': 'Eclipse Options (HK) Limited', '\"419\"': 'Eclipse Options (HK) Limited', '\"450\"': 'Eclipse Options (HK) Limited', '\"451\"': 'Eclipse Options (HK) Limited', '\"452\"': 'Eclipse Options (HK) Limited', '\"453\"': 'Eclipse Options (HK) Limited', '\"454\"': 'Eclipse Options (HK) Limited', '\"455\"': 'Eclipse Options (HK) Limited', '\"456\"': 'Eclipse Options (HK) Limited', '\"457\"': 'Eclipse Options (HK) Limited', '\"458\"': 'Eclipse Options (HK) Limited', '\"459\"': 'Eclipse Options (HK) Limited', '\"470\"': 'Eclipse Options (HK) Limited', '\"471\"': 'Eclipse Options (HK) Limited', '\"472\"': 'Eclipse Options (HK) Limited', '\"473\"': 'Eclipse Options (HK) Limited', '\"474\"': 'Eclipse Options (HK) Limited', '\"475\"': 'Eclipse Options (HK) Limited', '\"476\"': 'Eclipse Options (HK) Limited', '\"477\"': 'Eclipse Options (HK) Limited', '\"478\"': 'Eclipse Options (HK) Limited', '\"479\"': 'Eclipse Options (HK) Limited', '\"511\"': 'Eclipse Options (HK) Limited', '\"512\"': 'Eclipse Options (HK) Limited', '\"513\"': 'Eclipse Options (HK) Limited', '\"514\"': 'Eclipse Options (HK) Limited', '\"515\"': 'Eclipse Options (HK) Limited', '\"516\"': 'Eclipse Options (HK) Limited', '\"517\"': 'Eclipse Options (HK) Limited', '\"518\"': 'Eclipse Options (HK) Limited', '\"519\"': 'Eclipse Options (HK) Limited', '\"1509\"': 'Liquidnet Asia Limited', '\"310\"': 'BOCOM International Securities Limited', '\"311\"': 'BOCOM International Securities Limited', '\"315\"': 'BOCOM International Securities Limited', '\"316\"': 'BOCOM International Securities Limited', '\"317\"': 'BOCOM International Securities Limited', '\"318\"': 'BOCOM International Securities Limited', '\"319\"': 'BOCOM International Securities Limited', '\"1370\"': 'BOCOM International Securities Limited', '\"1371\"': 'BOCOM International Securities Limited', '\"1374\"': 'BOCOM International Securities Limited', '\"1375\"': 'BOCOM International Securities Limited', '\"1376\"': 'BOCOM International Securities Limited', '\"1377\"': 'BOCOM International Securities Limited', '\"1378\"': 'BOCOM International Securities Limited', '\"1379\"': 'BOCOM International Securities Limited', '\"1598\"': 'BOCOM International Securities Limited', '\"1599\"': 'BOCOM International Securities Limited', '\"3103\"': 'BOCOM International Securities Limited', '\"3104\"': 'BOCOM International Securities Limited', '\"3105\"': 'BOCOM International Securities Limited', '\"3106\"': 'BOCOM International Securities Limited', '\"3107\"': 'BOCOM International Securities Limited', '\"3108\"': 'BOCOM International Securities Limited', '\"3109\"': 'BOCOM International Securities Limited', '\"3124\"': 'BOCOM International Securities Limited', '\"3125\"': 'BOCOM International Securities Limited', '\"3126\"': 'BOCOM International Securities Limited', '\"3127\"': 'BOCOM International Securities Limited', '\"3128\"': 'BOCOM International Securities Limited', '\"3129\"': 'BOCOM International Securities Limited', '\"1568\"': 'TD King Securities Limited', '\"1569\"': 'TD King Securities Limited', '\"1580\"': 'Natixis Asia Limited', '\"1586\"': 'Natixis Asia Limited', '\"1587\"': 'Natixis Asia Limited', '\"1588\"': 'Natixis Asia Limited', '\"1589\"': 'Natixis Asia Limited', '\"1401\"': 'Optiver Trading Hong Kong Limited', '\"1402\"': 'Optiver Trading Hong Kong Limited', '\"1403\"': 'Optiver Trading Hong Kong Limited', '\"1404\"': 'Optiver Trading Hong Kong Limited', '\"1405\"': 'Optiver Trading Hong Kong Limited', '\"1408\"': 'Optiver Trading Hong Kong Limited', '\"1409\"': 'Optiver Trading Hong Kong Limited', '\"1470\"': 'Optiver Trading Hong Kong Limited', '\"1471\"': 'Optiver Trading Hong Kong Limited', '\"1472\"': 'Optiver Trading Hong Kong Limited', '\"1473\"': 'Optiver Trading Hong Kong Limited', '\"1474\"': 'Optiver Trading Hong Kong Limited', '\"1475\"': 'Optiver Trading Hong Kong Limited', '\"1476\"': 'Optiver Trading Hong Kong Limited', '\"1477\"': 'Optiver Trading Hong Kong Limited', '\"1478\"': 'Optiver Trading Hong Kong Limited', '\"1479\"': 'Optiver Trading Hong Kong Limited', '\"1490\"': 'Optiver Trading Hong Kong Limited', '\"1491\"': 'Optiver Trading Hong Kong Limited', '\"1492\"': 'Optiver Trading Hong Kong Limited', '\"1493\"': 'Optiver Trading Hong Kong Limited', '\"1494\"': 'Optiver Trading Hong Kong Limited', '\"1495\"': 'Optiver Trading Hong Kong Limited', '\"1496\"': 'Optiver Trading Hong Kong Limited', '\"1497\"': 'Optiver Trading Hong Kong Limited', '\"1498\"': 'Optiver Trading Hong Kong Limited', '\"1499\"': 'Optiver Trading Hong Kong Limited', '\"2699\"': 'Cathay Securities (Hong Kong) Limited', '\"1706\"': 'CIS Securities Asset Management Limited', '\"1707\"': 'CIS Securities Asset Management Limited', '\"1708\"': 'CIS Securities Asset Management Limited', '\"1709\"': 'CIS Securities Asset Management Limited', '\"2939\"': 'Riche Bright Securities Limited', '\"2100\"': 'Freeman Securities Limited', '\"2107\"': 'Freeman Securities Limited', '\"2108\"': 'Freeman Securities Limited', '\"2109\"': 'Freeman Securities Limited', '\"2588\"': 'CMBC Securities Company Limited', '\"2589\"': 'CMBC Securities Company Limited', '\"3039\"': 'Vision Finance (Securities) Limited', '\"3620\"': 'Finet Securities Limited', '\"3629\"': 'Finet Securities Limited', '\"3599\"': 'Kaisa Financial Group Company Limited', '\"3673\"': 'Yuanta Securities (Hong Kong) Company Limited', '\"3674\"': 'Yuanta Securities (Hong Kong) Company Limited', '\"3675\"': 'Yuanta Securities (Hong Kong) Company Limited', '\"3676\"': 'Yuanta Securities (Hong Kong) Company Limited', '\"3677\"': 'Yuanta Securities (Hong Kong) Company Limited', '\"3678\"': 'Yuanta Securities (Hong Kong) Company Limited', '\"3679\"': 'Yuanta Securities (Hong Kong) Company Limited', '\"6900\"': 'Yuanta Securities (Hong Kong) Company Limited', '\"6904\"': 'Yuanta Securities (Hong Kong) Company Limited', '\"6905\"': 'Yuanta Securities (Hong Kong) Company Limited', '\"6906\"': 'Yuanta Securities (Hong Kong) Company Limited', '\"6907\"': 'Yuanta Securities (Hong Kong) Company Limited', '\"6908\"': 'Yuanta Securities (Hong Kong) Company Limited', '\"6909\"': 'Yuanta Securities (Hong Kong) Company Limited', '\"7016\"': 'Yuanta Securities (Hong Kong) Company Limited', '\"7018\"': 'Yuanta Securities (Hong Kong) Company Limited', '\"7019\"': 'Yuanta Securities (Hong Kong) Company Limited', '\"7020\"': 'Yuanta Securities (Hong Kong) Company Limited', '\"7021\"': 'Yuanta Securities (Hong Kong) Company Limited', '\"7022\"': 'Yuanta Securities (Hong Kong) Company Limited', '\"7023\"': 'Yuanta Securities (Hong Kong) Company Limited', '\"7024\"': 'Yuanta Securities (Hong Kong) Company Limited', '\"7025\"': 'Yuanta Securities (Hong Kong) Company Limited', '\"7026\"': 'Yuanta Securities (Hong Kong) Company Limited', '\"7027\"': 'Yuanta Securities (Hong Kong) Company Limited', '\"7028\"': 'Yuanta Securities (Hong Kong) Company Limited', '\"7029\"': 'Yuanta Securities (Hong Kong) Company Limited', '\"2000\"': 'Capitec Securities Limited', '\"2003\"': 'Capitec Securities Limited', '\"2004\"': 'Capitec Securities Limited', '\"2005\"': 'Capitec Securities Limited', '\"2007\"': 'Capitec Securities Limited', '\"2008\"': 'Capitec Securities Limited', '\"2009\"': 'Capitec Securities Limited', '\"3525\"': 'ICBC International Securities Limited', '\"3526\"': 'ICBC International Securities Limited', '\"3527\"': 'ICBC International Securities Limited', '\"3528\"': 'ICBC International Securities Limited', '\"3529\"': 'ICBC International Securities Limited', '\"3555\"': 'ICBC International Securities Limited', '\"3556\"': 'ICBC International Securities Limited', '\"3557\"': 'ICBC International Securities Limited', '\"3558\"': 'ICBC International Securities Limited', '\"3559\"': 'ICBC International Securities Limited', '\"3560\"': 'ICBC International Securities Limited', '\"3565\"': 'ICBC International Securities Limited', '\"3566\"': 'ICBC International Securities Limited', '\"3567\"': 'ICBC International Securities Limited', '\"3568\"': 'ICBC International Securities Limited', '\"3569\"': 'ICBC International Securities Limited', '\"3910\"': 'Jimei Securities Limited', '\"3916\"': 'Jimei Securities Limited', '\"3917\"': 'Jimei Securities Limited', '\"3918\"': 'Jimei Securities Limited', '\"3919\"': 'Jimei Securities Limited', '\"3156\"': 'SynerWealth Financial Limited', '\"3157\"': 'SynerWealth Financial Limited', '\"3158\"': 'SynerWealth Financial Limited', '\"3159\"': 'SynerWealth Financial Limited', '\"3570\"': 'SynerWealth Financial Limited', '\"3571\"': 'SynerWealth Financial Limited', '\"3572\"': 'SynerWealth Financial Limited', '\"3573\"': 'SynerWealth Financial Limited', '\"3574\"': 'SynerWealth Financial Limited', '\"3575\"': 'SynerWealth Financial Limited', '\"3576\"': 'SynerWealth Financial Limited', '\"3577\"': 'SynerWealth Financial Limited', '\"3578\"': 'SynerWealth Financial Limited', '\"3579\"': 'SynerWealth Financial Limited', '\"3729\"': 'Vantage Capital Markets HK Limited', '\"6898\"': 'BTIG Hong Kong Limited', '\"6899\"': 'BTIG Hong Kong Limited', '\"5058\"': 'Guodu Securities (Hong Kong) Limited', '\"5059\"': 'Guodu Securities (Hong Kong) Limited', '\"3514\"': 'Citadel Securities (Hong Kong) Limited', '\"3516\"': 'Citadel Securities (Hong Kong) Limited', '\"3517\"': 'Citadel Securities (Hong Kong) Limited', '\"3518\"': 'Citadel Securities (Hong Kong) Limited', '\"3519\"': 'Citadel Securities (Hong Kong) Limited', '\"3530\"': 'Citadel Securities (Hong Kong) Limited', '\"3531\"': 'Citadel Securities (Hong Kong) Limited', '\"3532\"': 'Citadel Securities (Hong Kong) Limited', '\"3533\"': 'Citadel Securities (Hong Kong) Limited', '\"3535\"': 'Citadel Securities (Hong Kong) Limited', '\"3537\"': 'Citadel Securities (Hong Kong) Limited', '\"3538\"': 'Citadel Securities (Hong Kong) Limited', '\"3539\"': 'Citadel Securities (Hong Kong) Limited', '\"3757\"': 'North Beta International Securities Limited', '\"3758\"': 'North Beta International Securities Limited', '\"3759\"': 'North Beta International Securities Limited', '\"1436\"': 'Susquehanna Hong Kong Limited', '\"1437\"': 'Susquehanna Hong Kong Limited', '\"1438\"': 'Susquehanna Hong Kong Limited', '\"1439\"': 'Susquehanna Hong Kong Limited', '\"1466\"': 'China Rise Securities Asset Management Company Limited', '\"1467\"': 'China Rise Securities Asset Management Company Limited', '\"1468\"': 'China Rise Securities Asset Management Company Limited', '\"1469\"': 'China Rise Securities Asset Management Company Limited', '\"4990\"': 'Hong Kong Securities (International) Company Limited', '\"4999\"': 'Hong Kong Securities (International) Company Limited', '\"1978\"': 'Hafoo Securities Limited', '\"1979\"': 'Hafoo Securities Limited', '\"6068\"': 'CNI Securities Group Limited', '\"6069\"': 'CNI Securities Group Limited', '\"439\"': 'Tora Trading Services Limited', '\"6390\"': 'Guosen Securities (HK) Brokerage Company, Limited', '\"6396\"': 'Guosen Securities (HK) Brokerage Company, Limited', '\"6398\"': 'Guosen Securities (HK) Brokerage Company, Limited', '\"6399\"': 'Guosen Securities (HK) Brokerage Company, Limited', '\"3498\"': 'Future Growth Financial Services Limited', '\"3499\"': 'Future Growth Financial Services Limited', '\"3659\"': 'Winco Securities Company Limited', '\"6300\"': 'Mayfair & Ayers Financial Group Limited', '\"6305\"': 'Mayfair & Ayers Financial Group Limited', '\"6306\"': 'Mayfair & Ayers Financial Group Limited', '\"6307\"': 'Mayfair & Ayers Financial Group Limited', '\"6308\"': 'Mayfair & Ayers Financial Group Limited', '\"6309\"': 'Mayfair & Ayers Financial Group Limited', '\"2549\"': 'T.F.S. Derivatives HK Limited', '\"2536\"': 'Central Wealth Securities Investment Limited', '\"2539\"': 'Central Wealth Securities Investment Limited', '\"4300\"': 'Bluefin HK Limited', '\"4309\"': 'Bluefin HK Limited', '\"4807\"': 'Orient Securities (Hong Kong) Limited', '\"4808\"': 'Orient Securities (Hong Kong) Limited', '\"4809\"': 'Orient Securities (Hong Kong) Limited', '\"1240\"': 'CMB International Securities Limited', '\"1241\"': 'CMB International Securities Limited', '\"1242\"': 'CMB International Securities Limited', '\"1243\"': 'CMB International Securities Limited', '\"1244\"': 'CMB International Securities Limited', '\"1245\"': 'CMB International Securities Limited', '\"1246\"': 'CMB International Securities Limited', '\"1247\"': 'CMB International Securities Limited', '\"1290\"': 'CMB International Securities Limited', '\"1291\"': 'CMB International Securities Limited', '\"1292\"': 'CMB International Securities Limited', '\"1294\"': 'CMB International Securities Limited', '\"1295\"': 'CMB International Securities Limited', '\"1296\"': 'CMB International Securities Limited', '\"1297\"': 'CMB International Securities Limited', '\"1298\"': 'CMB International Securities Limited', '\"1299\"': 'CMB International Securities Limited', '\"1528\"': 'CMB International Securities Limited', '\"1529\"': 'CMB International Securities Limited', '\"4736\"': 'Valuable Capital Limited', '\"4737\"': 'Valuable Capital Limited', '\"4738\"': 'Valuable Capital Limited', '\"4739\"': 'Valuable Capital Limited', '\"4821\"': 'Valuable Capital Limited', '\"4823\"': 'Valuable Capital Limited', '\"4824\"': 'Valuable Capital Limited', '\"4825\"': 'Valuable Capital Limited', '\"4826\"': 'Valuable Capital Limited', '\"4827\"': 'Valuable Capital Limited', '\"4828\"': 'Valuable Capital Limited', '\"4829\"': 'Valuable Capital Limited', '\"480\"': 'Essence International Securities (Hong Kong) Limited', '\"481\"': 'Essence International Securities (Hong Kong) Limited', '\"484\"': 'Essence International Securities (Hong Kong) Limited', '\"485\"': 'Essence International Securities (Hong Kong) Limited', '\"486\"': 'Essence International Securities (Hong Kong) Limited', '\"487\"': 'Essence International Securities (Hong Kong) Limited', '\"488\"': 'Essence International Securities (Hong Kong) Limited', '\"489\"': 'Essence International Securities (Hong Kong) Limited', '\"6978\"': 'Sun International Securities Limited', '\"6979\"': 'Sun International Securities Limited', '\"7390\"': 'China Demeter Securities Limited', '\"7398\"': 'China Demeter Securities Limited', '\"7399\"': 'China Demeter Securities Limited', '\"877\"': 'ASA Securities Limited', '\"878\"': 'ASA Securities Limited', '\"879\"': 'ASA Securities Limited', '\"5978\"': 'Sheng Yuan Securities Limited', '\"5979\"': 'Sheng Yuan Securities Limited', '\"7349\"': 'Alpha International Securities (HONG KONG) Limited', '\"6677\"': 'The Core Securities Company Limited', '\"6679\"': 'The Core Securities Company Limited', '\"750\"': 'Jefferies Hong Kong Limited', '\"759\"': 'Jefferies Hong Kong Limited', '\"1518\"': 'Ether Securities Limited', '\"1519\"': 'Ether Securities Limited', '\"6515\"': 'Realord Asia Pacific Securities Limited', '\"6516\"': 'Realord Asia Pacific Securities Limited', '\"6517\"': 'Realord Asia Pacific Securities Limited', '\"6518\"': 'Realord Asia Pacific Securities Limited', '\"6519\"': 'Realord Asia Pacific Securities Limited', '\"3168\"': 'Tiger Securities Asset Management Company Limited', '\"3169\"': 'Tiger Securities Asset Management Company Limited', '\"7520\"': 'Tianda Securities Limited', '\"7528\"': 'Tianda Securities Limited', '\"7529\"': 'Tianda Securities Limited', '\"6570\"': 'Gong Ping Securities Limited', '\"6579\"': 'Gong Ping Securities Limited', '\"4840\"': 'Sun Securities Limited', '\"4849\"': 'Sun Securities Limited', '\"7598\"': 'Easy Securities Limited', '\"7599\"': 'Easy Securities Limited', '\"4779\"': 'BMI Securities Limited', '\"38\"': 'KINGKEY SECURITIES GROUP LIMITED', '\"39\"': 'KINGKEY SECURITIES GROUP LIMITED', '\"7480\"': 'Enhanced Securities Limited', '\"7489\"': 'Enhanced Securities Limited', '\"5759\"': 'China Galaxy International Securities (Hong Kong) Co., Limited', '\"5760\"': 'China Galaxy International Securities (Hong Kong) Co., Limited', '\"5761\"': 'China Galaxy International Securities (Hong Kong) Co., Limited', '\"5762\"': 'China Galaxy International Securities (Hong Kong) Co., Limited', '\"5764\"': 'China Galaxy International Securities (Hong Kong) Co., Limited', '\"5765\"': 'China Galaxy International Securities (Hong Kong) Co., Limited', '\"5767\"': 'China Galaxy International Securities (Hong Kong) Co., Limited', '\"5768\"': 'China Galaxy International Securities (Hong Kong) Co., Limited', '\"5769\"': 'China Galaxy International Securities (Hong Kong) Co., Limited', '\"7810\"': 'China Galaxy International Securities (Hong Kong) Co., Limited', '\"7811\"': 'China Galaxy International Securities (Hong Kong) Co., Limited', '\"7812\"': 'China Galaxy International Securities (Hong Kong) Co., Limited', '\"7813\"': 'China Galaxy International Securities (Hong Kong) Co., Limited', '\"7814\"': 'China Galaxy International Securities (Hong Kong) Co., Limited', '\"7815\"': 'China Galaxy International Securities (Hong Kong) Co., Limited', '\"7816\"': 'China Galaxy International Securities (Hong Kong) Co., Limited', '\"7817\"': 'China Galaxy International Securities (Hong Kong) Co., Limited', '\"7818\"': 'China Galaxy International Securities (Hong Kong) Co., Limited', '\"7819\"': 'China Galaxy International Securities (Hong Kong) Co., Limited', '\"2489\"': 'Prime Courage Securities Company Limited', '\"2957\"': 'Sanford C. Bernstein (Hong Kong) Limited', '\"2959\"': 'Sanford C. Bernstein (Hong Kong) Limited', '\"7720\"': 'Brilliant Norton Securities Company Limited', '\"7728\"': 'Brilliant Norton Securities Company Limited', '\"7729\"': 'Brilliant Norton Securities Company Limited', '\"7649\"': 'Select Investment Services Limited', '\"4430\"': 'Studium Securities Limited', '\"4436\"': 'Studium Securities Limited', '\"4438\"': 'Studium Securities Limited', '\"4439\"': 'Studium Securities Limited', '\"4299\"': 'Mighty Brokerage (Asia) Limited', '\"6540\"': 'Changjiang Securities Brokerage (HK) Limited', '\"6543\"': 'Changjiang Securities Brokerage (HK) Limited', '\"6544\"': 'Changjiang Securities Brokerage (HK) Limited', '\"6545\"': 'Changjiang Securities Brokerage (HK) Limited', '\"6546\"': 'Changjiang Securities Brokerage (HK) Limited', '\"6547\"': 'Changjiang Securities Brokerage (HK) Limited', '\"6548\"': 'Changjiang Securities Brokerage (HK) Limited', '\"6549\"': 'Changjiang Securities Brokerage (HK) Limited', '\"1355\"': 'China Industrial Securities International Brokerage Limited', '\"1359\"': 'China Industrial Securities International Brokerage Limited', '\"1750\"': 'China Industrial Securities International Brokerage Limited', '\"1751\"': 'China Industrial Securities International Brokerage Limited', '\"1754\"': 'China Industrial Securities International Brokerage Limited', '\"1755\"': 'China Industrial Securities International Brokerage Limited', '\"1756\"': 'China Industrial Securities International Brokerage Limited', '\"1757\"': 'China Industrial Securities International Brokerage Limited', '\"1758\"': 'China Industrial Securities International Brokerage Limited', '\"1759\"': 'China Industrial Securities International Brokerage Limited', '\"4420\"': 'Soochow Securities International Brokerage Limited', '\"4421\"': 'Soochow Securities International Brokerage Limited', '\"4422\"': 'Soochow Securities International Brokerage Limited', '\"4424\"': 'Soochow Securities International Brokerage Limited', '\"4425\"': 'Soochow Securities International Brokerage Limited', '\"4426\"': 'Soochow Securities International Brokerage Limited', '\"4427\"': 'Soochow Securities International Brokerage Limited', '\"4428\"': 'Soochow Securities International Brokerage Limited', '\"4429\"': 'Soochow Securities International Brokerage Limited', '\"7760\"': 'SoFi Securities (Hong Kong) Limited', '\"7767\"': 'SoFi Securities (Hong Kong) Limited', '\"7769\"': 'SoFi Securities (Hong Kong) Limited', '\"4010\"': 'Centaline Securities Limited', '\"4019\"': 'Centaline Securities Limited', '\"6040\"': 'Sino Wealth Securities Limited', '\"6048\"': 'Sino Wealth Securities Limited', '\"6721\"': 'Po Sang Securities and Futures Limited', '\"6722\"': 'Po Sang Securities and Futures Limited', '\"6726\"': 'Po Sang Securities and Futures Limited', '\"6727\"': 'Po Sang Securities and Futures Limited', '\"6728\"': 'Po Sang Securities and Futures Limited', '\"6729\"': 'Po Sang Securities and Futures Limited', '\"6736\"': 'Po Sang Securities and Futures Limited', '\"6737\"': 'Po Sang Securities and Futures Limited', '\"6739\"': 'Po Sang Securities and Futures Limited', '\"710\"': 'Integrity Securities Limited', '\"719\"': 'Integrity Securities Limited', '\"1890\"': 'Tullett Prebon (Hong Kong) Limited', '\"1919\"': 'Fubon Securities (Hong Kong) Limited', '\"4510\"': 'Caitong International Securities Co., Limited', '\"4515\"': 'Caitong International Securities Co., Limited', '\"4516\"': 'Caitong International Securities Co., Limited', '\"4517\"': 'Caitong International Securities Co., Limited', '\"4519\"': 'Caitong International Securities Co., Limited', '\"6180\"': 'Grand China Securities Limited', '\"6189\"': 'Grand China Securities Limited', '\"960\"': 'GLOBAL GROUP SECURITIES LIMITED', '\"968\"': 'GLOBAL GROUP SECURITIES LIMITED', '\"969\"': 'GLOBAL GROUP SECURITIES LIMITED', '\"3131\"': 'Trinity Securities Co. Limited', '\"3132\"': 'Trinity Securities Co. Limited', '\"3133\"': 'Trinity Securities Co. Limited', '\"3135\"': 'Trinity Securities Co. Limited', '\"3136\"': 'Trinity Securities Co. Limited', '\"3137\"': 'Trinity Securities Co. Limited', '\"3138\"': 'Trinity Securities Co. Limited', '\"3139\"': 'Trinity Securities Co. Limited', '\"2244\"': 'Futu Securities International (Hong Kong) Limited', '\"2245\"': 'Futu Securities International (Hong Kong) Limited', '\"2246\"': 'Futu Securities International (Hong Kong) Limited', '\"2249\"': 'Futu Securities International (Hong Kong) Limited', '\"8300\"': 'Futu Securities International (Hong Kong) Limited', '\"8301\"': 'Futu Securities International (Hong Kong) Limited', '\"8302\"': 'Futu Securities International (Hong Kong) Limited', '\"8303\"': 'Futu Securities International (Hong Kong) Limited', '\"8304\"': 'Futu Securities International (Hong Kong) Limited', '\"8305\"': 'Futu Securities International (Hong Kong) Limited', '\"8306\"': 'Futu Securities International (Hong Kong) Limited', '\"8307\"': 'Futu Securities International (Hong Kong) Limited', '\"8308\"': 'Futu Securities International (Hong Kong) Limited', '\"8309\"': 'Futu Securities International (Hong Kong) Limited', '\"8460\"': 'Futu Securities International (Hong Kong) Limited', '\"8461\"': 'Futu Securities International (Hong Kong) Limited', '\"8462\"': 'Futu Securities International (Hong Kong) Limited', '\"8463\"': 'Futu Securities International (Hong Kong) Limited', '\"8464\"': 'Futu Securities International (Hong Kong) Limited', '\"8465\"': 'Futu Securities International (Hong Kong) Limited', '\"8466\"': 'Futu Securities International (Hong Kong) Limited', '\"8467\"': 'Futu Securities International (Hong Kong) Limited', '\"8468\"': 'Futu Securities International (Hong Kong) Limited', '\"8469\"': 'Futu Securities International (Hong Kong) Limited', '\"6059\"': 'Pinestone Securities Limited', '\"6509\"': 'Topaz Financial Group Limited', '\"2990\"': 'Zhongtai International Securities Limited', '\"2994\"': 'Zhongtai International Securities Limited', '\"2997\"': 'Zhongtai International Securities Limited', '\"2999\"': 'Zhongtai International Securities Limited', '\"5670\"': 'Nomura International (Hong Kong) Limited', '\"5671\"': 'Nomura International (Hong Kong) Limited', '\"5672\"': 'Nomura International (Hong Kong) Limited', '\"5674\"': 'Nomura International (Hong Kong) Limited', '\"5675\"': 'Nomura International (Hong Kong) Limited', '\"8520\"': 'China Securities (International) Brokerage Company Limited', '\"8524\"': 'China Securities (International) Brokerage Company Limited', '\"8528\"': 'China Securities (International) Brokerage Company Limited', '\"8529\"': 'China Securities (International) Brokerage Company Limited', '\"7980\"': 'TFI Securities and Futures Limited', '\"7983\"': 'TFI Securities and Futures Limited', '\"7985\"': 'TFI Securities and Futures Limited', '\"7989\"': 'TFI Securities and Futures Limited', '\"8720\"': 'Halcyon Securities Limited', '\"8729\"': 'Halcyon Securities Limited', '\"209\"': 'Sunrise Brokers (Hong Kong) Limited', '\"650\"': 'Yunfeng Securities Limited', '\"657\"': 'Yunfeng Securities Limited', '\"659\"': 'Yunfeng Securities Limited', '\"1119\"': 'Ayers Alliance Securities (HK) Limited', '\"5020\"': 'China Vered Securities Limited', '\"5029\"': 'China Vered Securities Limited', '\"6966\"': 'Yue Kun Research Limited', '\"6967\"': 'Yue Kun Research Limited', '\"6968\"': 'Yue Kun Research Limited', '\"6969\"': 'Yue Kun Research Limited', '\"5067\"': 'HGNH International Securities Co., Limited', '\"5069\"': 'HGNH International Securities Co., Limited', '\"2619\"': 'Riches Depot Securities Co., Limited', '\"5579\"': 'PC Securities Limited', '\"2874\"': 'Aristo Securities Limited', '\"2875\"': 'Aristo Securities Limited', '\"2876\"': 'Aristo Securities Limited', '\"2877\"': 'Aristo Securities Limited', '\"2879\"': 'Aristo Securities Limited', '\"2749\"': 'Supreme China Securities Limited', '\"2768\"': 'Frontier Capital Management Limited', '\"2769\"': 'Frontier Capital Management Limited', '\"2678\"': 'Zhongcai Securities Limited', '\"2679\"': 'Zhongcai Securities Limited', '\"2567\"': 'Founder Securities (Hong Kong) Limited', '\"2569\"': 'Founder Securities (Hong Kong) Limited', '\"398\"': 'Shanxi Securities International Limited', '\"399\"': 'Shanxi Securities International Limited', '\"588\"': 'Bluestone Securities (HK) Co., Limited', '\"589\"': 'Bluestone Securities (HK) Co., Limited', '\"508\"': 'Central China International Securities Co., Limited', '\"509\"': 'Central China International Securities Co., Limited', '\"709\"': 'Forwin Securities Group Limited', '\"2039\"': 'Zhongrong International Securities Company Limited', '\"2658\"': 'Huajin Securities (International) Limited', '\"2659\"': 'Huajin Securities (International) Limited', '\"3329\"': 'Koala Securities Limited', '\"7718\"': 'Prestige Securities Limited', '\"4329\"': 'Grandly Financial Services Limited', '\"5239\"': 'China CIFCO Securities Co., Limited', '\"2149\"': 'Crosby Securities Limited', '\"5039\"': 'Bonus Eventus Securities Limited', '\"7288\"': 'Gary Cheng Securities Limited', '\"7068\"': 'China Renaissance Securities (Hong Kong) Limited', '\"4799\"': 'Suncorp Securities Limited', '\"7297\"': 'First Capital Securities Limited', '\"7298\"': 'First Capital Securities Limited', '\"7299\"': 'First Capital Securities Limited', '\"4399\"': 'CF Securities Limited', '\"4798\"': 'China Prospect Securities Limited', '\"1808\"': 'Seazen Resources Securities Limited', '\"1818\"': 'Seazen Resources Securities Limited', '\"7657\"': 'Dongxing Securities (Hong Kong) Company Limited', '\"7658\"': 'Dongxing Securities (Hong Kong) Company Limited', '\"5568\"': 'Innovation Securities Co., Limited', '\"5569\"': 'Innovation Securities Co., Limited', '\"7287\"': 'China-Hong Kong Link Securities Company Limited', '\"1806\"': 'AMTD Global Markets Limited', '\"1807\"': 'AMTD Global Markets Limited', '\"7065\"': 'Golden Rich Securities Limited', '\"7066\"': 'Golden Rich Securities Limited', '\"7067\"': 'Golden Rich Securities Limited', '\"7715\"': 'ICAP Securities Hong Kong Limited', '\"1809\"': 'Zhong Yang Securities Limited', '\"3148\"': 'BOSC International Company Limited', '\"917\"': 'ACU Securities Limited', '\"918\"': 'ACU Securities Limited', '\"7296\"': 'Yuet Sheung International Securities Limited', '\"7285\"': 'Vision Capital International Holdings Limited', '\"1805\"': 'Wilson Securities Limited', '\"7283\"': 'Cornerstone Securities Limited', '\"1804\"': 'GEO Securities Limited', '\"919\"': 'Wealth Link Securities Limited', '\"7656\"': 'Harvest International Securities Company  Limited', '\"916\"': 'ChaoShang Securities Limited', '\"7280\"': 'Donghai International Securities (Hong Kong) Limited', '\"7320\"': 'Donghai International Securities (Hong Kong) Limited', '\"7655\"': 'Prior Securities Limited', '\"1803\"': 'CRIC Securities Company Limited', '\"1802\"': 'Sorrento Securities Limited', '\"7281\"': 'SR Wealth Securities Limited', '\"915\"': 'Goldlink Securities Limited', '\"7710\"': 'Forthright Securities Company Limited', '\"7719\"': 'Forthright Securities Company Limited', '\"1038\"': 'SPDB International Capital Limited', '\"979\"': 'Chuenman Securities Limited', '\"1800\"': 'Prime China Securities Limited', '\"1801\"': 'Prime China Securities Limited', '\"1148\"': 'Dakin Securities Limited', '\"913\"': 'Kai Yin Securities Limited', '\"1036\"': 'West Bull Securities Limited', '\"1449\"': 'West Bull Securities Limited', '\"1035\"': 'Zhong Jia Securities Limited', '\"1145\"': 'TradeMaster Securities (Hong Kong) Limited', '\"1146\"': 'TradeMaster Securities (Hong Kong) Limited', '\"910\"': 'CNCB (Hong Kong) Capital Limited', '\"172\"': 'Monmonkey Group Securities Limited', '\"973\"': 'Monmonkey Group Securities Limited', '\"1143\"': 'Monmonkey Group Securities Limited', '\"911\"': 'AAA Securities Co. Limited', '\"1938\"': 'China Zhong Heng Finance Group Limited', '\"974\"': 'Eddid Securities and Futures Limited', '\"977\"': 'Eddid Securities and Futures Limited', '\"1031\"': 'China Transfer Capital Investment Limited', '\"7712\"': 'Quasar Securities Co., Limited', '\"7713\"': 'Quasar Securities Co., Limited', '\"1939\"': 'Grand View Securities Limited', '\"4356\"': 'Yuzhou Financial Holdings Limited', '\"4360\"': 'Yuzhou Financial Holdings Limited', '\"4365\"': 'Yuzhou Financial Holdings Limited', '\"7098\"': 'Original Group Securities Limited', '\"975\"': 'Bluemount Securities Limited', '\"972\"': 'Sunfund Securities Limited', '\"1149\"': 'Ruibang Securities Limited', '\"5278\"': 'Lead Securities (HK) Limited', '\"1037\"': 'Constance Capital Limited', '\"971\"': 'Midas Securities Limited', '\"7292\"': 'Lego Securities Limited', '\"1030\"': 'Grand Partners Securities Limited', '\"7711\"': 'China International Securities Limited', '\"5258\"': 'Blackwell Global Securities Limited', '\"5259\"': 'Blackwell Global Securities Limited', '\"7097\"': 'AMC Wanhai Securities Limited', '\"7099\"': 'AMC Wanhai Securities Limited', '\"912\"': 'AP Capital Management (Hong Kong) Limited', '\"914\"': 'AP Capital Management (Hong Kong) Limited', '\"3210\"': 'AP Capital Management (Hong Kong) Limited', '\"7328\"': 'Wellington Financial Limited', '\"7329\"': 'Wellington Financial Limited', '\"7653\"': 'Wellington Financial Limited', '\"7654\"': 'Wellington Financial Limited', '\"4368\"': 'Canfield Securities Company Limited', '\"175\"': 'Yubo Securities Limited', '\"176\"': 'Yubo Securities Limited', '\"177\"': 'Yubo Securities Limited', '\"1697\"': 'Yubo Securities Limited', '\"1698\"': 'Yubo Securities Limited', '\"1699\"': 'Yubo Securities Limited', '\"6629\"': 'Yubo Securities Limited', '\"1062\"': 'Opus Securities Limited', '\"1930\"': 'GCINT (HK) Limited', '\"1848\"': 'SBI E2-Capital Securities Limited', '\"1063\"': 'Solomon JFZ (Asia) Holdings Limited', '\"1066\"': 'Solomon JFZ (Asia) Holdings Limited', '\"1933\"': 'Fruit Tree Securities Limited', '\"1932\"': 'Innovax Securities Limited', '\"7090\"': 'Conrad Investment Services Limited', '\"1061\"': 'Afflux Securities Limited', '\"1691\"': 'Wonder Face Fund Management Company Limited', '\"1690\"': 'FUTEC Financial Limited', '\"1692\"': 'FUTEC Financial Limited', '\"1695\"': 'FUTEC Financial Limited', '\"7282\"': 'FUTEC Financial Limited', '\"7060\"': 'First Fidelity Capital (International) Limited', '\"1844\"': 'Yellow River Securities Limited', '\"5255\"': 'Vontobel Limited', '\"9693\"': 'Vontobel Limited', '\"9741\"': 'Vontobel Limited', '\"9747\"': 'Vontobel Limited', '\"628\"': 'China On Securities Limited', '\"1693\"': 'Joy Rich Securities Investment Limited', '\"1845\"': 'BG Securities (HK) Co., Limited', '\"798\"': 'Global Mastermind Securities Limited', '\"1846\"': 'Global Mastermind Securities Limited', '\"626\"': 'Carlyon Securities Limited', '\"1696\"': 'Tongfang Securities Limited', '\"3016\"': 'Gear Securities Investment Limited', '\"2139\"': 'RUIFENG SECURITIES LIMITED', '\"797\"': 'I Win Securities Limited', '\"199\"': 'Upmax Securities Limited', '\"7290\"': 'Space Securities Limited', '\"5277\"': 'Lion International Securities Group Limited', '\"198\"': 'AFG Securities Limited', '\"629\"': 'Poly Wealth Securities Limited', '\"7650\"': 'DA International Financial Service Limited', '\"3218\"': 'Wealthy Securities Limited', '\"1141\"': 'Acer King Securities International Limited', '\"5252\"': 'Zinvest Global Limited', '\"5256\"': 'Zinvest Global Limited', '\"2208\"': 'CEB International Capital Corporation Limited', '\"5250\"': 'Magpie Securities Limited', '\"196\"': 'VMI Securities Limited', '\"799\"': 'Holly International Financial Holdings Limited', '\"3018\"': 'Marketsense Securities Limited', '\"3019\"': 'Marketsense Securities Limited', '\"620\"': 'WK Securities Limited', '\"624\"': 'Red Eagle Securities Limited', '\"622\"': 'Topper Dragon Securities Limited', '\"1842\"': 'Core Capital Securities Limited', '\"7093\"': 'United Securities Limited', '\"7293\"': 'United Securities Limited', '\"6033\"': 'GuanHong Securities Limited', '\"6031\"': 'Flow Traders Hong Kong Limited', '\"6032\"': 'Flow Traders Hong Kong Limited', '\"6034\"': 'Flow Traders Hong Kong Limited', '\"6035\"': 'Flow Traders Hong Kong Limited', '\"6036\"': 'Flow Traders Hong Kong Limited', '\"3142\"': 'Mouette Securities Company Limited', '\"3143\"': 'Mouette Securities Company Limited', '\"6037\"': 'Safe Gold Securities and Futures Limited', '\"6038\"': 'Safe Gold Securities and Futures Limited', '\"6400\"': 'Safe Gold Securities and Futures Limited', '\"6401\"': 'Safe Gold Securities and Futures Limited', '\"6402\"': 'Safe Gold Securities and Futures Limited', '\"6403\"': 'Safe Gold Securities and Futures Limited', '\"3144\"': 'Po Tai Securities (Hong Kong) Limited', '\"795\"': 'Gayang Securities Limited', '\"1843\"': 'Livermore Holdings Limited', '\"1813\"': 'Spring Securities Limited', '\"5508\"': 'Yuan Tong Global Securities Limited', '\"783\"': 'China Southern International Limited', '\"784\"': 'China Southern International Limited', '\"782\"': 'Excel Precise Securities Limited', '\"6030\"': 'China Yinsheng International Securities Limited', '\"5254\"': 'HK Monkey Securities Limited', '\"786\"': 'Silverbricks Securities Company Limited', '\"1816\"': 'Wan Lung Securities Limited', '\"1817\"': 'Wan Lung Securities Limited', '\"5505\"': 'Granville Financial Services Company Limited', '\"1811\"': 'Differ Financial and Securities Limited', '\"1815\"': 'Differ Financial and Securities Limited', '\"1819\"': 'Differ Financial and Securities Limited', '\"1064\"': 'Monex Boom Securities (H.K.) Limited', '\"1068\"': 'Monex Boom Securities (H.K.) Limited', '\"2207\"': 'China Securities Limited', '\"2203\"': 'Hope Securities Limited', '\"6148\"': 'Zundiao Securities Limited', '\"1812\"': 'HS Securities Limited', '\"2205\"': 'Viipark Financial Co., Limited', '\"790\"': 'Tiger Faith Securities Limited', '\"7323\"': 'Excalibur Global Financial Group Limited', '\"688\"': 'JQ Securities (Hong Kong) Limited', '\"2130\"': 'Xin Yongan International Securities Company Limited', '\"2133\"': 'Xin Yongan International Securities Company Limited', '\"2200\"': 'Ocean Joy Securities Limited', '\"2201\"': 'YUANYIN SECURITIES LIMITED', '\"684\"': 'Yew Tree Limited', '\"686\"': 'Yew Tree Limited', '\"5488\"': 'CIF Securities Futures Limited', '\"689\"': 'Grand Rich Securities Limited', '\"4111\"': 'Regan International Securities Limited', '\"682\"': 'Zeus Securities Limited', '\"2134\"': 'Akuna Hong Kong Limited', '\"2135\"': 'Akuna Hong Kong Limited', '\"2137\"': 'Akuna Hong Kong Limited', '\"2138\"': 'Akuna Hong Kong Limited', '\"2573\"': 'Akuna Hong Kong Limited', '\"2574\"': 'Akuna Hong Kong Limited', '\"2575\"': 'Akuna Hong Kong Limited', '\"2576\"': 'Akuna Hong Kong Limited', '\"2825\"': 'Target Capital Management Limited', '\"3213\"': 'Soliton Securities Limited', '\"6596\"': 'WE Securities Limited', '\"685\"': 'Magnum Research Limited', '\"4858\"': 'Aden Financial Group Limited', '\"7321\"': 'OIL Assets Securities Limited', '\"192\"': 'DT Securities & Futures Co. Limited', '\"792\"': 'DT Securities & Futures Co. Limited', '\"2578\"': 'uSmart Securities Limited', '\"5507\"': 'Suntek Financial Investment Company Limited', '\"681\"': 'Emperio Securities And Assets Management Limited', '\"791\"': 'Gamma Securities Limited', '\"2206\"': 'Golden Eagle Brokerage Limited', '\"3010\"': 'Tung Yat Securities Limited', '\"5272\"': 'Excellent Success Investments Limited', '\"5501\"': 'HTF Securities Limited', '\"3013\"': 'SDG Securities (HK) Limited', '\"6628\"': 'OTCex Hong Kong Limited', '\"4118\"': 'Liquid Capital Markets Hong Kong Limited', '\"781\"': 'Da De Securities Limited', '\"6623\"': 'DL SECURITIES (HK) LIMITED', '\"6626\"': 'Venus Sky Investment Limited', '\"2577\"': 'Hongkong Rich & Fortune Securities Co., Limited', '\"5078\"': 'WEBULL SECURITIES LIMITED', '\"5810\"': 'China PA Securities (Hong Kong) Company Limited', '\"5816\"': 'China PA Securities (Hong Kong) Company Limited', '\"5817\"': 'China PA Securities (Hong Kong) Company Limited', '\"5818\"': 'China PA Securities (Hong Kong) Company Limited', '\"5819\"': 'China PA Securities (Hong Kong) Company Limited', '\"5077\"': 'Zheshang International Financial Holdings Co., Limited', '\"680\"': 'Lee Go Securities Limited', '\"683\"': 'Yaw Kai Financial Group Limited', '\"1147\"': 'Plutus Securities Limited', '\"191\"': 'Grand Capital Securities Limited', '\"789\"': 'Grand Capital Securities Limited', '\"1969\"': 'De Riva Asia Limited', '\"197\"': 'SPDB International Securities Limited', '\"627\"': 'SPDB International Securities Limited', '\"6622\"': 'Dingxin (Securities) Limited', '\"2821\"': 'Korea Investment & Securities Asia Limited', '\"2822\"': 'Korea Investment & Securities Asia Limited', '\"2827\"': 'Korea Investment & Securities Asia Limited', '\"2828\"': 'Korea Investment & Securities Asia Limited', '\"3011\"': 'Korea Investment & Securities Asia Limited', '\"7717\"': 'Korea Investment & Securities Asia Limited', '\"5500\"': 'Mont Avenir Capital Limited', '\"2826\"': 'Mako Hong Kong Limited', '\"6595\"': 'Homily Worldwide Securities Company Limited', '\"2644\"': 'Maven Asia (Hong Kong) Limited', '\"2645\"': 'Maven Asia (Hong Kong) Limited', '\"2823\"': 'Lumineux Securities Limited', '\"7326\"': 'NH Investment & Securities (H.K.) Limited', '\"6598\"': 'Huafu International Securities Limited', '\"3212\"': 'Plotio Securities Limited', '\"2202\"': 'Harmonia Capital Limited', '\"6996\"': 'China Investment Information Services Limited', '\"6997\"': 'China Investment Information Services Limited', '\"6998\"': 'China Investment Information Services Limited', '\"6999\"': 'China Investment Information Services Limited', '\"5998\"': 'China Innovation Market Service Company Limited', '\"5999\"': 'China Innovation Market Service Company Limited'}"
   ]
  },
  {
   "cell_type": "code",
   "execution_count": 28,
   "id": "d51b6f60",
   "metadata": {},
   "outputs": [],
   "source": [
    "class match_trade:\n",
    "    def __init__(self,stock_code:str,date:str=datetime.now().strftime('%m-%d-%Y')):\n",
    "        self.del_hist = pd.read_csv(f'{stock_code}_del_hist_{date}.csv',index_col=0)\n",
    "        # self.transaction = pd.read_csv(f'{stock}HK_data_{date}.csv',index_col=0)\n",
    "        self.transaction = pd.read_csv(f'{stock_code}HK_data_12-8_copy.csv', index_col=0)\n",
    "        self.potential_trades = pd.DataFrame(columns=self.del_hist.columns)\n",
    "        self.trans_time = self.transaction['TRADE_UPDATE_TIME_STAMP'].to_list()\n",
    "        self.identified_trades = pd.DataFrame(columns=['Time', 'Stock_code', 'Market_subtype','Market_subtype2', 'Price', 'Size', 'Broker Code','Broker Code2','Order_ID','Order_ID2', 'MBO_TIME_RT'])\n",
    "        self.stock_code = stock_code\n",
    "        self.date = date\n",
    "    def find_potential(self):\n",
    "        del_time = self.del_hist['MBO_TIME_RT']\n",
    "        for i in range(len(del_time)):\n",
    "            if del_time[i] in self.trans_time:\n",
    "                self.potential_trades = self.potential_trades.append(self.del_hist.iloc[i])\n",
    "        self.potential_trades.Price = self.potential_trades.Price.round(2)\n",
    "        self.potential_trades.reset_index(inplace=True,drop=True)\n",
    "    def match(self,write:str='w'):\n",
    "        if write == 'w':\n",
    "            for i,trans in self.transaction.iterrows():\n",
    "                trades = self.potential_trades[(self.potential_trades['MBO_TIME_RT']==trans.loc['TRADE_UPDATE_TIME_STAMP'])&(self.potential_trades['Price']==trans.loc['LAST_TRADE_PRICE_TODAY_RT'])&(self.potential_trades['Size']==trans.loc['SIZE_LAST_TRADE_TDY'])]\n",
    "                if len(trades) == 2 and trades['Market_subtype'].to_list() == ['BID','ASK']:\n",
    "                    tradeA = trades.iloc[0].copy()\n",
    "                    tradeA['Market_subtype2'] = trades.iloc[1]['Market_subtype']\n",
    "                    tradeA['Broker Code2'] = trades.iloc[1]['Broker Code']\n",
    "                    tradeA['Order_ID2'] = trades.iloc[1]['Order_ID']\n",
    "                    self.identified_trades = self.identified_trades.append(tradeA)\n",
    "                else:\n",
    "                    self.identified_trades = pd.concat([self.identified_trades,trades],ignore_index=True)\n",
    "            self.identified_trades = self.identified_trades.drop_duplicates()\n",
    "            print('Done!')\n",
    "            self.identified_trades.to_csv(f'{self.stock_code}_identified_trades_{self.date}.csv')\n",
    "        else:\n",
    "            self.identified_trades = pd.read_csv(f'{self.stock_code}_identified_trades_{self.date}.csv',index_col=0)\n",
    "        if len(self.identified_trades) != len(self.transaction):\n",
    "            diff = len(self.identified_trades)-len(self.transaction)\n",
    "            print(f'There must be {int(abs(diff))} or more errors, please check:')\n",
    "            if diff > 0:\n",
    "                print('The code identified more trades than there actually is')\n",
    "            else:\n",
    "                print('Some trade(s) were missing')\n",
    "    def find_mdm(self):\n",
    "        ask_broker_dict = {}\n",
    "        bid_broker_dict = {}\n",
    "        broker_list =self.identified_trades['Broker Code']\n",
    "        broker_list2 = self.identified_trades['Broker Code2']\n",
    "        broker_list.append(broker_list2)\n",
    "        broker_list = set(broker_list)\n",
    "        for broker in broker_list:\n",
    "            broker_hist = self.identified_trades[self.identified_trades['Broker Code']==broker]\n",
    "            broker_hist2 = self.identified_trades[self.identified_trades['Broker Code2']==broker]\n",
    "            if len(broker_hist2)!=0:\n",
    "                ask_broker_hist = broker_hist[(broker_hist['Market_subtype'] == 'ASK')]\n",
    "                ask_broker_hist = pd.concat([ask_broker_hist,broker_hist2[broker_hist2['Market_subtype2']=='ASK']],ignore_index=True)\n",
    "                bid_broker_hist = broker_hist[(broker_hist['Market_subtype'] == 'BID')]\n",
    "                bid_broker_hist = pd.concat([bid_broker_hist,broker_hist2[broker_hist2['Market_subtype2']=='BID']],ignore_index=True)\n",
    "            else:\n",
    "                ask_broker_hist = broker_hist[broker_hist['Market_subtype'] == 'ASK']\n",
    "                bid_broker_hist = broker_hist[broker_hist['Market_subtype'] == 'BID']\n",
    "            if len(ask_broker_hist) != 0 and len(bid_broker_hist)!= 0:\n",
    "                ask_broker_dict[broker] = int(sum(ask_broker_hist['Size'].to_list()))\n",
    "                bid_broker_dict[broker] = int(sum(bid_broker_hist['Size'].to_list()))\n",
    "            elif len(ask_broker_hist)!=0 and len(bid_broker_hist)==0:\n",
    "                ask_broker_dict[broker] = int(sum(ask_broker_hist['Size'].to_list()))\n",
    "            else:\n",
    "                bid_broker_dict[broker] = int(sum(bid_broker_hist['Size'].to_list()))\n",
    "        self.ask_broker_dict = ask_broker_dict\n",
    "        self.bid_broker_dict = bid_broker_dict\n",
    "        self.mdm = pd.DataFrame(columns=['Bid Size','Ask Size'])\n",
    "        for broker in broker_list:\n",
    "            try:\n",
    "                bid_size = bid_broker_dict[broker]\n",
    "            except KeyError:\n",
    "                bid_size = 0\n",
    "            try:\n",
    "                ask_size = ask_broker_dict[broker]\n",
    "            except KeyError:\n",
    "                ask_size = 0\n",
    "            self.mdm.loc[broker] = [bid_size,ask_size]\n",
    "        self.mdm.reset_index(inplace=True)\n",
    "        self.mdm.columns = ['Broker Code','Bid Size','Ask Size']\n",
    "        self.mdm['Broker Code'] = self.mdm['Broker Code'].replace(codedict)\n",
    "        self.mdm.to_csv(f'{self.stock_code}_mdm_{self.date}.csv')\n",
    "        print('MDM saved as csv file!\\nDone!')\n",
    "\n",
    "    def plot(self):\n",
    "        brokers = self.mdm['Broker Code']\n",
    "        fig = go.Figure()\n",
    "        for col in self.mdm.columns[1:2]:\n",
    "            fig.add_trace(go.Bar(x=-self.mdm[col].values,y=brokers,orientation='h',name=col,customdata=self.mdm[col],text=self.mdm[col].values,hovertemplate=\"%{y}: %{customdata}\"))\n",
    "        for col in self.mdm.columns[2:]:\n",
    "            fig.add_trace(go.Bar(x=self.mdm[col].values,y=brokers,orientation='h',name = col,hovertemplate=\"%{y}: %{x}\",text=self.mdm[col].values))\n",
    "        fig.update_layout(barmode='relative',\n",
    "                          height=800,\n",
    "                          width=1400,\n",
    "                          yaxis_autorange='reversed',\n",
    "                          bargap=0.1,\n",
    "                          legend_orientation='h',\n",
    "                          legend_x=-0.05, legend_y=1.1)\n",
    "        fig.show()\n"
   ]
  },
  {
   "cell_type": "code",
   "execution_count": 29,
   "id": "9a50de52",
   "metadata": {},
   "outputs": [],
   "source": [
    "mt = match_trade(stock_code='2660',date='08-12-2021')"
   ]
  },
  {
   "cell_type": "code",
   "execution_count": 30,
   "id": "92069c2a",
   "metadata": {},
   "outputs": [],
   "source": [
    "mt.find_potential()"
   ]
  },
  {
   "cell_type": "code",
   "execution_count": 31,
   "id": "0ff5da63",
   "metadata": {},
   "outputs": [
    {
     "name": "stdout",
     "output_type": "stream",
     "text": [
      "Done!\n",
      "There must be 1 or more errors, please check:\n",
      "Some trade(s) were missing\n"
     ]
    }
   ],
   "source": [
    "mt.match(write='w')"
   ]
  },
  {
   "cell_type": "code",
   "execution_count": 32,
   "id": "dcb5c14e",
   "metadata": {},
   "outputs": [
    {
     "name": "stdout",
     "output_type": "stream",
     "text": [
      "MDM saved as csv file!\n",
      "Done!\n"
     ]
    }
   ],
   "source": [
    "mt.find_mdm()"
   ]
  },
  {
   "cell_type": "code",
   "execution_count": 33,
   "id": "ca8e25fa",
   "metadata": {},
   "outputs": [
    {
     "data": {
      "application/vnd.plotly.v1+json": {
       "config": {
        "plotlyServerURL": "https://plot.ly"
       },
       "data": [
        {
         "customdata": [
          2000,
          0,
          4000,
          10000,
          2000,
          10000,
          20000,
          2000,
          2000,
          4000,
          10000,
          68000,
          28000,
          0
         ],
         "hovertemplate": "%{y}: %{customdata}",
         "name": "Bid Size",
         "orientation": "h",
         "text": [
          2000,
          0,
          4000,
          10000,
          2000,
          10000,
          20000,
          2000,
          2000,
          4000,
          10000,
          68000,
          28000,
          0
         ],
         "type": "bar",
         "x": [
          -2000,
          0,
          -4000,
          -10000,
          -2000,
          -10000,
          -20000,
          -2000,
          -2000,
          -4000,
          -10000,
          -68000,
          -28000,
          0
         ],
         "y": [
          "Futu Securities International (Hong Kong) Limited",
          "Barclays Capital Asia Limited",
          "Unknown",
          "Chief Securities Limited",
          "Hang Seng Securities Limited",
          "BOCI Securities Limited",
          "Futu Securities International (Hong Kong) Limited",
          "Futu Securities International (Hong Kong) Limited",
          "Lego Securities Limited",
          "Po Sang Securities and Futures Limited",
          "Bright Smart Securities International (H.K.) Limited",
          "Hafoo Securities Limited",
          "Valuable Capital Limited",
          "UOB Kay Hian (Hong Kong) Limited"
         ]
        },
        {
         "hovertemplate": "%{y}: %{x}",
         "name": "Ask Size",
         "orientation": "h",
         "text": [
          0,
          4000,
          268000,
          0,
          0,
          0,
          0,
          0,
          0,
          0,
          0,
          0,
          0,
          8000
         ],
         "type": "bar",
         "x": [
          0,
          4000,
          268000,
          0,
          0,
          0,
          0,
          0,
          0,
          0,
          0,
          0,
          0,
          8000
         ],
         "y": [
          "Futu Securities International (Hong Kong) Limited",
          "Barclays Capital Asia Limited",
          "Unknown",
          "Chief Securities Limited",
          "Hang Seng Securities Limited",
          "BOCI Securities Limited",
          "Futu Securities International (Hong Kong) Limited",
          "Futu Securities International (Hong Kong) Limited",
          "Lego Securities Limited",
          "Po Sang Securities and Futures Limited",
          "Bright Smart Securities International (H.K.) Limited",
          "Hafoo Securities Limited",
          "Valuable Capital Limited",
          "UOB Kay Hian (Hong Kong) Limited"
         ]
        }
       ],
       "layout": {
        "bargap": 0.1,
        "barmode": "relative",
        "height": 800,
        "legend": {
         "orientation": "h",
         "x": -0.05,
         "y": 1.1
        },
        "template": {
         "data": {
          "bar": [
           {
            "error_x": {
             "color": "#2a3f5f"
            },
            "error_y": {
             "color": "#2a3f5f"
            },
            "marker": {
             "line": {
              "color": "#E5ECF6",
              "width": 0.5
             },
             "pattern": {
              "fillmode": "overlay",
              "size": 10,
              "solidity": 0.2
             }
            },
            "type": "bar"
           }
          ],
          "barpolar": [
           {
            "marker": {
             "line": {
              "color": "#E5ECF6",
              "width": 0.5
             },
             "pattern": {
              "fillmode": "overlay",
              "size": 10,
              "solidity": 0.2
             }
            },
            "type": "barpolar"
           }
          ],
          "carpet": [
           {
            "aaxis": {
             "endlinecolor": "#2a3f5f",
             "gridcolor": "white",
             "linecolor": "white",
             "minorgridcolor": "white",
             "startlinecolor": "#2a3f5f"
            },
            "baxis": {
             "endlinecolor": "#2a3f5f",
             "gridcolor": "white",
             "linecolor": "white",
             "minorgridcolor": "white",
             "startlinecolor": "#2a3f5f"
            },
            "type": "carpet"
           }
          ],
          "choropleth": [
           {
            "colorbar": {
             "outlinewidth": 0,
             "ticks": ""
            },
            "type": "choropleth"
           }
          ],
          "contour": [
           {
            "colorbar": {
             "outlinewidth": 0,
             "ticks": ""
            },
            "colorscale": [
             [
              0,
              "#0d0887"
             ],
             [
              0.1111111111111111,
              "#46039f"
             ],
             [
              0.2222222222222222,
              "#7201a8"
             ],
             [
              0.3333333333333333,
              "#9c179e"
             ],
             [
              0.4444444444444444,
              "#bd3786"
             ],
             [
              0.5555555555555556,
              "#d8576b"
             ],
             [
              0.6666666666666666,
              "#ed7953"
             ],
             [
              0.7777777777777778,
              "#fb9f3a"
             ],
             [
              0.8888888888888888,
              "#fdca26"
             ],
             [
              1,
              "#f0f921"
             ]
            ],
            "type": "contour"
           }
          ],
          "contourcarpet": [
           {
            "colorbar": {
             "outlinewidth": 0,
             "ticks": ""
            },
            "type": "contourcarpet"
           }
          ],
          "heatmap": [
           {
            "colorbar": {
             "outlinewidth": 0,
             "ticks": ""
            },
            "colorscale": [
             [
              0,
              "#0d0887"
             ],
             [
              0.1111111111111111,
              "#46039f"
             ],
             [
              0.2222222222222222,
              "#7201a8"
             ],
             [
              0.3333333333333333,
              "#9c179e"
             ],
             [
              0.4444444444444444,
              "#bd3786"
             ],
             [
              0.5555555555555556,
              "#d8576b"
             ],
             [
              0.6666666666666666,
              "#ed7953"
             ],
             [
              0.7777777777777778,
              "#fb9f3a"
             ],
             [
              0.8888888888888888,
              "#fdca26"
             ],
             [
              1,
              "#f0f921"
             ]
            ],
            "type": "heatmap"
           }
          ],
          "heatmapgl": [
           {
            "colorbar": {
             "outlinewidth": 0,
             "ticks": ""
            },
            "colorscale": [
             [
              0,
              "#0d0887"
             ],
             [
              0.1111111111111111,
              "#46039f"
             ],
             [
              0.2222222222222222,
              "#7201a8"
             ],
             [
              0.3333333333333333,
              "#9c179e"
             ],
             [
              0.4444444444444444,
              "#bd3786"
             ],
             [
              0.5555555555555556,
              "#d8576b"
             ],
             [
              0.6666666666666666,
              "#ed7953"
             ],
             [
              0.7777777777777778,
              "#fb9f3a"
             ],
             [
              0.8888888888888888,
              "#fdca26"
             ],
             [
              1,
              "#f0f921"
             ]
            ],
            "type": "heatmapgl"
           }
          ],
          "histogram": [
           {
            "marker": {
             "pattern": {
              "fillmode": "overlay",
              "size": 10,
              "solidity": 0.2
             }
            },
            "type": "histogram"
           }
          ],
          "histogram2d": [
           {
            "colorbar": {
             "outlinewidth": 0,
             "ticks": ""
            },
            "colorscale": [
             [
              0,
              "#0d0887"
             ],
             [
              0.1111111111111111,
              "#46039f"
             ],
             [
              0.2222222222222222,
              "#7201a8"
             ],
             [
              0.3333333333333333,
              "#9c179e"
             ],
             [
              0.4444444444444444,
              "#bd3786"
             ],
             [
              0.5555555555555556,
              "#d8576b"
             ],
             [
              0.6666666666666666,
              "#ed7953"
             ],
             [
              0.7777777777777778,
              "#fb9f3a"
             ],
             [
              0.8888888888888888,
              "#fdca26"
             ],
             [
              1,
              "#f0f921"
             ]
            ],
            "type": "histogram2d"
           }
          ],
          "histogram2dcontour": [
           {
            "colorbar": {
             "outlinewidth": 0,
             "ticks": ""
            },
            "colorscale": [
             [
              0,
              "#0d0887"
             ],
             [
              0.1111111111111111,
              "#46039f"
             ],
             [
              0.2222222222222222,
              "#7201a8"
             ],
             [
              0.3333333333333333,
              "#9c179e"
             ],
             [
              0.4444444444444444,
              "#bd3786"
             ],
             [
              0.5555555555555556,
              "#d8576b"
             ],
             [
              0.6666666666666666,
              "#ed7953"
             ],
             [
              0.7777777777777778,
              "#fb9f3a"
             ],
             [
              0.8888888888888888,
              "#fdca26"
             ],
             [
              1,
              "#f0f921"
             ]
            ],
            "type": "histogram2dcontour"
           }
          ],
          "mesh3d": [
           {
            "colorbar": {
             "outlinewidth": 0,
             "ticks": ""
            },
            "type": "mesh3d"
           }
          ],
          "parcoords": [
           {
            "line": {
             "colorbar": {
              "outlinewidth": 0,
              "ticks": ""
             }
            },
            "type": "parcoords"
           }
          ],
          "pie": [
           {
            "automargin": true,
            "type": "pie"
           }
          ],
          "scatter": [
           {
            "marker": {
             "colorbar": {
              "outlinewidth": 0,
              "ticks": ""
             }
            },
            "type": "scatter"
           }
          ],
          "scatter3d": [
           {
            "line": {
             "colorbar": {
              "outlinewidth": 0,
              "ticks": ""
             }
            },
            "marker": {
             "colorbar": {
              "outlinewidth": 0,
              "ticks": ""
             }
            },
            "type": "scatter3d"
           }
          ],
          "scattercarpet": [
           {
            "marker": {
             "colorbar": {
              "outlinewidth": 0,
              "ticks": ""
             }
            },
            "type": "scattercarpet"
           }
          ],
          "scattergeo": [
           {
            "marker": {
             "colorbar": {
              "outlinewidth": 0,
              "ticks": ""
             }
            },
            "type": "scattergeo"
           }
          ],
          "scattergl": [
           {
            "marker": {
             "colorbar": {
              "outlinewidth": 0,
              "ticks": ""
             }
            },
            "type": "scattergl"
           }
          ],
          "scattermapbox": [
           {
            "marker": {
             "colorbar": {
              "outlinewidth": 0,
              "ticks": ""
             }
            },
            "type": "scattermapbox"
           }
          ],
          "scatterpolar": [
           {
            "marker": {
             "colorbar": {
              "outlinewidth": 0,
              "ticks": ""
             }
            },
            "type": "scatterpolar"
           }
          ],
          "scatterpolargl": [
           {
            "marker": {
             "colorbar": {
              "outlinewidth": 0,
              "ticks": ""
             }
            },
            "type": "scatterpolargl"
           }
          ],
          "scatterternary": [
           {
            "marker": {
             "colorbar": {
              "outlinewidth": 0,
              "ticks": ""
             }
            },
            "type": "scatterternary"
           }
          ],
          "surface": [
           {
            "colorbar": {
             "outlinewidth": 0,
             "ticks": ""
            },
            "colorscale": [
             [
              0,
              "#0d0887"
             ],
             [
              0.1111111111111111,
              "#46039f"
             ],
             [
              0.2222222222222222,
              "#7201a8"
             ],
             [
              0.3333333333333333,
              "#9c179e"
             ],
             [
              0.4444444444444444,
              "#bd3786"
             ],
             [
              0.5555555555555556,
              "#d8576b"
             ],
             [
              0.6666666666666666,
              "#ed7953"
             ],
             [
              0.7777777777777778,
              "#fb9f3a"
             ],
             [
              0.8888888888888888,
              "#fdca26"
             ],
             [
              1,
              "#f0f921"
             ]
            ],
            "type": "surface"
           }
          ],
          "table": [
           {
            "cells": {
             "fill": {
              "color": "#EBF0F8"
             },
             "line": {
              "color": "white"
             }
            },
            "header": {
             "fill": {
              "color": "#C8D4E3"
             },
             "line": {
              "color": "white"
             }
            },
            "type": "table"
           }
          ]
         },
         "layout": {
          "annotationdefaults": {
           "arrowcolor": "#2a3f5f",
           "arrowhead": 0,
           "arrowwidth": 1
          },
          "autotypenumbers": "strict",
          "coloraxis": {
           "colorbar": {
            "outlinewidth": 0,
            "ticks": ""
           }
          },
          "colorscale": {
           "diverging": [
            [
             0,
             "#8e0152"
            ],
            [
             0.1,
             "#c51b7d"
            ],
            [
             0.2,
             "#de77ae"
            ],
            [
             0.3,
             "#f1b6da"
            ],
            [
             0.4,
             "#fde0ef"
            ],
            [
             0.5,
             "#f7f7f7"
            ],
            [
             0.6,
             "#e6f5d0"
            ],
            [
             0.7,
             "#b8e186"
            ],
            [
             0.8,
             "#7fbc41"
            ],
            [
             0.9,
             "#4d9221"
            ],
            [
             1,
             "#276419"
            ]
           ],
           "sequential": [
            [
             0,
             "#0d0887"
            ],
            [
             0.1111111111111111,
             "#46039f"
            ],
            [
             0.2222222222222222,
             "#7201a8"
            ],
            [
             0.3333333333333333,
             "#9c179e"
            ],
            [
             0.4444444444444444,
             "#bd3786"
            ],
            [
             0.5555555555555556,
             "#d8576b"
            ],
            [
             0.6666666666666666,
             "#ed7953"
            ],
            [
             0.7777777777777778,
             "#fb9f3a"
            ],
            [
             0.8888888888888888,
             "#fdca26"
            ],
            [
             1,
             "#f0f921"
            ]
           ],
           "sequentialminus": [
            [
             0,
             "#0d0887"
            ],
            [
             0.1111111111111111,
             "#46039f"
            ],
            [
             0.2222222222222222,
             "#7201a8"
            ],
            [
             0.3333333333333333,
             "#9c179e"
            ],
            [
             0.4444444444444444,
             "#bd3786"
            ],
            [
             0.5555555555555556,
             "#d8576b"
            ],
            [
             0.6666666666666666,
             "#ed7953"
            ],
            [
             0.7777777777777778,
             "#fb9f3a"
            ],
            [
             0.8888888888888888,
             "#fdca26"
            ],
            [
             1,
             "#f0f921"
            ]
           ]
          },
          "colorway": [
           "#636efa",
           "#EF553B",
           "#00cc96",
           "#ab63fa",
           "#FFA15A",
           "#19d3f3",
           "#FF6692",
           "#B6E880",
           "#FF97FF",
           "#FECB52"
          ],
          "font": {
           "color": "#2a3f5f"
          },
          "geo": {
           "bgcolor": "white",
           "lakecolor": "white",
           "landcolor": "#E5ECF6",
           "showlakes": true,
           "showland": true,
           "subunitcolor": "white"
          },
          "hoverlabel": {
           "align": "left"
          },
          "hovermode": "closest",
          "mapbox": {
           "style": "light"
          },
          "paper_bgcolor": "white",
          "plot_bgcolor": "#E5ECF6",
          "polar": {
           "angularaxis": {
            "gridcolor": "white",
            "linecolor": "white",
            "ticks": ""
           },
           "bgcolor": "#E5ECF6",
           "radialaxis": {
            "gridcolor": "white",
            "linecolor": "white",
            "ticks": ""
           }
          },
          "scene": {
           "xaxis": {
            "backgroundcolor": "#E5ECF6",
            "gridcolor": "white",
            "gridwidth": 2,
            "linecolor": "white",
            "showbackground": true,
            "ticks": "",
            "zerolinecolor": "white"
           },
           "yaxis": {
            "backgroundcolor": "#E5ECF6",
            "gridcolor": "white",
            "gridwidth": 2,
            "linecolor": "white",
            "showbackground": true,
            "ticks": "",
            "zerolinecolor": "white"
           },
           "zaxis": {
            "backgroundcolor": "#E5ECF6",
            "gridcolor": "white",
            "gridwidth": 2,
            "linecolor": "white",
            "showbackground": true,
            "ticks": "",
            "zerolinecolor": "white"
           }
          },
          "shapedefaults": {
           "line": {
            "color": "#2a3f5f"
           }
          },
          "ternary": {
           "aaxis": {
            "gridcolor": "white",
            "linecolor": "white",
            "ticks": ""
           },
           "baxis": {
            "gridcolor": "white",
            "linecolor": "white",
            "ticks": ""
           },
           "bgcolor": "#E5ECF6",
           "caxis": {
            "gridcolor": "white",
            "linecolor": "white",
            "ticks": ""
           }
          },
          "title": {
           "x": 0.05
          },
          "xaxis": {
           "automargin": true,
           "gridcolor": "white",
           "linecolor": "white",
           "ticks": "",
           "title": {
            "standoff": 15
           },
           "zerolinecolor": "white",
           "zerolinewidth": 2
          },
          "yaxis": {
           "automargin": true,
           "gridcolor": "white",
           "linecolor": "white",
           "ticks": "",
           "title": {
            "standoff": 15
           },
           "zerolinecolor": "white",
           "zerolinewidth": 2
          }
         }
        },
        "width": 1400,
        "yaxis": {
         "autorange": "reversed"
        }
       }
      },
      "text/html": [
       "<div>                            <div id=\"72a5fc6d-26e3-4792-8ea9-a1a3fced8b95\" class=\"plotly-graph-div\" style=\"height:800px; width:1400px;\"></div>            <script type=\"text/javascript\">                require([\"plotly\"], function(Plotly) {                    window.PLOTLYENV=window.PLOTLYENV || {};                                    if (document.getElementById(\"72a5fc6d-26e3-4792-8ea9-a1a3fced8b95\")) {                    Plotly.newPlot(                        \"72a5fc6d-26e3-4792-8ea9-a1a3fced8b95\",                        [{\"customdata\":[2000,0,4000,10000,2000,10000,20000,2000,2000,4000,10000,68000,28000,0],\"hovertemplate\":\"%{y}: %{customdata}\",\"name\":\"Bid Size\",\"orientation\":\"h\",\"text\":[2000,0,4000,10000,2000,10000,20000,2000,2000,4000,10000,68000,28000,0],\"type\":\"bar\",\"x\":[-2000,0,-4000,-10000,-2000,-10000,-20000,-2000,-2000,-4000,-10000,-68000,-28000,0],\"y\":[\"Futu Securities International (Hong Kong) Limited\",\"Barclays Capital Asia Limited\",\"Unknown\",\"Chief Securities Limited\",\"Hang Seng Securities Limited\",\"BOCI Securities Limited\",\"Futu Securities International (Hong Kong) Limited\",\"Futu Securities International (Hong Kong) Limited\",\"Lego Securities Limited\",\"Po Sang Securities and Futures Limited\",\"Bright Smart Securities International (H.K.) Limited\",\"Hafoo Securities Limited\",\"Valuable Capital Limited\",\"UOB Kay Hian (Hong Kong) Limited\"]},{\"hovertemplate\":\"%{y}: %{x}\",\"name\":\"Ask Size\",\"orientation\":\"h\",\"text\":[0,4000,268000,0,0,0,0,0,0,0,0,0,0,8000],\"type\":\"bar\",\"x\":[0,4000,268000,0,0,0,0,0,0,0,0,0,0,8000],\"y\":[\"Futu Securities International (Hong Kong) Limited\",\"Barclays Capital Asia Limited\",\"Unknown\",\"Chief Securities Limited\",\"Hang Seng Securities Limited\",\"BOCI Securities Limited\",\"Futu Securities International (Hong Kong) Limited\",\"Futu Securities International (Hong Kong) Limited\",\"Lego Securities Limited\",\"Po Sang Securities and Futures Limited\",\"Bright Smart Securities International (H.K.) Limited\",\"Hafoo Securities Limited\",\"Valuable Capital Limited\",\"UOB Kay Hian (Hong Kong) Limited\"]}],                        {\"bargap\":0.1,\"barmode\":\"relative\",\"height\":800,\"legend\":{\"orientation\":\"h\",\"x\":-0.05,\"y\":1.1},\"template\":{\"data\":{\"bar\":[{\"error_x\":{\"color\":\"#2a3f5f\"},\"error_y\":{\"color\":\"#2a3f5f\"},\"marker\":{\"line\":{\"color\":\"#E5ECF6\",\"width\":0.5},\"pattern\":{\"fillmode\":\"overlay\",\"size\":10,\"solidity\":0.2}},\"type\":\"bar\"}],\"barpolar\":[{\"marker\":{\"line\":{\"color\":\"#E5ECF6\",\"width\":0.5},\"pattern\":{\"fillmode\":\"overlay\",\"size\":10,\"solidity\":0.2}},\"type\":\"barpolar\"}],\"carpet\":[{\"aaxis\":{\"endlinecolor\":\"#2a3f5f\",\"gridcolor\":\"white\",\"linecolor\":\"white\",\"minorgridcolor\":\"white\",\"startlinecolor\":\"#2a3f5f\"},\"baxis\":{\"endlinecolor\":\"#2a3f5f\",\"gridcolor\":\"white\",\"linecolor\":\"white\",\"minorgridcolor\":\"white\",\"startlinecolor\":\"#2a3f5f\"},\"type\":\"carpet\"}],\"choropleth\":[{\"colorbar\":{\"outlinewidth\":0,\"ticks\":\"\"},\"type\":\"choropleth\"}],\"contour\":[{\"colorbar\":{\"outlinewidth\":0,\"ticks\":\"\"},\"colorscale\":[[0.0,\"#0d0887\"],[0.1111111111111111,\"#46039f\"],[0.2222222222222222,\"#7201a8\"],[0.3333333333333333,\"#9c179e\"],[0.4444444444444444,\"#bd3786\"],[0.5555555555555556,\"#d8576b\"],[0.6666666666666666,\"#ed7953\"],[0.7777777777777778,\"#fb9f3a\"],[0.8888888888888888,\"#fdca26\"],[1.0,\"#f0f921\"]],\"type\":\"contour\"}],\"contourcarpet\":[{\"colorbar\":{\"outlinewidth\":0,\"ticks\":\"\"},\"type\":\"contourcarpet\"}],\"heatmap\":[{\"colorbar\":{\"outlinewidth\":0,\"ticks\":\"\"},\"colorscale\":[[0.0,\"#0d0887\"],[0.1111111111111111,\"#46039f\"],[0.2222222222222222,\"#7201a8\"],[0.3333333333333333,\"#9c179e\"],[0.4444444444444444,\"#bd3786\"],[0.5555555555555556,\"#d8576b\"],[0.6666666666666666,\"#ed7953\"],[0.7777777777777778,\"#fb9f3a\"],[0.8888888888888888,\"#fdca26\"],[1.0,\"#f0f921\"]],\"type\":\"heatmap\"}],\"heatmapgl\":[{\"colorbar\":{\"outlinewidth\":0,\"ticks\":\"\"},\"colorscale\":[[0.0,\"#0d0887\"],[0.1111111111111111,\"#46039f\"],[0.2222222222222222,\"#7201a8\"],[0.3333333333333333,\"#9c179e\"],[0.4444444444444444,\"#bd3786\"],[0.5555555555555556,\"#d8576b\"],[0.6666666666666666,\"#ed7953\"],[0.7777777777777778,\"#fb9f3a\"],[0.8888888888888888,\"#fdca26\"],[1.0,\"#f0f921\"]],\"type\":\"heatmapgl\"}],\"histogram\":[{\"marker\":{\"pattern\":{\"fillmode\":\"overlay\",\"size\":10,\"solidity\":0.2}},\"type\":\"histogram\"}],\"histogram2d\":[{\"colorbar\":{\"outlinewidth\":0,\"ticks\":\"\"},\"colorscale\":[[0.0,\"#0d0887\"],[0.1111111111111111,\"#46039f\"],[0.2222222222222222,\"#7201a8\"],[0.3333333333333333,\"#9c179e\"],[0.4444444444444444,\"#bd3786\"],[0.5555555555555556,\"#d8576b\"],[0.6666666666666666,\"#ed7953\"],[0.7777777777777778,\"#fb9f3a\"],[0.8888888888888888,\"#fdca26\"],[1.0,\"#f0f921\"]],\"type\":\"histogram2d\"}],\"histogram2dcontour\":[{\"colorbar\":{\"outlinewidth\":0,\"ticks\":\"\"},\"colorscale\":[[0.0,\"#0d0887\"],[0.1111111111111111,\"#46039f\"],[0.2222222222222222,\"#7201a8\"],[0.3333333333333333,\"#9c179e\"],[0.4444444444444444,\"#bd3786\"],[0.5555555555555556,\"#d8576b\"],[0.6666666666666666,\"#ed7953\"],[0.7777777777777778,\"#fb9f3a\"],[0.8888888888888888,\"#fdca26\"],[1.0,\"#f0f921\"]],\"type\":\"histogram2dcontour\"}],\"mesh3d\":[{\"colorbar\":{\"outlinewidth\":0,\"ticks\":\"\"},\"type\":\"mesh3d\"}],\"parcoords\":[{\"line\":{\"colorbar\":{\"outlinewidth\":0,\"ticks\":\"\"}},\"type\":\"parcoords\"}],\"pie\":[{\"automargin\":true,\"type\":\"pie\"}],\"scatter\":[{\"marker\":{\"colorbar\":{\"outlinewidth\":0,\"ticks\":\"\"}},\"type\":\"scatter\"}],\"scatter3d\":[{\"line\":{\"colorbar\":{\"outlinewidth\":0,\"ticks\":\"\"}},\"marker\":{\"colorbar\":{\"outlinewidth\":0,\"ticks\":\"\"}},\"type\":\"scatter3d\"}],\"scattercarpet\":[{\"marker\":{\"colorbar\":{\"outlinewidth\":0,\"ticks\":\"\"}},\"type\":\"scattercarpet\"}],\"scattergeo\":[{\"marker\":{\"colorbar\":{\"outlinewidth\":0,\"ticks\":\"\"}},\"type\":\"scattergeo\"}],\"scattergl\":[{\"marker\":{\"colorbar\":{\"outlinewidth\":0,\"ticks\":\"\"}},\"type\":\"scattergl\"}],\"scattermapbox\":[{\"marker\":{\"colorbar\":{\"outlinewidth\":0,\"ticks\":\"\"}},\"type\":\"scattermapbox\"}],\"scatterpolar\":[{\"marker\":{\"colorbar\":{\"outlinewidth\":0,\"ticks\":\"\"}},\"type\":\"scatterpolar\"}],\"scatterpolargl\":[{\"marker\":{\"colorbar\":{\"outlinewidth\":0,\"ticks\":\"\"}},\"type\":\"scatterpolargl\"}],\"scatterternary\":[{\"marker\":{\"colorbar\":{\"outlinewidth\":0,\"ticks\":\"\"}},\"type\":\"scatterternary\"}],\"surface\":[{\"colorbar\":{\"outlinewidth\":0,\"ticks\":\"\"},\"colorscale\":[[0.0,\"#0d0887\"],[0.1111111111111111,\"#46039f\"],[0.2222222222222222,\"#7201a8\"],[0.3333333333333333,\"#9c179e\"],[0.4444444444444444,\"#bd3786\"],[0.5555555555555556,\"#d8576b\"],[0.6666666666666666,\"#ed7953\"],[0.7777777777777778,\"#fb9f3a\"],[0.8888888888888888,\"#fdca26\"],[1.0,\"#f0f921\"]],\"type\":\"surface\"}],\"table\":[{\"cells\":{\"fill\":{\"color\":\"#EBF0F8\"},\"line\":{\"color\":\"white\"}},\"header\":{\"fill\":{\"color\":\"#C8D4E3\"},\"line\":{\"color\":\"white\"}},\"type\":\"table\"}]},\"layout\":{\"annotationdefaults\":{\"arrowcolor\":\"#2a3f5f\",\"arrowhead\":0,\"arrowwidth\":1},\"autotypenumbers\":\"strict\",\"coloraxis\":{\"colorbar\":{\"outlinewidth\":0,\"ticks\":\"\"}},\"colorscale\":{\"diverging\":[[0,\"#8e0152\"],[0.1,\"#c51b7d\"],[0.2,\"#de77ae\"],[0.3,\"#f1b6da\"],[0.4,\"#fde0ef\"],[0.5,\"#f7f7f7\"],[0.6,\"#e6f5d0\"],[0.7,\"#b8e186\"],[0.8,\"#7fbc41\"],[0.9,\"#4d9221\"],[1,\"#276419\"]],\"sequential\":[[0.0,\"#0d0887\"],[0.1111111111111111,\"#46039f\"],[0.2222222222222222,\"#7201a8\"],[0.3333333333333333,\"#9c179e\"],[0.4444444444444444,\"#bd3786\"],[0.5555555555555556,\"#d8576b\"],[0.6666666666666666,\"#ed7953\"],[0.7777777777777778,\"#fb9f3a\"],[0.8888888888888888,\"#fdca26\"],[1.0,\"#f0f921\"]],\"sequentialminus\":[[0.0,\"#0d0887\"],[0.1111111111111111,\"#46039f\"],[0.2222222222222222,\"#7201a8\"],[0.3333333333333333,\"#9c179e\"],[0.4444444444444444,\"#bd3786\"],[0.5555555555555556,\"#d8576b\"],[0.6666666666666666,\"#ed7953\"],[0.7777777777777778,\"#fb9f3a\"],[0.8888888888888888,\"#fdca26\"],[1.0,\"#f0f921\"]]},\"colorway\":[\"#636efa\",\"#EF553B\",\"#00cc96\",\"#ab63fa\",\"#FFA15A\",\"#19d3f3\",\"#FF6692\",\"#B6E880\",\"#FF97FF\",\"#FECB52\"],\"font\":{\"color\":\"#2a3f5f\"},\"geo\":{\"bgcolor\":\"white\",\"lakecolor\":\"white\",\"landcolor\":\"#E5ECF6\",\"showlakes\":true,\"showland\":true,\"subunitcolor\":\"white\"},\"hoverlabel\":{\"align\":\"left\"},\"hovermode\":\"closest\",\"mapbox\":{\"style\":\"light\"},\"paper_bgcolor\":\"white\",\"plot_bgcolor\":\"#E5ECF6\",\"polar\":{\"angularaxis\":{\"gridcolor\":\"white\",\"linecolor\":\"white\",\"ticks\":\"\"},\"bgcolor\":\"#E5ECF6\",\"radialaxis\":{\"gridcolor\":\"white\",\"linecolor\":\"white\",\"ticks\":\"\"}},\"scene\":{\"xaxis\":{\"backgroundcolor\":\"#E5ECF6\",\"gridcolor\":\"white\",\"gridwidth\":2,\"linecolor\":\"white\",\"showbackground\":true,\"ticks\":\"\",\"zerolinecolor\":\"white\"},\"yaxis\":{\"backgroundcolor\":\"#E5ECF6\",\"gridcolor\":\"white\",\"gridwidth\":2,\"linecolor\":\"white\",\"showbackground\":true,\"ticks\":\"\",\"zerolinecolor\":\"white\"},\"zaxis\":{\"backgroundcolor\":\"#E5ECF6\",\"gridcolor\":\"white\",\"gridwidth\":2,\"linecolor\":\"white\",\"showbackground\":true,\"ticks\":\"\",\"zerolinecolor\":\"white\"}},\"shapedefaults\":{\"line\":{\"color\":\"#2a3f5f\"}},\"ternary\":{\"aaxis\":{\"gridcolor\":\"white\",\"linecolor\":\"white\",\"ticks\":\"\"},\"baxis\":{\"gridcolor\":\"white\",\"linecolor\":\"white\",\"ticks\":\"\"},\"bgcolor\":\"#E5ECF6\",\"caxis\":{\"gridcolor\":\"white\",\"linecolor\":\"white\",\"ticks\":\"\"}},\"title\":{\"x\":0.05},\"xaxis\":{\"automargin\":true,\"gridcolor\":\"white\",\"linecolor\":\"white\",\"ticks\":\"\",\"title\":{\"standoff\":15},\"zerolinecolor\":\"white\",\"zerolinewidth\":2},\"yaxis\":{\"automargin\":true,\"gridcolor\":\"white\",\"linecolor\":\"white\",\"ticks\":\"\",\"title\":{\"standoff\":15},\"zerolinecolor\":\"white\",\"zerolinewidth\":2}}},\"width\":1400,\"yaxis\":{\"autorange\":\"reversed\"}},                        {\"responsive\": true}                    ).then(function(){\n",
       "                            \n",
       "var gd = document.getElementById('72a5fc6d-26e3-4792-8ea9-a1a3fced8b95');\n",
       "var x = new MutationObserver(function (mutations, observer) {{\n",
       "        var display = window.getComputedStyle(gd).display;\n",
       "        if (!display || display === 'none') {{\n",
       "            console.log([gd, 'removed!']);\n",
       "            Plotly.purge(gd);\n",
       "            observer.disconnect();\n",
       "        }}\n",
       "}});\n",
       "\n",
       "// Listen for the removal of the full notebook cells\n",
       "var notebookContainer = gd.closest('#notebook-container');\n",
       "if (notebookContainer) {{\n",
       "    x.observe(notebookContainer, {childList: true});\n",
       "}}\n",
       "\n",
       "// Listen for the clearing of the current output cell\n",
       "var outputEl = gd.closest('.output');\n",
       "if (outputEl) {{\n",
       "    x.observe(outputEl, {childList: true});\n",
       "}}\n",
       "\n",
       "                        })                };                });            </script>        </div>"
      ]
     },
     "metadata": {},
     "output_type": "display_data"
    }
   ],
   "source": [
    "mt.plot()"
   ]
  },
  {
   "cell_type": "code",
   "execution_count": null,
   "id": "f7c2aed8",
   "metadata": {},
   "outputs": [],
   "source": []
  }
 ],
 "metadata": {
  "kernelspec": {
   "display_name": "Python 3",
   "language": "python",
   "name": "python3"
  },
  "language_info": {
   "codemirror_mode": {
    "name": "ipython",
    "version": 3
   },
   "file_extension": ".py",
   "mimetype": "text/x-python",
   "name": "python",
   "nbconvert_exporter": "python",
   "pygments_lexer": "ipython3",
   "version": "3.8.8"
  }
 },
 "nbformat": 4,
 "nbformat_minor": 5
}
